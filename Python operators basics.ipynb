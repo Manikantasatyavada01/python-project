{
 "cells": [
  {
   "cell_type": "code",
   "execution_count": 1,
   "id": "2608b95b-64e4-49a2-93c7-5485fb19e700",
   "metadata": {
    "execution": {
     "iopub.execute_input": "2025-06-12T13:27:24.595034Z",
     "iopub.status.busy": "2025-06-12T13:27:24.595034Z",
     "iopub.status.idle": "2025-06-12T13:27:24.615157Z",
     "shell.execute_reply": "2025-06-12T13:27:24.615157Z",
     "shell.execute_reply.started": "2025-06-12T13:27:24.595034Z"
    }
   },
   "outputs": [
    {
     "name": "stdout",
     "output_type": "stream",
     "text": [
      "john have 13 fruits\n"
     ]
    }
   ],
   "source": [
    "1.# John has 6 apples and 7 bananas. How many fruits does John have?\n",
    "apples=6\n",
    "bananas=7\n",
    "x=apples+bananas\n",
    "print(\"john have\",x,\"fruits\")"
   ]
  },
  {
   "cell_type": "code",
   "execution_count": 2,
   "id": "f875d573-1444-4efa-8d87-e3da66b88896",
   "metadata": {
    "execution": {
     "iopub.execute_input": "2025-06-12T13:29:26.529648Z",
     "iopub.status.busy": "2025-06-12T13:29:26.529648Z",
     "iopub.status.idle": "2025-06-12T13:29:26.545653Z",
     "shell.execute_reply": "2025-06-12T13:29:26.544135Z",
     "shell.execute_reply.started": "2025-06-12T13:29:26.529648Z"
    }
   },
   "outputs": [
    {
     "name": "stdout",
     "output_type": "stream",
     "text": [
      "True\n"
     ]
    }
   ],
   "source": [
    "# Emma read 15 pages yesterday and 10 pages today. Did she read more than 20 pages in total?\n",
    "x=15\n",
    "y=10\n",
    "z=x+y>=20\n",
    "print(z)"
   ]
  },
  {
   "cell_type": "code",
   "execution_count": 6,
   "id": "92cfa4aa-a603-493d-94be-718b958310bd",
   "metadata": {
    "execution": {
     "iopub.execute_input": "2025-06-12T13:34:10.617085Z",
     "iopub.status.busy": "2025-06-12T13:34:10.617085Z",
     "iopub.status.idle": "2025-06-12T13:34:10.627717Z",
     "shell.execute_reply": "2025-06-12T13:34:10.627717Z",
     "shell.execute_reply.started": "2025-06-12T13:34:10.617085Z"
    }
   },
   "outputs": [
    {
     "name": "stdout",
     "output_type": "stream",
     "text": [
      "True\n"
     ]
    }
   ],
   "source": [
    "# A bag contains 12 red balls and 8 blue balls. Is the number of red balls greater than blue balls?\n",
    "redballs=12\n",
    "blueballs=8\n",
    "x=redballs > blueballs\n",
    "print(x)"
   ]
  },
  {
   "cell_type": "code",
   "execution_count": 8,
   "id": "7e5d6bc8-bdaf-46c7-a1b0-c941e0598d88",
   "metadata": {
    "execution": {
     "iopub.execute_input": "2025-06-12T13:39:00.662071Z",
     "iopub.status.busy": "2025-06-12T13:39:00.662071Z",
     "iopub.status.idle": "2025-06-12T13:39:00.671087Z",
     "shell.execute_reply": "2025-06-12T13:39:00.671087Z",
     "shell.execute_reply.started": "2025-06-12T13:39:00.662071Z"
    }
   },
   "outputs": [
    {
     "name": "stdout",
     "output_type": "stream",
     "text": [
      "18\n"
     ]
    }
   ],
   "source": [
    "# Mike had 30 candies and gave 12 to his friend. How many does he have now?\n",
    "mike=30\n",
    "friend=12\n",
    "x=mike-friend\n",
    "print(x)"
   ]
  },
  {
   "cell_type": "code",
   "execution_count": 11,
   "id": "d36c456f-0ff1-465c-a497-231db8619677",
   "metadata": {
    "execution": {
     "iopub.execute_input": "2025-06-12T13:47:09.429521Z",
     "iopub.status.busy": "2025-06-12T13:47:09.429521Z",
     "iopub.status.idle": "2025-06-12T13:47:09.439808Z",
     "shell.execute_reply": "2025-06-12T13:47:09.439808Z",
     "shell.execute_reply.started": "2025-06-12T13:47:09.429521Z"
    }
   },
   "outputs": [
    {
     "name": "stdout",
     "output_type": "stream",
     "text": [
      "she spend 15 ruppes\n"
     ]
    }
   ],
   "source": [
    "# Sarah bought 5 pens at $3 each. How much did she spend?\n",
    "pens=5\n",
    "cost=3\n",
    "x=5*3\n",
    "print(\"she spend\",x,\"ruppes\")\n"
   ]
  },
  {
   "cell_type": "code",
   "execution_count": 13,
   "id": "c7622cf6-a610-4704-8937-f24ec58e3287",
   "metadata": {
    "execution": {
     "iopub.execute_input": "2025-06-12T13:53:02.346086Z",
     "iopub.status.busy": "2025-06-12T13:53:02.346086Z",
     "iopub.status.idle": "2025-06-12T13:53:02.354602Z",
     "shell.execute_reply": "2025-06-12T13:53:02.354602Z",
     "shell.execute_reply.started": "2025-06-12T13:53:02.346086Z"
    }
   },
   "outputs": [
    {
     "name": "stdout",
     "output_type": "stream",
     "text": [
      "each get 9.0 cookies\n"
     ]
    }
   ],
   "source": [
    "#There are 45 cookies equally divided among 5 kids. How many does each get?\n",
    "cake=45\n",
    "kid=5\n",
    "x=cake/kid\n",
    "print(\"each get\",x,\"cookies\")"
   ]
  },
  {
   "cell_type": "code",
   "execution_count": 14,
   "id": "5331e6e1-6f73-410e-bcea-908441b7ec6a",
   "metadata": {
    "execution": {
     "iopub.execute_input": "2025-06-12T13:56:12.295124Z",
     "iopub.status.busy": "2025-06-12T13:56:12.295124Z",
     "iopub.status.idle": "2025-06-12T13:56:12.304047Z",
     "shell.execute_reply": "2025-06-12T13:56:12.304047Z",
     "shell.execute_reply.started": "2025-06-12T13:56:12.295124Z"
    }
   },
   "outputs": [
    {
     "name": "stdout",
     "output_type": "stream",
     "text": [
      "True\n"
     ]
    }
   ],
   "source": [
    "#Tom scored 89 in math and 76 in science. Did he score more than 160 in total?\n",
    "math=89\n",
    "science=76\n",
    "x=math+science>160\n",
    "print(x)"
   ]
  },
  {
   "cell_type": "code",
   "execution_count": 15,
   "id": "2d221ac5-8cd6-49d3-8211-997829b950b2",
   "metadata": {
    "execution": {
     "iopub.execute_input": "2025-06-12T13:59:53.920666Z",
     "iopub.status.busy": "2025-06-12T13:59:53.920666Z",
     "iopub.status.idle": "2025-06-12T13:59:53.931746Z",
     "shell.execute_reply": "2025-06-12T13:59:53.931746Z",
     "shell.execute_reply.started": "2025-06-12T13:59:53.920666Z"
    }
   },
   "outputs": [
    {
     "name": "stdout",
     "output_type": "stream",
     "text": [
      "False\n"
     ]
    }
   ],
   "source": [
    "#A store sells apples at $2.50 each. If you buy 4, is the total cost more than $10?\n",
    "a=2.50\n",
    "b=4\n",
    "x=a*b>10\n",
    "print(x)\n"
   ]
  },
  {
   "cell_type": "code",
   "execution_count": 23,
   "id": "6a32ad54-dc9e-42d2-adfa-15b6200b7408",
   "metadata": {
    "execution": {
     "iopub.execute_input": "2025-06-12T14:06:23.962641Z",
     "iopub.status.busy": "2025-06-12T14:06:23.962641Z",
     "iopub.status.idle": "2025-06-12T14:06:23.972976Z",
     "shell.execute_reply": "2025-06-12T14:06:23.972976Z",
     "shell.execute_reply.started": "2025-06-12T14:06:23.962641Z"
    }
   },
   "outputs": [
    {
     "name": "stdout",
     "output_type": "stream",
     "text": [
      "she have 25 rs money left\n"
     ]
    }
   ],
   "source": [
    "# Alice has $100 and buys 3 books for $25 each. Will she have any money left?\n",
    "a=100\n",
    "b=3\n",
    "c=25\n",
    "x=a-(b*c)\n",
    "print(\"she have\",x,\"rs money left\")\n"
   ]
  },
  {
   "cell_type": "code",
   "execution_count": 28,
   "id": "b73cd302-a072-456c-8a86-a4b37d8e7720",
   "metadata": {
    "execution": {
     "iopub.execute_input": "2025-06-12T14:25:24.211991Z",
     "iopub.status.busy": "2025-06-12T14:25:24.211991Z",
     "iopub.status.idle": "2025-06-12T14:25:24.228049Z",
     "shell.execute_reply": "2025-06-12T14:25:24.227035Z",
     "shell.execute_reply.started": "2025-06-12T14:25:24.211991Z"
    }
   },
   "outputs": [
    {
     "name": "stdout",
     "output_type": "stream",
     "text": [
      "True\n"
     ]
    }
   ],
   "source": [
    "# A rectangle has length 10 and width 4. Is its area greater than its perimeter\n",
    "length=int(10)\n",
    "width=int(4)\n",
    "area=length*width\n",
    "perimeter=2*(length+width)\n",
    "print(area>perimeter)"
   ]
  },
  {
   "cell_type": "code",
   "execution_count": 29,
   "id": "138bee4b-951d-4522-bedc-f7925ee14293",
   "metadata": {
    "execution": {
     "iopub.execute_input": "2025-06-12T14:27:12.636782Z",
     "iopub.status.busy": "2025-06-12T14:27:12.636782Z",
     "iopub.status.idle": "2025-06-12T14:27:12.645600Z",
     "shell.execute_reply": "2025-06-12T14:27:12.645600Z",
     "shell.execute_reply.started": "2025-06-12T14:27:12.636782Z"
    }
   },
   "outputs": [
    {
     "name": "stdout",
     "output_type": "stream",
     "text": [
      "False\n"
     ]
    }
   ],
   "source": [
    "#  Two friends have 45 and 55 marbles respectively. Do they have equal number of marbles?\n",
    "a=45\n",
    "b=55\n",
    "x=a==b\n",
    "print(x)"
   ]
  },
  {
   "cell_type": "code",
   "execution_count": 30,
   "id": "390c507b-933e-479d-875b-c8c63de75860",
   "metadata": {
    "execution": {
     "iopub.execute_input": "2025-06-12T14:31:28.952284Z",
     "iopub.status.busy": "2025-06-12T14:31:28.952284Z",
     "iopub.status.idle": "2025-06-12T14:31:28.965071Z",
     "shell.execute_reply": "2025-06-12T14:31:28.965071Z",
     "shell.execute_reply.started": "2025-06-12T14:31:28.952284Z"
    }
   },
   "outputs": [
    {
     "name": "stdout",
     "output_type": "stream",
     "text": [
      "True\n"
     ]
    }
   ],
   "source": [
    "#A car travels 60 km in 1 hour and a bike 40 km in the same time. Is the car faster?\n",
    "car=60\n",
    "bike=40\n",
    "speed=car>bike\n",
    "print(speed)"
   ]
  },
  {
   "cell_type": "code",
   "execution_count": 31,
   "id": "88f75f81-01c6-4728-a1ca-632c40d3b36f",
   "metadata": {
    "execution": {
     "iopub.execute_input": "2025-06-12T14:33:42.730877Z",
     "iopub.status.busy": "2025-06-12T14:33:42.730877Z",
     "iopub.status.idle": "2025-06-12T14:33:42.747431Z",
     "shell.execute_reply": "2025-06-12T14:33:42.745472Z",
     "shell.execute_reply.started": "2025-06-12T14:33:42.730877Z"
    }
   },
   "outputs": [
    {
     "name": "stdout",
     "output_type": "stream",
     "text": [
      "False\n"
     ]
    }
   ],
   "source": [
    "#A chocolate costs $2. You have $9. Can you buy 5 chocolates?\n",
    "x=2\n",
    "y=9\n",
    "z=(5*2)<9\n",
    "print(z)"
   ]
  },
  {
   "cell_type": "code",
   "execution_count": 33,
   "id": "7405456a-94a8-4be9-8917-559868875942",
   "metadata": {
    "execution": {
     "iopub.execute_input": "2025-06-12T14:54:48.925187Z",
     "iopub.status.busy": "2025-06-12T14:54:48.925187Z",
     "iopub.status.idle": "2025-06-12T14:54:48.932871Z",
     "shell.execute_reply": "2025-06-12T14:54:48.932871Z",
     "shell.execute_reply.started": "2025-06-12T14:54:48.925187Z"
    }
   },
   "outputs": [
    {
     "name": "stdout",
     "output_type": "stream",
     "text": [
      "False\n"
     ]
    }
   ],
   "source": [
    "#A chocolate costs $2.You have $9. Can you buy 5 chocolates?\n",
    "a=2\n",
    "b=9\n",
    "c=5\n",
    "x=(5*2)<9\n",
    "print(x)"
   ]
  },
  {
   "cell_type": "code",
   "execution_count": 39,
   "id": "c58dcaa3-e475-4410-a0eb-92342062aaa4",
   "metadata": {
    "execution": {
     "iopub.execute_input": "2025-06-12T15:03:49.930051Z",
     "iopub.status.busy": "2025-06-12T15:03:49.930051Z",
     "iopub.status.idle": "2025-06-12T15:03:49.940841Z",
     "shell.execute_reply": "2025-06-12T15:03:49.940841Z",
     "shell.execute_reply.started": "2025-06-12T15:03:49.930051Z"
    }
   },
   "outputs": [
    {
     "name": "stdout",
     "output_type": "stream",
     "text": [
      "70\n",
      "True\n"
     ]
    }
   ],
   "source": [
    "# A container holds 100 liters of water. If 30 liters are used, is more than half remaining?\n",
    "a=100\n",
    "b=30\n",
    "c=a-b\n",
    "print(c)\n",
    "x=c>50\n",
    "print(x)\n"
   ]
  },
  {
   "cell_type": "code",
   "execution_count": 41,
   "id": "33dadb04-5952-437a-a8a0-9e245dcf2279",
   "metadata": {
    "execution": {
     "iopub.execute_input": "2025-06-12T15:07:02.960048Z",
     "iopub.status.busy": "2025-06-12T15:07:02.960048Z",
     "iopub.status.idle": "2025-06-12T15:07:02.976552Z",
     "shell.execute_reply": "2025-06-12T15:07:02.975105Z",
     "shell.execute_reply.started": "2025-06-12T15:07:02.960048Z"
    }
   },
   "outputs": [
    {
     "name": "stdout",
     "output_type": "stream",
     "text": [
      "even 30\n"
     ]
    }
   ],
   "source": [
    "# Two numbers are 13 and 17. Is their sum an even number?\n",
    "a=13\n",
    "b=17\n",
    "x=13+17\n",
    "print(\"even\",x)\n"
   ]
  },
  {
   "cell_type": "code",
   "execution_count": 43,
   "id": "71e3545f-d4ce-481f-8b33-26ca3045438c",
   "metadata": {
    "execution": {
     "iopub.execute_input": "2025-06-12T15:10:28.165533Z",
     "iopub.status.busy": "2025-06-12T15:10:28.164456Z",
     "iopub.status.idle": "2025-06-12T15:10:28.175865Z",
     "shell.execute_reply": "2025-06-12T15:10:28.175865Z",
     "shell.execute_reply.started": "2025-06-12T15:10:28.165533Z"
    }
   },
   "outputs": [
    {
     "name": "stdout",
     "output_type": "stream",
     "text": [
      "6.0\n",
      "False\n"
     ]
    }
   ],
   "source": [
    "# Peter has 5 books, each weighing 1.2 kg. Is the total weight more than 6 kg?\n",
    "a=5\n",
    "b=1.2\n",
    "c=(5*1.2)\n",
    "print(c)\n",
    "x=c>6\n",
    "print(x)"
   ]
  },
  {
   "cell_type": "code",
   "execution_count": 44,
   "id": "e443aee6-b4d2-47bd-bc0f-175d84089560",
   "metadata": {
    "execution": {
     "iopub.execute_input": "2025-06-12T15:19:05.608837Z",
     "iopub.status.busy": "2025-06-12T15:19:05.608837Z",
     "iopub.status.idle": "2025-06-12T15:19:05.620786Z",
     "shell.execute_reply": "2025-06-12T15:19:05.620786Z",
     "shell.execute_reply.started": "2025-06-12T15:19:05.608837Z"
    }
   },
   "outputs": [
    {
     "name": "stdout",
     "output_type": "stream",
     "text": [
      "True\n"
     ]
    }
   ],
   "source": [
    "# A triangle has sides 3, 4, and 5. Is it a right-angled triangle?\n",
    "a=3\n",
    "b=4\n",
    "c=5\n",
    "x=(a*a)+(b*b)==(c*c)\n",
    "print(x)"
   ]
  },
  {
   "cell_type": "code",
   "execution_count": 45,
   "id": "49e06cf7-7d05-471d-b4c9-5015a8ac7286",
   "metadata": {
    "execution": {
     "iopub.execute_input": "2025-06-12T15:26:40.261430Z",
     "iopub.status.busy": "2025-06-12T15:26:40.261430Z",
     "iopub.status.idle": "2025-06-12T15:26:40.277322Z",
     "shell.execute_reply": "2025-06-12T15:26:40.276296Z",
     "shell.execute_reply.started": "2025-06-12T15:26:40.261430Z"
    }
   },
   "outputs": [
    {
     "name": "stdout",
     "output_type": "stream",
     "text": [
      "True\n"
     ]
    }
   ],
   "source": [
    "#Jenny had $50, bought items worth $35. Does she have less than $20 left?\n",
    "jenny=50\n",
    "items=35\n",
    "cost=20\n",
    "x=jenny-items<20\n",
    "print(x)"
   ]
  },
  {
   "cell_type": "code",
   "execution_count": 46,
   "id": "593a5621-11d3-45e6-96b9-69e2dff238d0",
   "metadata": {
    "execution": {
     "iopub.execute_input": "2025-06-12T15:29:23.266567Z",
     "iopub.status.busy": "2025-06-12T15:29:23.266567Z",
     "iopub.status.idle": "2025-06-12T15:29:23.283046Z",
     "shell.execute_reply": "2025-06-12T15:29:23.280096Z",
     "shell.execute_reply.started": "2025-06-12T15:29:23.266567Z"
    }
   },
   "outputs": [
    {
     "name": "stdout",
     "output_type": "stream",
     "text": [
      "False\n"
     ]
    }
   ],
   "source": [
    "# A worker earns $80 per day. Is earning from 6 days more than $500?\n",
    "a=80\n",
    "b=a*6>500\n",
    "print(b)\n",
    "\n"
   ]
  },
  {
   "cell_type": "code",
   "execution_count": 47,
   "id": "969a68c3-0da2-403b-94c9-8aa1d609fb43",
   "metadata": {
    "execution": {
     "iopub.execute_input": "2025-06-12T15:32:13.187737Z",
     "iopub.status.busy": "2025-06-12T15:32:13.187737Z",
     "iopub.status.idle": "2025-06-12T15:32:13.203639Z",
     "shell.execute_reply": "2025-06-12T15:32:13.203639Z",
     "shell.execute_reply.started": "2025-06-12T15:32:13.187737Z"
    }
   },
   "outputs": [
    {
     "name": "stdout",
     "output_type": "stream",
     "text": [
      "48\n",
      "True\n"
     ]
    }
   ],
   "source": [
    "# A movie ticket costs $12. Can you buy 4 with $50?\n",
    "a=12\n",
    "b=a*4\n",
    "print(b)\n",
    "x=b<50\n",
    "print(x)"
   ]
  },
  {
   "cell_type": "code",
   "execution_count": 51,
   "id": "fbae0b3d-e66b-4cfa-a548-aa931bdd8a87",
   "metadata": {
    "execution": {
     "iopub.execute_input": "2025-06-12T15:35:41.088968Z",
     "iopub.status.busy": "2025-06-12T15:35:41.080415Z",
     "iopub.status.idle": "2025-06-12T15:35:41.097669Z",
     "shell.execute_reply": "2025-06-12T15:35:41.097669Z",
     "shell.execute_reply.started": "2025-06-12T15:35:41.088444Z"
    }
   },
   "outputs": [
    {
     "name": "stdout",
     "output_type": "stream",
     "text": [
      "3000\n",
      "True\n"
     ]
    }
   ],
   "source": [
    " #If a bottle contains 750ml, do 4 bottles hold more than 3 liters?\n",
    "a=750\n",
    "b=4*a\n",
    "print(b)\n",
    "x=b==3000\n",
    "print(x)\n"
   ]
  },
  {
   "cell_type": "code",
   "execution_count": 1,
   "id": "dcfa6560-9f70-463b-bb92-a3348e733057",
   "metadata": {
    "execution": {
     "iopub.execute_input": "2025-06-13T03:50:24.281043Z",
     "iopub.status.busy": "2025-06-13T03:50:24.275018Z",
     "iopub.status.idle": "2025-06-13T03:50:24.299382Z",
     "shell.execute_reply": "2025-06-13T03:50:24.299382Z",
     "shell.execute_reply.started": "2025-06-13T03:50:24.281043Z"
    }
   },
   "outputs": [
    {
     "name": "stdout",
     "output_type": "stream",
     "text": [
      "True\n"
     ]
    }
   ],
   "source": [
    "# Is the difference between 100 and 37 greater than 60?\n",
    "a=100\n",
    "b=37\n",
    "x=a-b>6\n",
    "print(x)"
   ]
  },
  {
   "cell_type": "code",
   "execution_count": 2,
   "id": "827c85d9-e958-43f9-ae53-878ea3007a2a",
   "metadata": {
    "execution": {
     "iopub.execute_input": "2025-06-13T08:29:54.936399Z",
     "iopub.status.busy": "2025-06-13T08:29:54.936399Z",
     "iopub.status.idle": "2025-06-13T08:29:54.943844Z",
     "shell.execute_reply": "2025-06-13T08:29:54.942835Z",
     "shell.execute_reply.started": "2025-06-13T08:29:54.936399Z"
    }
   },
   "outputs": [
    {
     "name": "stdout",
     "output_type": "stream",
     "text": [
      "True\n"
     ]
    }
   ],
   "source": [
    "# Does dividing 81 by 9 result in a number greater than 8?\n",
    "a=81\n",
    "b=9\n",
    "x=a/b>8\n",
    "print(x)"
   ]
  },
  {
   "cell_type": "code",
   "execution_count": 3,
   "id": "819c8e45-f95b-4456-a916-b6a078f7e230",
   "metadata": {
    "execution": {
     "iopub.execute_input": "2025-06-13T08:35:30.822621Z",
     "iopub.status.busy": "2025-06-13T08:35:30.821625Z",
     "iopub.status.idle": "2025-06-13T08:35:30.828836Z",
     "shell.execute_reply": "2025-06-13T08:35:30.827829Z",
     "shell.execute_reply.started": "2025-06-13T08:35:30.822621Z"
    }
   },
   "outputs": [
    {
     "name": "stdout",
     "output_type": "stream",
     "text": [
      "True\n"
     ]
    }
   ],
   "source": [
    "# Are 5 multiplied by 6 and 30 equal?\n",
    "a=5\n",
    "b=6\n",
    "c=(a*b)==30\n",
    "print(c)"
   ]
  },
  {
   "cell_type": "code",
   "execution_count": 6,
   "id": "32cdbb54-77c4-4059-aedb-49f8db8254c8",
   "metadata": {
    "execution": {
     "iopub.execute_input": "2025-06-13T08:43:01.538329Z",
     "iopub.status.busy": "2025-06-13T08:43:01.537327Z",
     "iopub.status.idle": "2025-06-13T08:43:01.543866Z",
     "shell.execute_reply": "2025-06-13T08:43:01.542859Z",
     "shell.execute_reply.started": "2025-06-13T08:43:01.538329Z"
    }
   },
   "outputs": [
    {
     "name": "stdout",
     "output_type": "stream",
     "text": [
      "16\n",
      "25\n",
      "False\n"
     ]
    }
   ],
   "source": [
    "#Do two squares of side 4 and 5 have the same area?\n",
    "a=4\n",
    "b=5\n",
    "area1=a*a\n",
    "print(area1)\n",
    "area2=b*b\n",
    "print(area2)\n",
    "print(area1==area2)"
   ]
  },
  {
   "cell_type": "code",
   "execution_count": 7,
   "id": "8d10ff65-edcd-4ece-bdf4-9f07325363b3",
   "metadata": {
    "execution": {
     "iopub.execute_input": "2025-06-13T08:46:11.723991Z",
     "iopub.status.busy": "2025-06-13T08:46:11.723991Z",
     "iopub.status.idle": "2025-06-13T08:46:11.730810Z",
     "shell.execute_reply": "2025-06-13T08:46:11.729801Z",
     "shell.execute_reply.started": "2025-06-13T08:46:11.723991Z"
    }
   },
   "outputs": [
    {
     "name": "stdout",
     "output_type": "stream",
     "text": [
      "True\n"
     ]
    }
   ],
   "source": [
    "#A basket holds 18 apples. If you eat 6, do you have fewer than 15 left?\n",
    "a=18\n",
    "b=6\n",
    "x=15\n",
    "c=a-b<x\n",
    "print(c)"
   ]
  },
  {
   "cell_type": "code",
   "execution_count": 9,
   "id": "5d768d7b-012c-49b1-88ea-61cf05d461c5",
   "metadata": {
    "execution": {
     "iopub.execute_input": "2025-06-13T08:51:18.690259Z",
     "iopub.status.busy": "2025-06-13T08:51:18.689258Z",
     "iopub.status.idle": "2025-06-13T08:51:18.696238Z",
     "shell.execute_reply": "2025-06-13T08:51:18.695197Z",
     "shell.execute_reply.started": "2025-06-13T08:51:18.690259Z"
    }
   },
   "outputs": [
    {
     "name": "stdout",
     "output_type": "stream",
     "text": [
      "60.0\n",
      "True\n"
     ]
    }
   ],
   "source": [
    "# Sam travels 120 km in 2 hours. Is his speed 60 km/hr?\n",
    "a=120\n",
    "b=2\n",
    "c=60\n",
    "s=120/2\n",
    "print(s)\n",
    "x=s==c\n",
    "print(x)"
   ]
  },
  {
   "cell_type": "code",
   "execution_count": 10,
   "id": "66ef4255-18e3-4f21-9c8e-e19751a105bb",
   "metadata": {
    "execution": {
     "iopub.execute_input": "2025-06-13T08:52:55.089108Z",
     "iopub.status.busy": "2025-06-13T08:52:55.089108Z",
     "iopub.status.idle": "2025-06-13T08:52:55.095339Z",
     "shell.execute_reply": "2025-06-13T08:52:55.094325Z",
     "shell.execute_reply.started": "2025-06-13T08:52:55.089108Z"
    }
   },
   "outputs": [
    {
     "name": "stdout",
     "output_type": "stream",
     "text": [
      "False\n"
     ]
    }
   ],
   "source": [
    "# Is 7 + 3 * 2 equal to 20?\n",
    "a=7+3*2\n",
    "b=20\n",
    "print(a==b)"
   ]
  },
  {
   "cell_type": "code",
   "execution_count": 12,
   "id": "09f794d4-b75f-43dc-aacc-a0a71af73f4a",
   "metadata": {
    "execution": {
     "iopub.execute_input": "2025-06-13T08:57:47.161800Z",
     "iopub.status.busy": "2025-06-13T08:57:47.160799Z",
     "iopub.status.idle": "2025-06-13T08:57:47.167829Z",
     "shell.execute_reply": "2025-06-13T08:57:47.166821Z",
     "shell.execute_reply.started": "2025-06-13T08:57:47.161800Z"
    }
   },
   "outputs": [
    {
     "name": "stdout",
     "output_type": "stream",
     "text": [
      "False\n"
     ]
    }
   ],
   "source": [
    "#Jane bought 2 pens and 3 pencils. If a pen is $2 and pencil $1, did she spend $9?\n",
    "a,b=2,3\n",
    "c=a*2\n",
    "d=3*1\n",
    "x=c+d==9\n",
    "print(x)\n"
   ]
  },
  {
   "cell_type": "code",
   "execution_count": 13,
   "id": "193d8450-cefb-4f06-bde7-573c551a2119",
   "metadata": {
    "execution": {
     "iopub.execute_input": "2025-06-13T09:51:11.443497Z",
     "iopub.status.busy": "2025-06-13T09:51:11.443497Z",
     "iopub.status.idle": "2025-06-13T09:51:11.454726Z",
     "shell.execute_reply": "2025-06-13T09:51:11.454726Z",
     "shell.execute_reply.started": "2025-06-13T09:51:11.443497Z"
    }
   },
   "outputs": [
    {
     "name": "stdout",
     "output_type": "stream",
     "text": [
      "True\n"
     ]
    }
   ],
   "source": [
    "#You have 3 boxes, each holding 12 balls. Are total balls more than 35?#\n",
    "a=3\n",
    "b=12\n",
    "c=a*b>35\n",
    "print(c)"
   ]
  },
  {
   "cell_type": "code",
   "execution_count": 16,
   "id": "3385178d-7df5-4a96-8cd1-e6f00a1b37ba",
   "metadata": {
    "execution": {
     "iopub.execute_input": "2025-06-13T09:53:22.011307Z",
     "iopub.status.busy": "2025-06-13T09:53:22.011307Z",
     "iopub.status.idle": "2025-06-13T09:53:22.023194Z",
     "shell.execute_reply": "2025-06-13T09:53:22.023194Z",
     "shell.execute_reply.started": "2025-06-13T09:53:22.011307Z"
    }
   },
   "outputs": [
    {
     "name": "stdout",
     "output_type": "stream",
     "text": [
      "180\n",
      "True\n"
     ]
    }
   ],
   "source": [
    "# A triangle has angles 60, 60, and 60. Do they sum to 180?\n",
    "a,b,c=60,60,60\n",
    "x=a+b+c\n",
    "print(x)\n",
    "z=x==180\n",
    "print(z)"
   ]
  },
  {
   "cell_type": "code",
   "execution_count": 18,
   "id": "d6a1174b-dd55-489f-bd00-103e15b9377d",
   "metadata": {
    "execution": {
     "iopub.execute_input": "2025-06-13T09:55:39.848801Z",
     "iopub.status.busy": "2025-06-13T09:55:39.848801Z",
     "iopub.status.idle": "2025-06-13T09:55:39.860920Z",
     "shell.execute_reply": "2025-06-13T09:55:39.860920Z",
     "shell.execute_reply.started": "2025-06-13T09:55:39.848801Z"
    }
   },
   "outputs": [
    {
     "name": "stdout",
     "output_type": "stream",
     "text": [
      "(False, False)\n"
     ]
    }
   ],
   "source": [
    "# If you split 100 into two equal parts, is one part greater than 60?\n",
    "a=100/2\n",
    "b=100/2\n",
    "c=a>60,b>60\n",
    "print(c)"
   ]
  },
  {
   "cell_type": "code",
   "execution_count": 21,
   "id": "7dd4a26f-b863-471f-8781-84367476e86f",
   "metadata": {
    "execution": {
     "iopub.execute_input": "2025-06-13T09:58:21.040211Z",
     "iopub.status.busy": "2025-06-13T09:58:21.040211Z",
     "iopub.status.idle": "2025-06-13T09:58:21.056553Z",
     "shell.execute_reply": "2025-06-13T09:58:21.054531Z",
     "shell.execute_reply.started": "2025-06-13T09:58:21.040211Z"
    }
   },
   "outputs": [
    {
     "name": "stdout",
     "output_type": "stream",
     "text": [
      "True\n"
     ]
    }
   ],
   "source": [
    "# Mike earned $400 in 8 days. Did he earn $50 daily?\n",
    "a=400\n",
    "b=(400/8)==50\n",
    "print(b)"
   ]
  },
  {
   "cell_type": "code",
   "execution_count": 22,
   "id": "2e70fc86-a501-48a2-b3f9-728beee64bad",
   "metadata": {
    "execution": {
     "iopub.execute_input": "2025-06-13T09:59:43.382419Z",
     "iopub.status.busy": "2025-06-13T09:59:43.382419Z",
     "iopub.status.idle": "2025-06-13T09:59:43.398173Z",
     "shell.execute_reply": "2025-06-13T09:59:43.395990Z",
     "shell.execute_reply.started": "2025-06-13T09:59:43.382419Z"
    }
   },
   "outputs": [
    {
     "name": "stdout",
     "output_type": "stream",
     "text": [
      "True\n"
     ]
    }
   ],
   "source": [
    "#Does subtracting 20 from 50 give 30?\n",
    "a=20\n",
    "b=50\n",
    "c=b-a==30\n",
    "print(c)"
   ]
  },
  {
   "cell_type": "code",
   "execution_count": 23,
   "id": "7c60be97-4de6-4759-8fbf-d5f5a1a8f26b",
   "metadata": {
    "execution": {
     "iopub.execute_input": "2025-06-13T10:01:21.113277Z",
     "iopub.status.busy": "2025-06-13T10:01:21.105265Z",
     "iopub.status.idle": "2025-06-13T10:01:21.121679Z",
     "shell.execute_reply": "2025-06-13T10:01:21.120665Z",
     "shell.execute_reply.started": "2025-06-13T10:01:21.113277Z"
    }
   },
   "outputs": [
    {
     "name": "stdout",
     "output_type": "stream",
     "text": [
      "True\n"
     ]
    }
   ],
   "source": [
    "#Are 10 + 15 and 5 * 5 equal?\n",
    "a=10+15\n",
    "b=5*5\n",
    "x=(a==b)\n",
    "print(x)"
   ]
  },
  {
   "cell_type": "code",
   "execution_count": 25,
   "id": "200ee78c-38d3-4bd3-8249-d2db9c1232e9",
   "metadata": {
    "execution": {
     "iopub.execute_input": "2025-06-13T10:04:00.655940Z",
     "iopub.status.busy": "2025-06-13T10:04:00.655940Z",
     "iopub.status.idle": "2025-06-13T10:04:00.672003Z",
     "shell.execute_reply": "2025-06-13T10:04:00.670483Z",
     "shell.execute_reply.started": "2025-06-13T10:04:00.655940Z"
    }
   },
   "outputs": [
    {
     "name": "stdout",
     "output_type": "stream",
     "text": [
      "True\n"
     ]
    }
   ],
   "source": [
    "# If a packet has 48 candies, can 6 kids get more than 7 each?\n",
    "a=48\n",
    "b=6\n",
    "c=48/6>7\n",
    "print(c)"
   ]
  },
  {
   "cell_type": "code",
   "execution_count": 26,
   "id": "54f0ee70-06e2-490a-a8ce-a308ac87525b",
   "metadata": {
    "execution": {
     "iopub.execute_input": "2025-06-13T10:05:14.527414Z",
     "iopub.status.busy": "2025-06-13T10:05:14.527414Z",
     "iopub.status.idle": "2025-06-13T10:05:14.538228Z",
     "shell.execute_reply": "2025-06-13T10:05:14.538228Z",
     "shell.execute_reply.started": "2025-06-13T10:05:14.527414Z"
    }
   },
   "outputs": [
    {
     "name": "stdout",
     "output_type": "stream",
     "text": [
      "True\n"
     ]
    }
   ],
   "source": [
    "#Compare 5 ** 2 and 25. Are they the same?\n",
    "a=5**2\n",
    "b=25\n",
    "x=a==b\n",
    "print(x)"
   ]
  },
  {
   "cell_type": "code",
   "execution_count": 28,
   "id": "522baf1f-d2ac-4436-804e-b70e4a9b9e81",
   "metadata": {
    "execution": {
     "iopub.execute_input": "2025-06-13T10:07:15.411278Z",
     "iopub.status.busy": "2025-06-13T10:07:15.411278Z",
     "iopub.status.idle": "2025-06-13T10:07:15.420076Z",
     "shell.execute_reply": "2025-06-13T10:07:15.420076Z",
     "shell.execute_reply.started": "2025-06-13T10:07:15.411278Z"
    }
   },
   "outputs": [
    {
     "name": "stdout",
     "output_type": "stream",
     "text": [
      "True\n"
     ]
    }
   ],
   "source": [
    "# Is (10 + 2) * 3 greater than 35?\n",
    "a=(10+2)*3\n",
    "b=a>35\n",
    "print(b)"
   ]
  },
  {
   "cell_type": "code",
   "execution_count": 29,
   "id": "8fb0f4bd-a9c9-40d4-b0ff-8923bfd9779b",
   "metadata": {
    "execution": {
     "iopub.execute_input": "2025-06-13T10:08:28.297559Z",
     "iopub.status.busy": "2025-06-13T10:08:28.297559Z",
     "iopub.status.idle": "2025-06-13T10:08:28.309519Z",
     "shell.execute_reply": "2025-06-13T10:08:28.307951Z",
     "shell.execute_reply.started": "2025-06-13T10:08:28.297559Z"
    }
   },
   "outputs": [
    {
     "name": "stdout",
     "output_type": "stream",
     "text": [
      "True\n"
     ]
    }
   ],
   "source": [
    " #Do 8 and 8.0 compare equal?\n",
    "a=8\n",
    "b=8.0\n",
    "c=a==b\n",
    "print(c)"
   ]
  },
  {
   "cell_type": "code",
   "execution_count": 40,
   "id": "5c2b226b-4ff6-452f-877e-7c963aed81f4",
   "metadata": {
    "execution": {
     "iopub.execute_input": "2025-06-13T10:16:42.799545Z",
     "iopub.status.busy": "2025-06-13T10:16:42.799545Z",
     "iopub.status.idle": "2025-06-13T10:16:42.807585Z",
     "shell.execute_reply": "2025-06-13T10:16:42.806072Z",
     "shell.execute_reply.started": "2025-06-13T10:16:42.799545Z"
    }
   },
   "outputs": [
    {
     "name": "stdout",
     "output_type": "stream",
     "text": [
      "True\n"
     ]
    }
   ],
   "source": [
    "#A rope is cut into 3 pieces of 10, 15, and 25 meters. Is the total 50?\n",
    "a=10\n",
    "b=15\n",
    "c=25\n",
    "x=a+b+c==50\n",
    "print(x)\n",
    "\n"
   ]
  },
  {
   "cell_type": "code",
   "execution_count": 41,
   "id": "fe165a87-8b01-4739-b2cc-811964216f8a",
   "metadata": {
    "execution": {
     "iopub.execute_input": "2025-06-13T10:17:37.758261Z",
     "iopub.status.busy": "2025-06-13T10:17:37.750250Z",
     "iopub.status.idle": "2025-06-13T10:17:37.768804Z",
     "shell.execute_reply": "2025-06-13T10:17:37.768804Z",
     "shell.execute_reply.started": "2025-06-13T10:17:37.758261Z"
    }
   },
   "outputs": [
    {
     "name": "stdout",
     "output_type": "stream",
     "text": [
      "False\n"
     ]
    }
   ],
   "source": [
    " #Multiply 4 by 4. Is the result less than 20?\n",
    "a=4*4==20\n",
    "print(a)\n"
   ]
  },
  {
   "cell_type": "code",
   "execution_count": 45,
   "id": "dbfd79ec-ae1e-4e8f-ab6c-5f089765a16e",
   "metadata": {
    "execution": {
     "iopub.execute_input": "2025-06-13T10:20:49.742424Z",
     "iopub.status.busy": "2025-06-13T10:20:49.742424Z",
     "iopub.status.idle": "2025-06-13T10:20:49.758807Z",
     "shell.execute_reply": "2025-06-13T10:20:49.756788Z",
     "shell.execute_reply.started": "2025-06-13T10:20:49.742424Z"
    }
   },
   "outputs": [
    {
     "name": "stdout",
     "output_type": "stream",
     "text": [
      "20\n",
      "4.0\n"
     ]
    }
   ],
   "source": [
    "#Add 13 and 7. Is the result divisible by 5s\n",
    "a=(13+7)\n",
    "print(a)\n",
    "c=a/5\n",
    "print(c)"
   ]
  },
  {
   "cell_type": "code",
   "execution_count": 46,
   "id": "a5745d84-a809-4911-a202-7683443884ee",
   "metadata": {
    "execution": {
     "iopub.execute_input": "2025-06-13T10:22:29.109038Z",
     "iopub.status.busy": "2025-06-13T10:22:29.109038Z",
     "iopub.status.idle": "2025-06-13T10:22:29.119643Z",
     "shell.execute_reply": "2025-06-13T10:22:29.119643Z",
     "shell.execute_reply.started": "2025-06-13T10:22:29.109038Z"
    }
   },
   "outputs": [
    {
     "name": "stdout",
     "output_type": "stream",
     "text": [
      "True\n"
     ]
    }
   ],
   "source": [
    "#20 apples are equally shared between 5 students. Does each get 4?\n",
    "a=20\n",
    "b=5\n",
    "c=(20/5)==4\n",
    "print(c)\n"
   ]
  },
  {
   "cell_type": "code",
   "execution_count": 2,
   "id": "3289b2d8-77ab-4313-b669-07086d0f8ea4",
   "metadata": {
    "execution": {
     "iopub.execute_input": "2025-06-17T06:22:30.906075Z",
     "iopub.status.busy": "2025-06-17T06:22:30.906075Z",
     "iopub.status.idle": "2025-06-17T06:22:30.922953Z",
     "shell.execute_reply": "2025-06-17T06:22:30.920572Z",
     "shell.execute_reply.started": "2025-06-17T06:22:30.906075Z"
    }
   },
   "outputs": [
    {
     "name": "stdout",
     "output_type": "stream",
     "text": [
      "True\n"
     ]
    }
   ],
   "source": [
    "#Subtract 15 from 60. Is the result equal to 45?\n",
    "a=60\n",
    "b=15\n",
    "c=(a-b)==45\n",
    "print(c)"
   ]
  },
  {
   "cell_type": "code",
   "execution_count": 3,
   "id": "4e506657-f872-4bcf-b475-18eab860897f",
   "metadata": {
    "execution": {
     "iopub.execute_input": "2025-06-17T06:29:28.570034Z",
     "iopub.status.busy": "2025-06-17T06:29:28.570034Z",
     "iopub.status.idle": "2025-06-17T06:29:28.578309Z",
     "shell.execute_reply": "2025-06-17T06:29:28.578309Z",
     "shell.execute_reply.started": "2025-06-17T06:29:28.570034Z"
    }
   },
   "outputs": [
    {
     "name": "stdout",
     "output_type": "stream",
     "text": [
      "True\n"
     ]
    }
   ],
   "source": [
    "# Compare 3 * 3 + 1 and 10. Are they equal?\n",
    "a=3*3+1\n",
    "b=10\n",
    "print(a==b)"
   ]
  },
  {
   "cell_type": "code",
   "execution_count": 5,
   "id": "04d0b481-06d7-49e9-8b79-e05d55aa29c9",
   "metadata": {
    "execution": {
     "iopub.execute_input": "2025-06-17T06:31:34.275192Z",
     "iopub.status.busy": "2025-06-17T06:31:34.269138Z",
     "iopub.status.idle": "2025-06-17T06:31:34.285501Z",
     "shell.execute_reply": "2025-06-17T06:31:34.282742Z",
     "shell.execute_reply.started": "2025-06-17T06:31:34.275192Z"
    }
   },
   "outputs": [
    {
     "name": "stdout",
     "output_type": "stream",
     "text": [
      "False\n"
     ]
    }
   ],
   "source": [
    "\n",
    "#If you double 12, is the result more than 25?\n",
    "a=12*2\n",
    "b=a>25\n",
    "print(b)\n",
    "\n",
    "\n",
    "\n"
   ]
  },
  {
   "cell_type": "code",
   "execution_count": 7,
   "id": "ccae1dfd-04ed-478a-acb0-413de526b49b",
   "metadata": {
    "execution": {
     "iopub.execute_input": "2025-06-17T06:33:37.701633Z",
     "iopub.status.busy": "2025-06-17T06:33:37.700641Z",
     "iopub.status.idle": "2025-06-17T06:33:37.712278Z",
     "shell.execute_reply": "2025-06-17T06:33:37.710278Z",
     "shell.execute_reply.started": "2025-06-17T06:33:37.701633Z"
    }
   },
   "outputs": [
    {
     "name": "stdout",
     "output_type": "stream",
     "text": [
      "True\n"
     ]
    }
   ],
   "source": [
    "# Are 100 divided by 4 and 25 equal?\n",
    "a=100\n",
    "b=4\n",
    "c=(a/b)==25\n",
    "print(c)"
   ]
  },
  {
   "cell_type": "code",
   "execution_count": 8,
   "id": "b3137c0b-2ea3-4cd5-9761-7e8ae014cfad",
   "metadata": {
    "execution": {
     "iopub.execute_input": "2025-06-17T06:37:58.243150Z",
     "iopub.status.busy": "2025-06-17T06:37:58.242375Z",
     "iopub.status.idle": "2025-06-17T06:37:58.249239Z",
     "shell.execute_reply": "2025-06-17T06:37:58.248732Z",
     "shell.execute_reply.started": "2025-06-17T06:37:58.243150Z"
    }
   },
   "outputs": [
    {
     "name": "stdout",
     "output_type": "stream",
     "text": [
      "True\n"
     ]
    }
   ],
   "source": [
    "# Is (9 - 3) * 2 greater than 10?\n",
    "a=(9-3)*2\n",
    "b=a>10\n",
    "print(b)\n"
   ]
  },
  {
   "cell_type": "code",
   "execution_count": 9,
   "id": "a13ef84d-652d-46d8-8d0d-e2520d7943aa",
   "metadata": {
    "execution": {
     "iopub.execute_input": "2025-06-17T06:42:07.334830Z",
     "iopub.status.busy": "2025-06-17T06:42:07.333763Z",
     "iopub.status.idle": "2025-06-17T06:42:07.340137Z",
     "shell.execute_reply": "2025-06-17T06:42:07.339453Z",
     "shell.execute_reply.started": "2025-06-17T06:42:07.334830Z"
    }
   },
   "outputs": [
    {
     "name": "stdout",
     "output_type": "stream",
     "text": [
      "0\n"
     ]
    }
   ],
   "source": [
    "#If you have $99 and spend $33 three times, will anything be left?\n",
    "a=99\n",
    "b=33*3\n",
    "print(a-b)"
   ]
  },
  {
   "cell_type": "code",
   "execution_count": 13,
   "id": "0384a70f-970e-4d77-8ad3-701fe5a00bd6",
   "metadata": {
    "execution": {
     "iopub.execute_input": "2025-06-17T06:45:38.726563Z",
     "iopub.status.busy": "2025-06-17T06:45:38.726563Z",
     "iopub.status.idle": "2025-06-17T06:45:38.738719Z",
     "shell.execute_reply": "2025-06-17T06:45:38.738719Z",
     "shell.execute_reply.started": "2025-06-17T06:45:38.726563Z"
    }
   },
   "outputs": [
    {
     "name": "stdout",
     "output_type": "stream",
     "text": [
      "10.0\n"
     ]
    },
    {
     "data": {
      "text/plain": [
       "False"
      ]
     },
     "execution_count": 13,
     "metadata": {},
     "output_type": "execute_result"
    }
   ],
   "source": [
    "# Add 5.5 and 4.5. Is the result 10?\n",
    "a=5.5\n",
    "b=4.5\n",
    "print(a+b)==10"
   ]
  },
  {
   "cell_type": "code",
   "execution_count": 1,
   "id": "464d20a8-3196-45f0-bc16-93ac04cb290c",
   "metadata": {
    "execution": {
     "iopub.execute_input": "2025-06-17T12:25:10.346419Z",
     "iopub.status.busy": "2025-06-17T12:25:10.345424Z",
     "iopub.status.idle": "2025-06-17T12:25:10.358785Z",
     "shell.execute_reply": "2025-06-17T12:25:10.357771Z",
     "shell.execute_reply.started": "2025-06-17T12:25:10.346419Z"
    }
   },
   "outputs": [
    {
     "name": "stdout",
     "output_type": "stream",
     "text": [
      "4.0\n"
     ]
    }
   ],
   "source": [
    "#A baker made 24 cupcakes and packed them into boxes of 6. How many boxes did he fill?\n",
    "a=24\n",
    "b=24/6\n",
    "print(b)\n"
   ]
  },
  {
   "cell_type": "code",
   "execution_count": 2,
   "id": "36d0111f-c78b-490c-86bc-774359ba0b57",
   "metadata": {
    "execution": {
     "iopub.execute_input": "2025-06-17T12:27:48.050011Z",
     "iopub.status.busy": "2025-06-17T12:27:48.049015Z",
     "iopub.status.idle": "2025-06-17T12:27:48.056126Z",
     "shell.execute_reply": "2025-06-17T12:27:48.055087Z",
     "shell.execute_reply.started": "2025-06-17T12:27:48.050011Z"
    }
   },
   "outputs": [
    {
     "name": "stdout",
     "output_type": "stream",
     "text": [
      "35\n"
     ]
    }
   ],
   "source": [
    "#Lily had 50 coins. After donating 15, how many coins does she have left?\n",
    "a=50\n",
    "b=15\n",
    "c=50-15\n",
    "print(c)\n"
   ]
  },
  {
   "cell_type": "code",
   "execution_count": 3,
   "id": "4dc2087a-ddb0-48c2-8a3b-ecbaa1d931ce",
   "metadata": {
    "execution": {
     "iopub.execute_input": "2025-06-17T12:30:40.311235Z",
     "iopub.status.busy": "2025-06-17T12:30:40.311235Z",
     "iopub.status.idle": "2025-06-17T12:30:40.318984Z",
     "shell.execute_reply": "2025-06-17T12:30:40.317973Z",
     "shell.execute_reply.started": "2025-06-17T12:30:40.311235Z"
    }
   },
   "outputs": [
    {
     "name": "stdout",
     "output_type": "stream",
     "text": [
      "12\n"
     ]
    }
   ],
   "source": [
    "#A magician pulls 3 rabbits from each of his 4 hats. How many rabbits appear in total?\n",
    "a=3\n",
    "b=4\n",
    "c=a*b\n",
    "print(c)"
   ]
  },
  {
   "cell_type": "code",
   "execution_count": 6,
   "id": "e71714a7-6dd3-4c8d-b8e0-0ddbfdc2e4ca",
   "metadata": {
    "execution": {
     "iopub.execute_input": "2025-06-17T12:32:28.679812Z",
     "iopub.status.busy": "2025-06-17T12:32:28.679812Z",
     "iopub.status.idle": "2025-06-17T12:32:28.686386Z",
     "shell.execute_reply": "2025-06-17T12:32:28.685379Z",
     "shell.execute_reply.started": "2025-06-17T12:32:28.679812Z"
    }
   },
   "outputs": [
    {
     "name": "stdout",
     "output_type": "stream",
     "text": [
      "60.0\n"
     ]
    }
   ],
   "source": [
    "#A car travels 180 km in 3 hours. What is its average speed?\n",
    "a=180\n",
    "b=3\n",
    "c=a/b\n",
    "print(c)\n"
   ]
  },
  {
   "cell_type": "code",
   "execution_count": 7,
   "id": "80b9c04d-297b-482a-b69e-07ef0ea89001",
   "metadata": {
    "execution": {
     "iopub.execute_input": "2025-06-17T12:35:13.223438Z",
     "iopub.status.busy": "2025-06-17T12:35:13.223438Z",
     "iopub.status.idle": "2025-06-17T12:35:13.230049Z",
     "shell.execute_reply": "2025-06-17T12:35:13.229033Z",
     "shell.execute_reply.started": "2025-06-17T12:35:13.223438Z"
    }
   },
   "outputs": [
    {
     "name": "stdout",
     "output_type": "stream",
     "text": [
      "True\n"
     ]
    }
   ],
   "source": [
    "#A student scored 78 in English and 91 in History. Did they score higher in History?\n",
    "a=78\n",
    "b=91\n",
    "c=a<b\n",
    "print(c)"
   ]
  },
  {
   "cell_type": "code",
   "execution_count": 11,
   "id": "4cf7fddb-0f02-492b-89b4-0c656dc2e790",
   "metadata": {
    "execution": {
     "iopub.execute_input": "2025-06-17T12:37:31.544091Z",
     "iopub.status.busy": "2025-06-17T12:37:31.544091Z",
     "iopub.status.idle": "2025-06-17T12:37:31.549153Z",
     "shell.execute_reply": "2025-06-17T12:37:31.548145Z",
     "shell.execute_reply.started": "2025-06-17T12:37:31.544091Z"
    }
   },
   "outputs": [
    {
     "name": "stdout",
     "output_type": "stream",
     "text": [
      "True\n"
     ]
    }
   ],
   "source": [
    "#You earn $15 an hour and worked 8 hours. Did you earn at least $120?\n",
    "a=15\n",
    "b=8\n",
    "c=(a*b)>=120\n",
    "print(c)\n",
    "\n"
   ]
  },
  {
   "cell_type": "code",
   "execution_count": 12,
   "id": "b70bf246-9f2f-4aab-a3f4-c8c8d9f3ed4e",
   "metadata": {
    "execution": {
     "iopub.execute_input": "2025-06-17T12:38:57.642710Z",
     "iopub.status.busy": "2025-06-17T12:38:57.641711Z",
     "iopub.status.idle": "2025-06-17T12:38:57.648748Z",
     "shell.execute_reply": "2025-06-17T12:38:57.647734Z",
     "shell.execute_reply.started": "2025-06-17T12:38:57.642710Z"
    }
   },
   "outputs": [
    {
     "name": "stdout",
     "output_type": "stream",
     "text": [
      "True\n"
     ]
    }
   ],
   "source": [
    "#A library has 12 fiction and 9 non-fiction books. Is the total book count more than 20?\n",
    "a=12\n",
    "b=9\n",
    "c=a+b>20\n",
    "print(c)\n"
   ]
  },
  {
   "cell_type": "code",
   "execution_count": 13,
   "id": "e8a23d65-a668-4607-b61b-5b5dc5f0cb30",
   "metadata": {
    "execution": {
     "iopub.execute_input": "2025-06-17T12:40:30.352070Z",
     "iopub.status.busy": "2025-06-17T12:40:30.352070Z",
     "iopub.status.idle": "2025-06-17T12:40:30.358093Z",
     "shell.execute_reply": "2025-06-17T12:40:30.357076Z",
     "shell.execute_reply.started": "2025-06-17T12:40:30.352070Z"
    }
   },
   "outputs": [
    {
     "name": "stdout",
     "output_type": "stream",
     "text": [
      "True\n"
     ]
    }
   ],
   "source": [
    "#A zoo has 7 lions and 7 tigers. Do they have an equal number of both animals?\n",
    "a=7\n",
    "b=7\n",
    "print(a==b)\n"
   ]
  },
  {
   "cell_type": "code",
   "execution_count": 14,
   "id": "84f67b9e-9052-4e53-bd76-ed93c171a839",
   "metadata": {
    "execution": {
     "iopub.execute_input": "2025-06-17T12:43:10.390294Z",
     "iopub.status.busy": "2025-06-17T12:43:10.390294Z",
     "iopub.status.idle": "2025-06-17T12:43:10.398954Z",
     "shell.execute_reply": "2025-06-17T12:43:10.397922Z",
     "shell.execute_reply.started": "2025-06-17T12:43:10.390294Z"
    }
   },
   "outputs": [
    {
     "name": "stdout",
     "output_type": "stream",
     "text": [
      "9.0\n"
     ]
    }
   ],
   "source": [
    "#Two siblings share 18 candies equally. How many does each get?\n",
    "a=18\n",
    "print(a/2)\n"
   ]
  },
  {
   "cell_type": "code",
   "execution_count": 18,
   "id": "9e5796ed-3c53-45b5-a226-6782f8e7f973",
   "metadata": {
    "execution": {
     "iopub.execute_input": "2025-06-17T12:46:51.603445Z",
     "iopub.status.busy": "2025-06-17T12:46:51.602442Z",
     "iopub.status.idle": "2025-06-17T12:46:51.610290Z",
     "shell.execute_reply": "2025-06-17T12:46:51.609272Z",
     "shell.execute_reply.started": "2025-06-17T12:46:51.603445Z"
    }
   },
   "outputs": [
    {
     "name": "stdout",
     "output_type": "stream",
     "text": [
      "250\n",
      "False\n"
     ]
    }
   ],
   "source": [
    "#A bottle holds 500ml. You drank 125ml twice. Is more than half still left?\n",
    "a=500\n",
    "b=2*125\n",
    "print(b)\n",
    "c=b>500/2\n",
    "print(c)"
   ]
  },
  {
   "cell_type": "code",
   "execution_count": 19,
   "id": "3a53ccde-45f9-4642-bc3a-e8513daa67e5",
   "metadata": {
    "execution": {
     "iopub.execute_input": "2025-06-17T12:48:02.594462Z",
     "iopub.status.busy": "2025-06-17T12:48:02.593459Z",
     "iopub.status.idle": "2025-06-17T12:48:02.600748Z",
     "shell.execute_reply": "2025-06-17T12:48:02.599742Z",
     "shell.execute_reply.started": "2025-06-17T12:48:02.594462Z"
    }
   },
   "outputs": [
    {
     "name": "stdout",
     "output_type": "stream",
     "text": [
      "5\n"
     ]
    }
   ],
   "source": [
    "#The sum of your ages and your dog’s age is 30. If you are 25, how old is your dog?\n",
    "a=30\n",
    "b=25\n",
    "c=a-b\n",
    "print(c)"
   ]
  },
  {
   "cell_type": "code",
   "execution_count": 20,
   "id": "553144c1-965f-44ea-8a8b-1ecf5fdc16df",
   "metadata": {
    "execution": {
     "iopub.execute_input": "2025-06-17T12:50:49.693182Z",
     "iopub.status.busy": "2025-06-17T12:50:49.692180Z",
     "iopub.status.idle": "2025-06-17T12:50:49.704043Z",
     "shell.execute_reply": "2025-06-17T12:50:49.701026Z",
     "shell.execute_reply.started": "2025-06-17T12:50:49.693182Z"
    }
   },
   "outputs": [
    {
     "name": "stdout",
     "output_type": "stream",
     "text": [
      "50.0\n"
     ]
    }
   ],
   "source": [
    "#Two friends both have 100 points in a game. Do they have identical scores?\n",
    "a=100\n",
    "b=100/2\n",
    "print(b)"
   ]
  },
  {
   "cell_type": "code",
   "execution_count": 21,
   "id": "d15dac6f-49f7-4bfb-bfb5-be62d9e90544",
   "metadata": {
    "execution": {
     "iopub.execute_input": "2025-06-17T12:52:35.963396Z",
     "iopub.status.busy": "2025-06-17T12:52:35.962395Z",
     "iopub.status.idle": "2025-06-17T12:52:35.969463Z",
     "shell.execute_reply": "2025-06-17T12:52:35.968451Z",
     "shell.execute_reply.started": "2025-06-17T12:52:35.963396Z"
    }
   },
   "outputs": [
    {
     "name": "stdout",
     "output_type": "stream",
     "text": [
      "12.0\n"
     ]
    }
   ],
   "source": [
    "#A farmer harvested 120 apples and stored them in crates of 10. How many crates did he use?\n",
    "a=120\n",
    "b=10\n",
    "print(a/b)"
   ]
  },
  {
   "cell_type": "code",
   "execution_count": 22,
   "id": "4e2db060-4610-4902-aa92-a9d478d1f96b",
   "metadata": {
    "execution": {
     "iopub.execute_input": "2025-06-17T12:53:48.904548Z",
     "iopub.status.busy": "2025-06-17T12:53:48.903551Z",
     "iopub.status.idle": "2025-06-17T12:53:48.912728Z",
     "shell.execute_reply": "2025-06-17T12:53:48.911445Z",
     "shell.execute_reply.started": "2025-06-17T12:53:48.904548Z"
    }
   },
   "outputs": [
    {
     "name": "stdout",
     "output_type": "stream",
     "text": [
      "True\n"
     ]
    }
   ],
   "source": [
    "#Multiply 7 by 3 and compare if the result is greater than 20\n",
    "a=7*3\n",
    "print(a>20)"
   ]
  },
  {
   "cell_type": "code",
   "execution_count": 23,
   "id": "e408f153-bff6-4aaa-9c9c-ba83465eac13",
   "metadata": {
    "execution": {
     "iopub.execute_input": "2025-06-17T12:58:10.444629Z",
     "iopub.status.busy": "2025-06-17T12:58:10.443628Z",
     "iopub.status.idle": "2025-06-17T12:58:10.453424Z",
     "shell.execute_reply": "2025-06-17T12:58:10.451411Z",
     "shell.execute_reply.started": "2025-06-17T12:58:10.444629Z"
    }
   },
   "outputs": [
    {
     "name": "stdout",
     "output_type": "stream",
     "text": [
      "True\n"
     ]
    }
   ],
   "source": [
    "#If you walk 3 km and run 2 km, is your total distance equal to 5 km?\n",
    "\n",
    "a=3\n",
    "b=2\n",
    "print(a+b==5)\n"
   ]
  },
  {
   "cell_type": "code",
   "execution_count": 25,
   "id": "4a544607-6cae-4308-85b0-12e21a562065",
   "metadata": {
    "execution": {
     "iopub.execute_input": "2025-06-17T13:00:49.220369Z",
     "iopub.status.busy": "2025-06-17T13:00:49.220369Z",
     "iopub.status.idle": "2025-06-17T13:00:49.227324Z",
     "shell.execute_reply": "2025-06-17T13:00:49.226314Z",
     "shell.execute_reply.started": "2025-06-17T13:00:49.220369Z"
    }
   },
   "outputs": [
    {
     "name": "stdout",
     "output_type": "stream",
     "text": [
      "True\n",
      "True\n"
     ]
    }
   ],
   "source": [
    "#Is it true that 5 is greater than 2 and also less than 10?\n",
    "a=(5>2)\n",
    "print(a)\n",
    "b=5<10\n",
    "print(b)"
   ]
  },
  {
   "cell_type": "code",
   "execution_count": 3,
   "id": "e5c19e45-bb9b-4ca1-8d44-3fdd1b4d8043",
   "metadata": {
    "execution": {
     "iopub.execute_input": "2025-06-17T13:04:35.561312Z",
     "iopub.status.busy": "2025-06-17T13:04:35.561312Z",
     "iopub.status.idle": "2025-06-17T13:04:35.567802Z",
     "shell.execute_reply": "2025-06-17T13:04:35.566793Z",
     "shell.execute_reply.started": "2025-06-17T13:04:35.561312Z"
    }
   },
   "outputs": [
    {
     "name": "stdout",
     "output_type": "stream",
     "text": [
      "False\n",
      "True\n"
     ]
    }
   ],
   "source": [
    "#Is either 7 less than 4 or 9 equal to 9?\n",
    "a= (7<4) \n",
    "print(a)\n",
    "b=(9==9)\n",
    "print(b)\n",
    "\n"
   ]
  },
  {
   "cell_type": "code",
   "execution_count": 6,
   "id": "9830fda8-2f49-48f9-8155-75c5d86b4461",
   "metadata": {
    "execution": {
     "iopub.execute_input": "2025-06-17T13:07:18.883035Z",
     "iopub.status.busy": "2025-06-17T13:07:18.883035Z",
     "iopub.status.idle": "2025-06-17T13:07:18.890621Z",
     "shell.execute_reply": "2025-06-17T13:07:18.889611Z",
     "shell.execute_reply.started": "2025-06-17T13:07:18.883035Z"
    }
   },
   "outputs": [
    {
     "name": "stdout",
     "output_type": "stream",
     "text": [
      "True\n"
     ]
    }
   ],
   "source": [
    "#Create two strings: x = \"hello\", y = \"hello\". Are they the same object in memory?\n",
    "x='hello'\n",
    "y='hello'\n",
    "print(x  is y)\n"
   ]
  },
  {
   "cell_type": "code",
   "execution_count": 7,
   "id": "09d82f1f-a502-4cd0-a57f-20bb63acaefe",
   "metadata": {
    "execution": {
     "iopub.execute_input": "2025-06-17T13:08:22.695675Z",
     "iopub.status.busy": "2025-06-17T13:08:22.694673Z",
     "iopub.status.idle": "2025-06-17T13:08:22.702273Z",
     "shell.execute_reply": "2025-06-17T13:08:22.701263Z",
     "shell.execute_reply.started": "2025-06-17T13:08:22.695675Z"
    }
   },
   "outputs": [
    {
     "name": "stdout",
     "output_type": "stream",
     "text": [
      "80\n"
     ]
    }
   ],
   "source": [
    "#You added 20 points to your score of 60. What’s your new score?\n",
    "a=20+60\n",
    "print(a)"
   ]
  },
  {
   "cell_type": "code",
   "execution_count": 8,
   "id": "c0c520e1-1790-4dab-8d03-334424ee7d4f",
   "metadata": {
    "execution": {
     "iopub.execute_input": "2025-06-17T13:10:26.635343Z",
     "iopub.status.busy": "2025-06-17T13:10:26.635343Z",
     "iopub.status.idle": "2025-06-17T13:10:26.642493Z",
     "shell.execute_reply": "2025-06-17T13:10:26.641483Z",
     "shell.execute_reply.started": "2025-06-17T13:10:26.635343Z"
    }
   },
   "outputs": [
    {
     "name": "stdout",
     "output_type": "stream",
     "text": [
      "60\n"
     ]
    }
   ],
   "source": [
    "#If x = 100 and x -= 40, what is the value of x now?\n",
    "x=100\n",
    "x-=40\n",
    "print(x)\n"
   ]
  },
  {
   "cell_type": "code",
   "execution_count": 10,
   "id": "aa992555-e620-446e-a3d4-774e7de1fde7",
   "metadata": {
    "execution": {
     "iopub.execute_input": "2025-06-17T13:13:33.190800Z",
     "iopub.status.busy": "2025-06-17T13:13:33.190800Z",
     "iopub.status.idle": "2025-06-17T13:13:33.198625Z",
     "shell.execute_reply": "2025-06-17T13:13:33.197615Z",
     "shell.execute_reply.started": "2025-06-17T13:13:33.190800Z"
    }
   },
   "outputs": [
    {
     "name": "stdout",
     "output_type": "stream",
     "text": [
      "20\n"
     ]
    }
   ],
   "source": [
    "#Start with y = 10, then double it using the assignment operator. What’s y?\n",
    "y=10\n",
    "b=2*y\n",
    "print(b)\n"
   ]
  },
  {
   "cell_type": "code",
   "execution_count": 11,
   "id": "745fe02f-1d83-4795-8423-550f65f4c103",
   "metadata": {
    "execution": {
     "iopub.execute_input": "2025-06-17T13:15:11.531113Z",
     "iopub.status.busy": "2025-06-17T13:15:11.530108Z",
     "iopub.status.idle": "2025-06-17T13:15:11.539405Z",
     "shell.execute_reply": "2025-06-17T13:15:11.537386Z",
     "shell.execute_reply.started": "2025-06-17T13:15:11.531113Z"
    }
   },
   "outputs": [
    {
     "name": "stdout",
     "output_type": "stream",
     "text": [
      "20.0\n"
     ]
    }
   ],
   "source": [
    "#Divide 80 by 4 using the /= operator. What's the result?\n",
    "x=80\n",
    "x/=4\n",
    "print(x)"
   ]
  },
  {
   "cell_type": "code",
   "execution_count": 13,
   "id": "71bed1c5-9313-4e65-be6d-fe939ff5e1f1",
   "metadata": {
    "execution": {
     "iopub.execute_input": "2025-06-17T13:18:02.501937Z",
     "iopub.status.busy": "2025-06-17T13:18:02.500948Z",
     "iopub.status.idle": "2025-06-17T13:18:02.507830Z",
     "shell.execute_reply": "2025-06-17T13:18:02.506821Z",
     "shell.execute_reply.started": "2025-06-17T13:18:02.501937Z"
    }
   },
   "outputs": [
    {
     "name": "stdout",
     "output_type": "stream",
     "text": [
      "True\n"
     ]
    }
   ],
   "source": [
    "#Check if 9 is not equal to 8 using a comparison operator.\n",
    "a=9\n",
    "b!=8\n",
    "print(a!=b)\n"
   ]
  },
  {
   "cell_type": "code",
   "execution_count": 3,
   "id": "843a89b9-e005-40aa-acb8-9223cd57b7ee",
   "metadata": {
    "execution": {
     "iopub.execute_input": "2025-06-17T13:23:55.529056Z",
     "iopub.status.busy": "2025-06-17T13:23:55.529056Z",
     "iopub.status.idle": "2025-06-17T13:23:55.536187Z",
     "shell.execute_reply": "2025-06-17T13:23:55.535161Z",
     "shell.execute_reply.started": "2025-06-17T13:23:55.529056Z"
    }
   },
   "outputs": [
    {
     "name": "stdout",
     "output_type": "stream",
     "text": [
      "True\n"
     ]
    }
   ],
   "source": [
    "#You have x = None. Is x identical to None?\n",
    "x = None\n",
    "print(x is None)\n"
   ]
  },
  {
   "cell_type": "code",
   "execution_count": 5,
   "id": "8d034fba-6fce-4062-a27e-7b2c45183431",
   "metadata": {
    "execution": {
     "iopub.execute_input": "2025-06-17T13:27:26.038336Z",
     "iopub.status.busy": "2025-06-17T13:27:26.037332Z",
     "iopub.status.idle": "2025-06-17T13:27:26.046290Z",
     "shell.execute_reply": "2025-06-17T13:27:26.045275Z",
     "shell.execute_reply.started": "2025-06-17T13:27:26.038336Z"
    }
   },
   "outputs": [
    {
     "name": "stdout",
     "output_type": "stream",
     "text": [
      "<class 'float'>\n",
      "<class 'int'>\n",
      "False\n"
     ]
    }
   ],
   "source": [
    "#Are 3.0 and 3 considered the same object using the identity operator?\n",
    "a=3.0\n",
    "print(type(a))\n",
    "b=3\n",
    "print(type(b))\n",
    "\n",
    "c=(a is b)\n",
    "print(c)"
   ]
  },
  {
   "cell_type": "code",
   "execution_count": 6,
   "id": "45a3aaf1-c2b9-4fc1-8966-c39e40d0d217",
   "metadata": {
    "execution": {
     "iopub.execute_input": "2025-06-17T13:28:42.818494Z",
     "iopub.status.busy": "2025-06-17T13:28:42.817493Z",
     "iopub.status.idle": "2025-06-17T13:28:42.825487Z",
     "shell.execute_reply": "2025-06-17T13:28:42.823473Z",
     "shell.execute_reply.started": "2025-06-17T13:28:42.818494Z"
    }
   },
   "outputs": [
    {
     "name": "stdout",
     "output_type": "stream",
     "text": [
      "6\n"
     ]
    }
   ],
   "source": [
    "#A puzzle has 9 parts. If 3 are missing, how many remain?\n",
    "a=9\n",
    "b=3\n",
    "c=a-b\n",
    "print(c)\n"
   ]
  },
  {
   "cell_type": "code",
   "execution_count": 7,
   "id": "80b2efd7-a547-48aa-b012-9a94f0620a53",
   "metadata": {
    "execution": {
     "iopub.execute_input": "2025-06-17T13:32:34.252746Z",
     "iopub.status.busy": "2025-06-17T13:32:34.251747Z",
     "iopub.status.idle": "2025-06-17T13:32:34.260754Z",
     "shell.execute_reply": "2025-06-17T13:32:34.259746Z",
     "shell.execute_reply.started": "2025-06-17T13:32:34.252746Z"
    }
   },
   "outputs": [
    {
     "name": "stdout",
     "output_type": "stream",
     "text": [
      "False\n"
     ]
    }
   ],
   "source": [
    "#If x = 10 and y = 5, is x + y equal to x * y?\n",
    "x=10\n",
    "y=5\n",
    "z=(x+y)==(x*y)\n",
    "print(z)\n"
   ]
  },
  {
   "cell_type": "code",
   "execution_count": 8,
   "id": "209425aa-11e1-4c35-8573-14e1b5b26ebe",
   "metadata": {
    "execution": {
     "iopub.execute_input": "2025-06-17T13:34:34.109629Z",
     "iopub.status.busy": "2025-06-17T13:34:34.108625Z",
     "iopub.status.idle": "2025-06-17T13:34:34.116251Z",
     "shell.execute_reply": "2025-06-17T13:34:34.115241Z",
     "shell.execute_reply.started": "2025-06-17T13:34:34.108625Z"
    }
   },
   "outputs": [
    {
     "name": "stdout",
     "output_type": "stream",
     "text": [
      "14\n"
     ]
    }
   ],
   "source": [
    "#If you study 2 hours daily for 7 days, how many total hours is that?\n",
    "x=2\n",
    "y=7\n",
    "c=7*2\n",
    "print(c)"
   ]
  },
  {
   "cell_type": "code",
   "execution_count": 9,
   "id": "e31a4677-7fc0-46ae-b637-84d4063a7a7e",
   "metadata": {
    "execution": {
     "iopub.execute_input": "2025-06-17T13:38:17.801779Z",
     "iopub.status.busy": "2025-06-17T13:38:17.794264Z",
     "iopub.status.idle": "2025-06-17T13:38:17.810229Z",
     "shell.execute_reply": "2025-06-17T13:38:17.808787Z",
     "shell.execute_reply.started": "2025-06-17T13:38:17.801779Z"
    }
   },
   "outputs": [
    {
     "name": "stdout",
     "output_type": "stream",
     "text": [
      "True\n"
     ]
    }
   ],
   "source": [
    "#You received 100 messages, deleted 25. Are you left with more than 70?\n",
    "a=100\n",
    "b=25\n",
    "c=a-25>70\n",
    "print(c)\n"
   ]
  },
  {
   "cell_type": "code",
   "execution_count": 10,
   "id": "3a2d9eda-b85a-4c7e-9ca9-ae5dd4d49cb7",
   "metadata": {
    "execution": {
     "iopub.execute_input": "2025-06-17T13:47:34.113280Z",
     "iopub.status.busy": "2025-06-17T13:47:34.113280Z",
     "iopub.status.idle": "2025-06-17T13:47:34.129608Z",
     "shell.execute_reply": "2025-06-17T13:47:34.128409Z",
     "shell.execute_reply.started": "2025-06-17T13:47:34.113280Z"
    }
   },
   "outputs": [
    {
     "name": "stdout",
     "output_type": "stream",
     "text": [
      "600\n"
     ]
    }
   ],
   "source": [
    "#You multiply your savings by 2 every year. If you start with 300, what do you have after doubling once?\n",
    "a=300*2\n",
    "print(a)\n"
   ]
  },
  {
   "cell_type": "code",
   "execution_count": null,
   "id": "d69faa3a-54bb-4e53-a782-511f66584d1b",
   "metadata": {},
   "outputs": [],
   "source": []
  }
 ],
 "metadata": {
  "kernelspec": {
   "display_name": "Python [conda env:base] *",
   "language": "python",
   "name": "conda-base-py"
  },
  "language_info": {
   "codemirror_mode": {
    "name": "ipython",
    "version": 3
   },
   "file_extension": ".py",
   "mimetype": "text/x-python",
   "name": "python",
   "nbconvert_exporter": "python",
   "pygments_lexer": "ipython3",
   "version": "3.12.7"
  }
 },
 "nbformat": 4,
 "nbformat_minor": 5
}
