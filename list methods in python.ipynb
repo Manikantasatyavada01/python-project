{
 "cells": [
  {
   "cell_type": "markdown",
   "id": "9f1d2faf-916f-4242-b3f4-7fb08ab42f0d",
   "metadata": {},
   "source": [
    "1. What is a list in Python?\n",
    "#ist =  List is a collection which is orderd, indexed, and can be changeable, allows duplicate members. in python list are wriiten with square brackets.[]\n",
    "ex:mylist=[\"red\",\"orange\",\"blue\",\"green\"]"
   ]
  },
  {
   "cell_type": "code",
   "execution_count": 1,
   "id": "4b1c4e36-2693-4c3b-affd-54e5ce28b369",
   "metadata": {
    "execution": {
     "iopub.execute_input": "2025-06-19T10:55:03.393264Z",
     "iopub.status.busy": "2025-06-19T10:55:03.393264Z",
     "iopub.status.idle": "2025-06-19T10:55:03.398069Z",
     "shell.execute_reply": "2025-06-19T10:55:03.398069Z",
     "shell.execute_reply.started": "2025-06-19T10:55:03.393264Z"
    }
   },
   "outputs": [],
   "source": [
    "#How do you create an empty list?\n",
    "#empty:we can creat a empty list with square braces with out given any value or input\n",
    "#ex:mylist=[]"
   ]
  },
  {
   "cell_type": "code",
   "execution_count": 2,
   "id": "5af10412-468a-4f6e-a750-efd4e41d61fb",
   "metadata": {
    "execution": {
     "iopub.execute_input": "2025-06-19T10:56:40.994582Z",
     "iopub.status.busy": "2025-06-19T10:56:40.994582Z",
     "iopub.status.idle": "2025-06-19T10:56:41.005436Z",
     "shell.execute_reply": "2025-06-19T10:56:41.005436Z",
     "shell.execute_reply.started": "2025-06-19T10:56:40.994582Z"
    }
   },
   "outputs": [
    {
     "name": "stdout",
     "output_type": "stream",
     "text": [
      "['banana', 'apple', '243', 'kiran']\n"
     ]
    }
   ],
   "source": [
    "#How do you initialize a list with elements?\n",
    "mylist=[\"banana\",\"apple\",\"243\",\"kiran\"]\n",
    "print(mylist)"
   ]
  },
  {
   "cell_type": "code",
   "execution_count": 9,
   "id": "97014c38-f006-47c3-9075-9d911524ce40",
   "metadata": {
    "execution": {
     "iopub.execute_input": "2025-06-19T11:06:34.206382Z",
     "iopub.status.busy": "2025-06-19T11:06:34.206382Z",
     "iopub.status.idle": "2025-06-19T11:06:34.218307Z",
     "shell.execute_reply": "2025-06-19T11:06:34.218307Z",
     "shell.execute_reply.started": "2025-06-19T11:06:34.206382Z"
    }
   },
   "outputs": [
    {
     "name": "stdout",
     "output_type": "stream",
     "text": [
      "['banana']\n"
     ]
    }
   ],
   "source": [
    "#How do you access the first element of a list?\n",
    "mylist=[\"banana\",\"apple\",\"243\",\"kiran\"]\n",
    "p_list=[mylist[0]]\n",
    "print(p_list)\n"
   ]
  },
  {
   "cell_type": "code",
   "execution_count": 14,
   "id": "3921a79e-07d1-4959-9ea1-017d3d879d2f",
   "metadata": {
    "execution": {
     "iopub.execute_input": "2025-06-19T11:12:00.874785Z",
     "iopub.status.busy": "2025-06-19T11:12:00.874785Z",
     "iopub.status.idle": "2025-06-19T11:12:00.884972Z",
     "shell.execute_reply": "2025-06-19T11:12:00.884972Z",
     "shell.execute_reply.started": "2025-06-19T11:12:00.874785Z"
    }
   },
   "outputs": [
    {
     "name": "stdout",
     "output_type": "stream",
     "text": [
      "['kiran']\n"
     ]
    }
   ],
   "source": [
    "#5. How do you access the last element of a list?\n",
    "mylist=[\"banana\",\"apple\",\"243\",\"kiran\"]\n",
    "m_list=[mylist[-1]]\n",
    "print(m_list)"
   ]
  },
  {
   "cell_type": "code",
   "execution_count": 23,
   "id": "c6b5ee6e-bb1a-4092-9dba-1369706c06a0",
   "metadata": {
    "execution": {
     "iopub.execute_input": "2025-06-19T11:19:35.437748Z",
     "iopub.status.busy": "2025-06-19T11:19:35.437748Z",
     "iopub.status.idle": "2025-06-19T11:19:35.450534Z",
     "shell.execute_reply": "2025-06-19T11:19:35.450534Z",
     "shell.execute_reply.started": "2025-06-19T11:19:35.437748Z"
    }
   },
   "outputs": [
    {
     "name": "stdout",
     "output_type": "stream",
     "text": [
      "['cat', 'apple', '243', 'kiran']\n"
     ]
    }
   ],
   "source": [
    "#6. How can you update an element in a list?\n",
    "mylist=[\"banana\",\"apple\",\"243\",\"kiran\"]\n",
    "mylist[0] = \"cat\"\n",
    "print(mylist)"
   ]
  },
  {
   "cell_type": "code",
   "execution_count": 7,
   "id": "e5db8ff1-5a81-4843-b2bc-12b322858bac",
   "metadata": {
    "execution": {
     "iopub.execute_input": "2025-06-19T11:30:10.356384Z",
     "iopub.status.busy": "2025-06-19T11:30:10.356384Z",
     "iopub.status.idle": "2025-06-19T11:30:10.372726Z",
     "shell.execute_reply": "2025-06-19T11:30:10.370703Z",
     "shell.execute_reply.started": "2025-06-19T11:30:10.356384Z"
    }
   },
   "outputs": [
    {
     "data": {
      "text/plain": [
       "['ramesh']"
      ]
     },
     "execution_count": 7,
     "metadata": {},
     "output_type": "execute_result"
    }
   ],
   "source": [
    "#How do you append an element to a list?\n",
    "mylist=[]\n",
    "mylist.append('ramesh')\n",
    "mylist"
   ]
  },
  {
   "cell_type": "code",
   "execution_count": 10,
   "id": "3aca2f9c-7b9d-4dca-8f0e-8e7f73e7c6f2",
   "metadata": {
    "execution": {
     "iopub.execute_input": "2025-06-19T11:35:44.950088Z",
     "iopub.status.busy": "2025-06-19T11:35:44.950088Z",
     "iopub.status.idle": "2025-06-19T11:35:44.965934Z",
     "shell.execute_reply": "2025-06-19T11:35:44.965934Z",
     "shell.execute_reply.started": "2025-06-19T11:35:44.950088Z"
    }
   },
   "outputs": [
    {
     "name": "stdout",
     "output_type": "stream",
     "text": [
      "['banana', 'apple', '243', 'kiran', 'black', 'a', 'p', 'p', 'l', 'e']\n"
     ]
    }
   ],
   "source": [
    "#8. What is the difference between append() and extend()?\n",
    "mylist=[\"banana\",\"apple\",\"243\",\"kiran\"]\n",
    "mylist.append(\"black\")\n",
    "mylist.extend(\"apple\")\n",
    "print(mylist)"
   ]
  },
  {
   "cell_type": "code",
   "execution_count": 19,
   "id": "a38d1534-752a-4a8a-bd81-55a15365f789",
   "metadata": {
    "execution": {
     "iopub.execute_input": "2025-06-19T11:44:47.193359Z",
     "iopub.status.busy": "2025-06-19T11:44:47.193151Z",
     "iopub.status.idle": "2025-06-19T11:44:47.200743Z",
     "shell.execute_reply": "2025-06-19T11:44:47.199737Z",
     "shell.execute_reply.started": "2025-06-19T11:44:47.193359Z"
    }
   },
   "outputs": [
    {
     "data": {
      "text/plain": [
       "['banana', 'apple', 'suresh', '243', 'kiran']"
      ]
     },
     "execution_count": 19,
     "metadata": {},
     "output_type": "execute_result"
    }
   ],
   "source": [
    "#How do you insert an element at a specific index?\n",
    "mylist=[\"banana\",\"apple\",\"243\",\"kiran\"]\n",
    "mylist.insert(2,\"suresh\")\n",
    "mylist\n"
   ]
  },
  {
   "cell_type": "code",
   "execution_count": 21,
   "id": "2278c76a-29fc-4fa9-b962-d32ca4b36e88",
   "metadata": {
    "execution": {
     "iopub.execute_input": "2025-06-19T11:46:46.121689Z",
     "iopub.status.busy": "2025-06-19T11:46:46.121689Z",
     "iopub.status.idle": "2025-06-19T11:46:46.130383Z",
     "shell.execute_reply": "2025-06-19T11:46:46.129376Z",
     "shell.execute_reply.started": "2025-06-19T11:46:46.121689Z"
    }
   },
   "outputs": [
    {
     "data": {
      "text/plain": [
       "['banana', 'apple', 'kiran']"
      ]
     },
     "execution_count": 21,
     "metadata": {},
     "output_type": "execute_result"
    }
   ],
   "source": [
    "#How do you remove an element from a list using remove()?\n",
    "mylist=[\"banana\",\"apple\",\"243\",\"kiran\"]\n",
    "mylist.remove(\"243\")\n",
    "mylist"
   ]
  },
  {
   "cell_type": "code",
   "execution_count": 25,
   "id": "03d27771-86ec-450e-b6cf-5e3525f68672",
   "metadata": {
    "execution": {
     "iopub.execute_input": "2025-06-19T11:49:08.426643Z",
     "iopub.status.busy": "2025-06-19T11:49:08.426643Z",
     "iopub.status.idle": "2025-06-19T11:49:08.433552Z",
     "shell.execute_reply": "2025-06-19T11:49:08.432541Z",
     "shell.execute_reply.started": "2025-06-19T11:49:08.426643Z"
    }
   },
   "outputs": [
    {
     "name": "stdout",
     "output_type": "stream",
     "text": [
      "['banana', '243', 'kiran']\n"
     ]
    }
   ],
   "source": [
    "#How do you remove an element from a list using pop()?\n",
    "mylist=[\"banana\",\"apple\",\"243\",\"kiran\"]\n",
    "mylist.pop(1)\n",
    "print(mylist)"
   ]
  },
  {
   "cell_type": "code",
   "execution_count": 26,
   "id": "db27b34b-0852-4612-9e9a-7646b9cfe5bc",
   "metadata": {
    "execution": {
     "iopub.execute_input": "2025-06-19T11:50:37.148405Z",
     "iopub.status.busy": "2025-06-19T11:50:37.148405Z",
     "iopub.status.idle": "2025-06-19T11:50:37.154018Z",
     "shell.execute_reply": "2025-06-19T11:50:37.153008Z",
     "shell.execute_reply.started": "2025-06-19T11:50:37.148405Z"
    }
   },
   "outputs": [],
   "source": [
    "#What is the difference between pop() and remove()?\n",
    "#pop() removes last element by default, where as remove() removes desired element."
   ]
  },
  {
   "cell_type": "code",
   "execution_count": 38,
   "id": "0d12014e-ed0f-481c-a504-16e4bdb61048",
   "metadata": {
    "execution": {
     "iopub.execute_input": "2025-06-19T11:57:58.234105Z",
     "iopub.status.busy": "2025-06-19T11:57:58.234105Z",
     "iopub.status.idle": "2025-06-19T11:57:58.240187Z",
     "shell.execute_reply": "2025-06-19T11:57:58.239177Z",
     "shell.execute_reply.started": "2025-06-19T11:57:58.234105Z"
    }
   },
   "outputs": [
    {
     "name": "stdout",
     "output_type": "stream",
     "text": [
      "['banana', 'apple', '243', 'kiran']\n",
      "['banana', '243', 'kiran']\n"
     ]
    }
   ],
   "source": [
    "#How do you delete an element from a list using del?\n",
    "mylist=[\"banana\",\"apple\",\"243\",\"kiran\"]\n",
    "print(mylist)\n",
    "del mylist[1]\n",
    "print(mylist)"
   ]
  },
  {
   "cell_type": "code",
   "execution_count": 39,
   "id": "32870346-9f00-4b32-b5ce-d896dfeaaf39",
   "metadata": {
    "execution": {
     "iopub.execute_input": "2025-06-19T11:59:15.501297Z",
     "iopub.status.busy": "2025-06-19T11:59:15.500299Z",
     "iopub.status.idle": "2025-06-19T11:59:15.507794Z",
     "shell.execute_reply": "2025-06-19T11:59:15.506783Z",
     "shell.execute_reply.started": "2025-06-19T11:59:15.501297Z"
    }
   },
   "outputs": [
    {
     "name": "stdout",
     "output_type": "stream",
     "text": [
      "4\n"
     ]
    }
   ],
   "source": [
    "#How do you find the length of a list?\n",
    "mylist=[\"banana\",\"apple\",\"243\",\"kiran\"]\n",
    "print(len(mylist))"
   ]
  },
  {
   "cell_type": "code",
   "execution_count": 41,
   "id": "e45108c3-253d-4fd9-9b1a-f6f706729653",
   "metadata": {
    "execution": {
     "iopub.execute_input": "2025-06-19T12:02:39.430120Z",
     "iopub.status.busy": "2025-06-19T12:02:39.427152Z",
     "iopub.status.idle": "2025-06-19T12:02:39.436753Z",
     "shell.execute_reply": "2025-06-19T12:02:39.435648Z",
     "shell.execute_reply.started": "2025-06-19T12:02:39.430120Z"
    }
   },
   "outputs": [
    {
     "name": "stdout",
     "output_type": "stream",
     "text": [
      "True\n"
     ]
    }
   ],
   "source": [
    "#How do you check if an element exists in a list?\n",
    "mylist=[\"banana\",\"apple\",\"243\",\"kiran\"]\n",
    "print(\"243\" in mylist)"
   ]
  },
  {
   "cell_type": "code",
   "execution_count": 42,
   "id": "fb8f2ede-5d47-4ec4-bf47-7acccfb93cf4",
   "metadata": {
    "execution": {
     "iopub.execute_input": "2025-06-19T12:07:37.926801Z",
     "iopub.status.busy": "2025-06-19T12:07:37.925801Z",
     "iopub.status.idle": "2025-06-19T12:07:37.934925Z",
     "shell.execute_reply": "2025-06-19T12:07:37.933916Z",
     "shell.execute_reply.started": "2025-06-19T12:07:37.926801Z"
    }
   },
   "outputs": [
    {
     "name": "stdout",
     "output_type": "stream",
     "text": [
      "banana\n",
      "apple\n",
      "243\n",
      "kiran\n"
     ]
    }
   ],
   "source": [
    "#How do you loop through a list using a for loop?\n",
    "mylist=[\"banana\",\"apple\",\"243\",\"kiran\"]\n",
    "for i in mylist:\n",
    "    print(i)"
   ]
  },
  {
   "cell_type": "code",
   "execution_count": 53,
   "id": "78f4b99b-aab8-448d-b76b-a9fefd0f2ae2",
   "metadata": {
    "execution": {
     "iopub.execute_input": "2025-06-19T12:15:07.578381Z",
     "iopub.status.busy": "2025-06-19T12:15:07.577395Z",
     "iopub.status.idle": "2025-06-19T12:15:07.596010Z",
     "shell.execute_reply": "2025-06-19T12:15:07.594923Z",
     "shell.execute_reply.started": "2025-06-19T12:15:07.578381Z"
    }
   },
   "outputs": [
    {
     "name": "stdout",
     "output_type": "stream",
     "text": [
      "banana\n",
      "apple\n",
      "243\n",
      "kiran\n"
     ]
    },
    {
     "ename": "IndexError",
     "evalue": "list index out of range",
     "output_type": "error",
     "traceback": [
      "\u001b[1;31m---------------------------------------------------------------------------\u001b[0m",
      "\u001b[1;31mIndexError\u001b[0m                                Traceback (most recent call last)",
      "Cell \u001b[1;32mIn[53], line 5\u001b[0m\n\u001b[0;32m      3\u001b[0m i\u001b[38;5;241m=\u001b[39m\u001b[38;5;241m0\u001b[39m\n\u001b[0;32m      4\u001b[0m \u001b[38;5;28;01mwhile\u001b[39;00m i\u001b[38;5;241m<\u001b[39m\u001b[38;5;241m=\u001b[39m\u001b[38;5;28mlen\u001b[39m(mylist):\n\u001b[1;32m----> 5\u001b[0m     \u001b[38;5;28mprint\u001b[39m(mylist[i])\n\u001b[0;32m      6\u001b[0m     i\u001b[38;5;241m+\u001b[39m\u001b[38;5;241m=\u001b[39m\u001b[38;5;241m1\u001b[39m\n",
      "\u001b[1;31mIndexError\u001b[0m: list index out of range"
     ]
    }
   ],
   "source": [
    "#How do you loop through a list using a while loop?\n",
    "mylist=[\"banana\",\"apple\",\"243\",\"kiran\"]\n",
    "i=0\n",
    "while i<=len(mylist):\n",
    "    print(mylist[i])\n",
    "    i+=1"
   ]
  },
  {
   "cell_type": "code",
   "execution_count": 55,
   "id": "ef04632b-7626-4cd5-baa5-289ca393f07e",
   "metadata": {
    "execution": {
     "iopub.execute_input": "2025-06-19T12:15:43.631612Z",
     "iopub.status.busy": "2025-06-19T12:15:43.631612Z",
     "iopub.status.idle": "2025-06-19T12:15:43.636442Z",
     "shell.execute_reply": "2025-06-19T12:15:43.635435Z",
     "shell.execute_reply.started": "2025-06-19T12:15:43.631612Z"
    }
   },
   "outputs": [],
   "source": [
    "#18. How do you use list comprehension to create a new list?\n",
    "#9. What is the syntax for list comprehension with a condition?"
   ]
  },
  {
   "cell_type": "code",
   "execution_count": 56,
   "id": "176daf35-d8fc-4e78-ba63-8f073c4d6d5e",
   "metadata": {
    "execution": {
     "iopub.execute_input": "2025-06-19T12:18:27.935999Z",
     "iopub.status.busy": "2025-06-19T12:18:27.934976Z",
     "iopub.status.idle": "2025-06-19T12:18:27.946507Z",
     "shell.execute_reply": "2025-06-19T12:18:27.944472Z",
     "shell.execute_reply.started": "2025-06-19T12:18:27.935999Z"
    }
   },
   "outputs": [
    {
     "data": {
      "text/plain": [
       "['kiran', '243', 'apple', 'banana']"
      ]
     },
     "execution_count": 56,
     "metadata": {},
     "output_type": "execute_result"
    }
   ],
   "source": [
    "#How do you reverse a list?\n",
    "mylist=[\"banana\",\"apple\",\"243\",\"kiran\"]\n",
    "mylist.reverse()\n",
    "mylist\n"
   ]
  },
  {
   "cell_type": "code",
   "execution_count": 73,
   "id": "9bd91e02-d1e5-49d7-951a-f04187cddb2d",
   "metadata": {
    "execution": {
     "iopub.execute_input": "2025-06-19T12:32:21.743120Z",
     "iopub.status.busy": "2025-06-19T12:32:21.743120Z",
     "iopub.status.idle": "2025-06-19T12:32:21.755962Z",
     "shell.execute_reply": "2025-06-19T12:32:21.755962Z",
     "shell.execute_reply.started": "2025-06-19T12:32:21.743120Z"
    }
   },
   "outputs": [
    {
     "name": "stdout",
     "output_type": "stream",
     "text": [
      "[2.5, 12, 32, 34, 54, 58]\n"
     ]
    }
   ],
   "source": [
    "#21. How do you sort a list in ascending order?\n",
    "my_list=[2.5,12,32,54,34,58]\n",
    "my_list.sort()\n",
    "print(my_list)"
   ]
  },
  {
   "cell_type": "code",
   "execution_count": 81,
   "id": "bdcee0c8-4f3a-47b9-b3b1-46b061c1d1c9",
   "metadata": {
    "execution": {
     "iopub.execute_input": "2025-06-19T12:37:41.343203Z",
     "iopub.status.busy": "2025-06-19T12:37:41.343203Z",
     "iopub.status.idle": "2025-06-19T12:37:41.354321Z",
     "shell.execute_reply": "2025-06-19T12:37:41.354321Z",
     "shell.execute_reply.started": "2025-06-19T12:37:41.343203Z"
    }
   },
   "outputs": [
    {
     "name": "stdout",
     "output_type": "stream",
     "text": [
      "[58, 54, 34, 32, 12, 2.5]\n"
     ]
    }
   ],
   "source": [
    "#22. How do you sort a list in descending order?\n",
    "my_list=[2.5,12,32,54,34,58]\n",
    "my_list.sort(reverse=True)\n",
    "print(my_list)"
   ]
  },
  {
   "cell_type": "markdown",
   "id": "a5dfdb33-8375-46ba-ad8b-77ee0e7548e6",
   "metadata": {},
   "source": [
    "23. What is the difference between sort() and sorted()?\n",
    "# sort() = It is a list method, it changes the original list and this works only on lists.\n",
    "# sorted() = It is a built-in function, it does not changes the original, it creates a new sorted list and works on any iterable"
   ]
  },
  {
   "cell_type": "code",
   "execution_count": 88,
   "id": "54814f2d-8671-4611-a617-b2a740e14059",
   "metadata": {
    "execution": {
     "iopub.execute_input": "2025-06-19T12:46:39.208650Z",
     "iopub.status.busy": "2025-06-19T12:46:39.208650Z",
     "iopub.status.idle": "2025-06-19T12:46:39.220879Z",
     "shell.execute_reply": "2025-06-19T12:46:39.219247Z",
     "shell.execute_reply.started": "2025-06-19T12:46:39.208650Z"
    }
   },
   "outputs": [
    {
     "name": "stdout",
     "output_type": "stream",
     "text": [
      "1\n"
     ]
    }
   ],
   "source": [
    "#How do you count occurrences of an element in a list?\n",
    "my_list=[2.5,12,32,54,34,58]\n",
    "print(my_list.count(2.5))\n"
   ]
  },
  {
   "cell_type": "code",
   "execution_count": 92,
   "id": "cecadf3f-6ff2-4e54-96b8-47586002f4b7",
   "metadata": {
    "execution": {
     "iopub.execute_input": "2025-06-19T12:49:21.416504Z",
     "iopub.status.busy": "2025-06-19T12:49:21.416504Z",
     "iopub.status.idle": "2025-06-19T12:49:21.432924Z",
     "shell.execute_reply": "2025-06-19T12:49:21.430395Z",
     "shell.execute_reply.started": "2025-06-19T12:49:21.416504Z"
    }
   },
   "outputs": [
    {
     "name": "stdout",
     "output_type": "stream",
     "text": [
      "3\n"
     ]
    }
   ],
   "source": [
    "#How do you find the index of an element in a list?\n",
    "my_list=[2.5,12,32,54,34,58]\n",
    "print(my_list.index(54))"
   ]
  },
  {
   "cell_type": "code",
   "execution_count": 94,
   "id": "9d10a240-5436-4f06-8830-775abd8bbd28",
   "metadata": {
    "execution": {
     "iopub.execute_input": "2025-06-19T12:54:18.357556Z",
     "iopub.status.busy": "2025-06-19T12:54:18.357556Z",
     "iopub.status.idle": "2025-06-19T12:54:18.397893Z",
     "shell.execute_reply": "2025-06-19T12:54:18.394335Z",
     "shell.execute_reply.started": "2025-06-19T12:54:18.357556Z"
    }
   },
   "outputs": [
    {
     "ename": "ValueError",
     "evalue": "36 is not in list",
     "output_type": "error",
     "traceback": [
      "\u001b[1;31m---------------------------------------------------------------------------\u001b[0m",
      "\u001b[1;31mValueError\u001b[0m                                Traceback (most recent call last)",
      "Cell \u001b[1;32mIn[94], line 4\u001b[0m\n\u001b[0;32m      1\u001b[0m \u001b[38;5;66;03m#What happens if you try to access an index out of range?\u001b[39;00m\n\u001b[0;32m      2\u001b[0m \u001b[38;5;66;03m#if you try to access an index out of range  it gives the value error.\u001b[39;00m\n\u001b[0;32m      3\u001b[0m my_list\u001b[38;5;241m=\u001b[39m[\u001b[38;5;241m2.5\u001b[39m,\u001b[38;5;241m12\u001b[39m,\u001b[38;5;241m32\u001b[39m,\u001b[38;5;241m54\u001b[39m,\u001b[38;5;241m34\u001b[39m,\u001b[38;5;241m58\u001b[39m]\n\u001b[1;32m----> 4\u001b[0m \u001b[38;5;28mprint\u001b[39m(my_list\u001b[38;5;241m.\u001b[39mindex(\u001b[38;5;241m36\u001b[39m))\n",
      "\u001b[1;31mValueError\u001b[0m: 36 is not in list"
     ]
    }
   ],
   "source": [
    "#What happens if you try to access an index out of range?\n",
    "#if you try to access an index out of range  it gives the value error.\n",
    "my_list=[2.5,12,32,54,34,58]\n",
    "print(my_list.index(36))"
   ]
  },
  {
   "cell_type": "code",
   "execution_count": 97,
   "id": "01a3310b-c375-446f-80f1-eb5a6f6e95d0",
   "metadata": {
    "execution": {
     "iopub.execute_input": "2025-06-19T13:02:11.837063Z",
     "iopub.status.busy": "2025-06-19T13:02:11.837063Z",
     "iopub.status.idle": "2025-06-19T13:02:11.847328Z",
     "shell.execute_reply": "2025-06-19T13:02:11.847328Z",
     "shell.execute_reply.started": "2025-06-19T13:02:11.837063Z"
    }
   },
   "outputs": [
    {
     "name": "stdout",
     "output_type": "stream",
     "text": [
      "[2.5, 12, 32, 54, 34, 58, 2, 3, 4]\n"
     ]
    }
   ],
   "source": [
    "#27. How can you concatenate two lists?\n",
    "my_list=[2.5,12,32,54,34,58]\n",
    "a=[2,3,4]\n",
    "my_list.extend(a)\n",
    "print(my_list)"
   ]
  },
  {
   "cell_type": "code",
   "execution_count": 99,
   "id": "92c4d08a-ff9c-4a48-a97e-ab456e4b8f39",
   "metadata": {
    "execution": {
     "iopub.execute_input": "2025-06-19T13:04:03.246657Z",
     "iopub.status.busy": "2025-06-19T13:04:03.246657Z",
     "iopub.status.idle": "2025-06-19T13:04:03.262958Z",
     "shell.execute_reply": "2025-06-19T13:04:03.261944Z",
     "shell.execute_reply.started": "2025-06-19T13:04:03.246657Z"
    }
   },
   "outputs": [
    {
     "data": {
      "text/plain": [
       "[2.5, 12, 32, 54, 34, 58, 2.5, 12, 32, 54, 34, 58]"
      ]
     },
     "execution_count": 99,
     "metadata": {},
     "output_type": "execute_result"
    }
   ],
   "source": [
    "#28. How can you replicate a list?\n",
    "my_list=[2.5,12,32,54,34,58]\n",
    "my_list.extend(my_list)\n",
    "my_list"
   ]
  },
  {
   "cell_type": "code",
   "execution_count": 110,
   "id": "720cece2-a213-40c8-9a95-e02750cbba5c",
   "metadata": {
    "execution": {
     "iopub.execute_input": "2025-06-19T13:17:42.106420Z",
     "iopub.status.busy": "2025-06-19T13:17:42.105886Z",
     "iopub.status.idle": "2025-06-19T13:17:42.114554Z",
     "shell.execute_reply": "2025-06-19T13:17:42.113805Z",
     "shell.execute_reply.started": "2025-06-19T13:17:42.106420Z"
    }
   },
   "outputs": [
    {
     "name": "stdout",
     "output_type": "stream",
     "text": [
      "python programming\n",
      "python programmin\n",
      "thon progr\n",
      "tn\n",
      "th\n"
     ]
    }
   ],
   "source": [
    "#29. How do you slice a list?\n",
    "list1=\"python programming\"\n",
    "print(list1[0:])\n",
    "print(list1[:-1])\n",
    "print(list1[2:12])\n",
    "print(list1[2::14])\n",
    "print(list1[2:4])"
   ]
  },
  {
   "cell_type": "code",
   "execution_count": 116,
   "id": "a17c072d-d123-40fe-b1ce-11bb32497bd1",
   "metadata": {
    "execution": {
     "iopub.execute_input": "2025-06-19T13:22:24.360516Z",
     "iopub.status.busy": "2025-06-19T13:22:24.360064Z",
     "iopub.status.idle": "2025-06-19T13:22:24.372463Z",
     "shell.execute_reply": "2025-06-19T13:22:24.372463Z",
     "shell.execute_reply.started": "2025-06-19T13:22:24.360516Z"
    }
   },
   "outputs": [
    {
     "data": {
      "text/plain": [
       "[2.5, 12, 32, 54, 34, 58]"
      ]
     },
     "execution_count": 116,
     "metadata": {},
     "output_type": "execute_result"
    }
   ],
   "source": [
    "#30. How do you copy a list without referencing the original?\n",
    "my_list=[2.5,12,32,54,34,58]\n",
    "list1=my_list.copy()\n",
    "list1"
   ]
  },
  {
   "cell_type": "code",
   "execution_count": 117,
   "id": "b80bb661-c3fc-4505-9f61-cb7650ef3e58",
   "metadata": {
    "execution": {
     "iopub.execute_input": "2025-06-19T13:23:38.043922Z",
     "iopub.status.busy": "2025-06-19T13:23:38.043922Z",
     "iopub.status.idle": "2025-06-19T13:23:38.059690Z",
     "shell.execute_reply": "2025-06-19T13:23:38.056974Z",
     "shell.execute_reply.started": "2025-06-19T13:23:38.043922Z"
    }
   },
   "outputs": [
    {
     "data": {
      "text/plain": [
       "[]"
      ]
     },
     "execution_count": 117,
     "metadata": {},
     "output_type": "execute_result"
    }
   ],
   "source": [
    "#How do you clear all elements from a list?\n",
    "my_list=[2.5,12,32,54,34,58]\n",
    "my_list.clear()\n",
    "my_list"
   ]
  },
  {
   "cell_type": "code",
   "execution_count": 119,
   "id": "7fe8d469-8d01-4112-ab87-7ea41df5e7d4",
   "metadata": {
    "execution": {
     "iopub.execute_input": "2025-06-19T13:27:39.426718Z",
     "iopub.status.busy": "2025-06-19T13:27:39.426718Z",
     "iopub.status.idle": "2025-06-19T13:27:39.443548Z",
     "shell.execute_reply": "2025-06-19T13:27:39.441565Z",
     "shell.execute_reply.started": "2025-06-19T13:27:39.426718Z"
    }
   },
   "outputs": [],
   "source": [
    "#32. What are nested lists?\n",
    "# A nested list in Python is a list that contains other lists as its elements\n",
    "#ex:[2.5,[12],32,[54,34],58]"
   ]
  },
  {
   "cell_type": "code",
   "execution_count": 125,
   "id": "0e3255e8-2502-46cd-9064-43da99e3f735",
   "metadata": {
    "execution": {
     "iopub.execute_input": "2025-06-19T13:34:57.841528Z",
     "iopub.status.busy": "2025-06-19T13:34:57.841528Z",
     "iopub.status.idle": "2025-06-19T13:34:57.858399Z",
     "shell.execute_reply": "2025-06-19T13:34:57.855596Z",
     "shell.execute_reply.started": "2025-06-19T13:34:57.841528Z"
    }
   },
   "outputs": [
    {
     "data": {
      "text/plain": [
       "1"
      ]
     },
     "execution_count": 125,
     "metadata": {},
     "output_type": "execute_result"
    }
   ],
   "source": [
    "#33. How do you access elements in a nested list?\n",
    "my_list=[2.5,13,[1,2,3]]\n",
    "my_list[2][0]\n"
   ]
  },
  {
   "cell_type": "code",
   "execution_count": 126,
   "id": "380ab75a-791a-4a77-8fdf-28416245fd85",
   "metadata": {
    "execution": {
     "iopub.execute_input": "2025-06-19T13:37:29.674206Z",
     "iopub.status.busy": "2025-06-19T13:37:29.674206Z",
     "iopub.status.idle": "2025-06-19T13:37:29.690791Z",
     "shell.execute_reply": "2025-06-19T13:37:29.687113Z",
     "shell.execute_reply.started": "2025-06-19T13:37:29.674206Z"
    }
   },
   "outputs": [],
   "source": [
    "#34. How do you flatten a nested list?\n",
    "#35. What is the use of the list() constructor?\n",
    "#36. What are the common errors with lists in Python?"
   ]
  },
  {
   "cell_type": "code",
   "execution_count": 3,
   "id": "ac8f0595-3bcf-4372-a234-7ad72c0e9ef4",
   "metadata": {
    "execution": {
     "iopub.execute_input": "2025-06-19T13:47:57.369067Z",
     "iopub.status.busy": "2025-06-19T13:47:57.369067Z",
     "iopub.status.idle": "2025-06-19T13:47:57.388351Z",
     "shell.execute_reply": "2025-06-19T13:47:57.388351Z",
     "shell.execute_reply.started": "2025-06-19T13:47:57.369067Z"
    }
   },
   "outputs": [
    {
     "data": {
      "text/plain": [
       "[(0, 'P'),\n",
       " (1, 'y'),\n",
       " (2, 't'),\n",
       " (3, 'h'),\n",
       " (4, 'o'),\n",
       " (5, 'n'),\n",
       " (6, ' '),\n",
       " (7, 'p'),\n",
       " (8, 'r'),\n",
       " (9, 'o'),\n",
       " (10, 'g'),\n",
       " (11, 'r'),\n",
       " (12, 'a'),\n",
       " (13, 'm'),\n",
       " (14, 'm'),\n",
       " (15, 'i'),\n",
       " (16, 'n'),\n",
       " (17, 'g')]"
      ]
     },
     "execution_count": 3,
     "metadata": {},
     "output_type": "execute_result"
    }
   ],
   "source": [
    "#37. How do you convert a string to a list of characters?\n",
    "list1 = \"Python programming\"\n",
    "list(enumerate(list1))\n",
    "\n",
    "\n"
   ]
  },
  {
   "cell_type": "code",
   "execution_count": 6,
   "id": "9473db23-f80a-4f6b-aee3-bc48d8c84150",
   "metadata": {
    "execution": {
     "iopub.execute_input": "2025-06-19T13:54:36.034075Z",
     "iopub.status.busy": "2025-06-19T13:54:36.034075Z",
     "iopub.status.idle": "2025-06-19T13:54:36.042341Z",
     "shell.execute_reply": "2025-06-19T13:54:36.042341Z",
     "shell.execute_reply.started": "2025-06-19T13:54:36.034075Z"
    }
   },
   "outputs": [
    {
     "name": "stdout",
     "output_type": "stream",
     "text": [
      "red, green, orange\n"
     ]
    }
   ],
   "source": [
    "#38. How do you vconvert a list of strings into a single string?\n",
    "a=[\"red\",\"green\",\"orange\"]\n",
    "b = ', '.join(a)\n",
    "print(b)"
   ]
  },
  {
   "cell_type": "code",
   "execution_count": 7,
   "id": "70a1bdb0-fb4b-48bb-a9e8-35ed5543e3ce",
   "metadata": {
    "execution": {
     "iopub.execute_input": "2025-06-19T13:54:52.427961Z",
     "iopub.status.busy": "2025-06-19T13:54:52.427961Z",
     "iopub.status.idle": "2025-06-19T13:54:52.441348Z",
     "shell.execute_reply": "2025-06-19T13:54:52.438285Z",
     "shell.execute_reply.started": "2025-06-19T13:54:52.427961Z"
    }
   },
   "outputs": [],
   "source": [
    "#39. How do you get the minimum and maximum values from a list?"
   ]
  },
  {
   "cell_type": "code",
   "execution_count": 9,
   "id": "c3ef9a64-2fed-4c5c-8b09-98969794f49d",
   "metadata": {
    "execution": {
     "iopub.execute_input": "2025-06-19T13:57:26.215327Z",
     "iopub.status.busy": "2025-06-19T13:57:26.215327Z",
     "iopub.status.idle": "2025-06-19T13:57:26.231606Z",
     "shell.execute_reply": "2025-06-19T13:57:26.231606Z",
     "shell.execute_reply.started": "2025-06-19T13:57:26.215327Z"
    }
   },
   "outputs": [
    {
     "data": {
      "text/plain": [
       "[(0, 'red'), (1, 'green'), (2, 'orange')]"
      ]
     },
     "execution_count": 9,
     "metadata": {},
     "output_type": "execute_result"
    }
   ],
   "source": [
    "#40. How do you use the enumerate() function with a list?\n",
    "a=[\"red\",\"green\",\"orange\"]\n",
    "\n",
    "list(enumerate(a))"
   ]
  },
  {
   "cell_type": "code",
   "execution_count": null,
   "id": "9c886f71-bc5d-4119-ab62-462a92566742",
   "metadata": {},
   "outputs": [],
   "source": []
  }
 ],
 "metadata": {
  "kernelspec": {
   "display_name": "Python [conda env:base] *",
   "language": "python",
   "name": "conda-base-py"
  },
  "language_info": {
   "codemirror_mode": {
    "name": "ipython",
    "version": 3
   },
   "file_extension": ".py",
   "mimetype": "text/x-python",
   "name": "python",
   "nbconvert_exporter": "python",
   "pygments_lexer": "ipython3",
   "version": "3.12.7"
  }
 },
 "nbformat": 4,
 "nbformat_minor": 5
}
