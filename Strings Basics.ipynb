{
 "cells": [
  {
   "cell_type": "code",
   "execution_count": 25,
   "id": "69895f67-1a89-414a-9668-efd7458146b8",
   "metadata": {
    "execution": {
     "iopub.execute_input": "2025-06-17T09:11:32.271171Z",
     "iopub.status.busy": "2025-06-17T09:11:32.271171Z",
     "iopub.status.idle": "2025-06-17T09:11:32.279521Z",
     "shell.execute_reply": "2025-06-17T09:11:32.278102Z",
     "shell.execute_reply.started": "2025-06-17T09:11:32.271171Z"
    }
   },
   "outputs": [
    {
     "name": "stdout",
     "output_type": "stream",
     "text": [
      "7\n"
     ]
    }
   ],
   "source": [
    "#How many characters are in the string \"Python3\"?\n",
    "a=\"python3\"\n",
    "b=len(a)\n",
    "print(b)"
   ]
  },
  {
   "cell_type": "code",
   "execution_count": 18,
   "id": "2908eacb-5bdc-4a3f-8b1d-4e106eaae994",
   "metadata": {
    "execution": {
     "iopub.execute_input": "2025-06-17T09:06:14.984859Z",
     "iopub.status.busy": "2025-06-17T09:06:14.984859Z",
     "iopub.status.idle": "2025-06-17T09:06:14.996773Z",
     "shell.execute_reply": "2025-06-17T09:06:14.996773Z",
     "shell.execute_reply.started": "2025-06-17T09:06:14.984859Z"
    }
   },
   "outputs": [
    {
     "name": "stdout",
     "output_type": "stream",
     "text": [
      "13\n"
     ]
    }
   ],
   "source": [
    "#If text = \" Hello World \", what does len(text) return?\n",
    "\n",
    "text=\" Hello World \"\n",
    "b=len(text)\n",
    "print(b)\n",
    "\n"
   ]
  },
  {
   "cell_type": "code",
   "execution_count": null,
   "id": "4496bd2e-eaad-4b33-a733-fc3a6abbd6fc",
   "metadata": {},
   "outputs": [],
   "source": [
    "#Count the length of \" \" (a space character). Is it 0?"
   ]
  },
  {
   "cell_type": "code",
   "execution_count": 26,
   "id": "b18aa120-7723-45a0-90d0-d9df1160e80f",
   "metadata": {
    "execution": {
     "iopub.execute_input": "2025-06-17T09:12:36.959372Z",
     "iopub.status.busy": "2025-06-17T09:12:36.959372Z",
     "iopub.status.idle": "2025-06-17T09:12:36.968617Z",
     "shell.execute_reply": "2025-06-17T09:12:36.968617Z",
     "shell.execute_reply.started": "2025-06-17T09:12:36.959372Z"
    }
   },
   "outputs": [
    {
     "name": "stdout",
     "output_type": "stream",
     "text": [
      "1\n"
     ]
    }
   ],
   "source": [
    "a=\" \"\n",
    "s=len(a)\n",
    "print(s)"
   ]
  },
  {
   "cell_type": "code",
   "execution_count": 31,
   "id": "4824bf75-ac22-4b71-8b12-bfbb508c1dbe",
   "metadata": {
    "execution": {
     "iopub.execute_input": "2025-06-17T09:16:55.822115Z",
     "iopub.status.busy": "2025-06-17T09:16:55.822115Z",
     "iopub.status.idle": "2025-06-17T09:16:55.830525Z",
     "shell.execute_reply": "2025-06-17T09:16:55.830525Z",
     "shell.execute_reply.started": "2025-06-17T09:16:55.822115Z"
    }
   },
   "outputs": [
    {
     "name": "stdout",
     "output_type": "stream",
     "text": [
      "GOOD MORNING\n"
     ]
    }
   ],
   "source": [
    "#Convert \"Good Morning\" to uppercase. What do you get?\n",
    "a=\"Good Morning\"\n",
    "b=a.upper()\n",
    "print(b)"
   ]
  },
  {
   "cell_type": "code",
   "execution_count": 42,
   "id": "562abcc3-7de4-457d-bc0a-e9d41d1f851e",
   "metadata": {
    "execution": {
     "iopub.execute_input": "2025-06-17T09:28:17.477413Z",
     "iopub.status.busy": "2025-06-17T09:28:17.477413Z",
     "iopub.status.idle": "2025-06-17T09:28:17.488361Z",
     "shell.execute_reply": "2025-06-17T09:28:17.488361Z",
     "shell.execute_reply.started": "2025-06-17T09:28:17.477413Z"
    }
   },
   "outputs": [
    {
     "name": "stdout",
     "output_type": "stream",
     "text": [
      "hello\n"
     ]
    }
   ],
   "source": [
    "#What is \"HELLO\".lower()?\n",
    "a=\"HELLO\".lower()\n",
    "b=a.lower()\n",
    "print(b)\n"
   ]
  },
  {
   "cell_type": "code",
   "execution_count": 37,
   "id": "8c709532-67e0-436c-86c1-163c17240345",
   "metadata": {
    "execution": {
     "iopub.execute_input": "2025-06-17T09:23:31.375541Z",
     "iopub.status.busy": "2025-06-17T09:23:31.375541Z",
     "iopub.status.idle": "2025-06-17T09:23:31.387455Z",
     "shell.execute_reply": "2025-06-17T09:23:31.387455Z",
     "shell.execute_reply.started": "2025-06-17T09:23:31.375541Z"
    }
   },
   "outputs": [
    {
     "name": "stdout",
     "output_type": "stream",
     "text": [
      "PYTHON\n",
      "python\n"
     ]
    }
   ],
   "source": [
    "#If msg = \"PyThOn\", what will msg.upper() and msg.lower() return?\n",
    "a=\"PyThOn\"\n",
    "b=\"PyThOn\".upper()\n",
    "c=\"PyThOn\".lower()\n",
    "print(b)\n",
    "print(c)"
   ]
  },
  {
   "cell_type": "code",
   "execution_count": 39,
   "id": "79c0970f-bdef-4e53-affc-6af80af7de4e",
   "metadata": {
    "execution": {
     "iopub.execute_input": "2025-06-17T09:24:43.345545Z",
     "iopub.status.busy": "2025-06-17T09:24:43.345545Z",
     "iopub.status.idle": "2025-06-17T09:24:43.361483Z",
     "shell.execute_reply": "2025-06-17T09:24:43.361483Z",
     "shell.execute_reply.started": "2025-06-17T09:24:43.345545Z"
    },
    "scrolled": true
   },
   "outputs": [
    {
     "name": "stdout",
     "output_type": "stream",
     "text": [
      "123ABC!\n"
     ]
    }
   ],
   "source": [
    "#What happens if you use .upper() on \"123abc!\"?\n",
    "a=\"123abc!\"\n",
    "b=\"123abc!\".upper()\n",
    "print(b)"
   ]
  },
  {
   "cell_type": "code",
   "execution_count": 40,
   "id": "cb54b4fe-02c9-4407-ad56-386c16ef569c",
   "metadata": {
    "execution": {
     "iopub.execute_input": "2025-06-17T09:26:46.863006Z",
     "iopub.status.busy": "2025-06-17T09:26:46.863006Z",
     "iopub.status.idle": "2025-06-17T09:26:46.871331Z",
     "shell.execute_reply": "2025-06-17T09:26:46.871331Z",
     "shell.execute_reply.started": "2025-06-17T09:26:46.863006Z"
    }
   },
   "outputs": [
    {
     "name": "stdout",
     "output_type": "stream",
     "text": [
      "Hello world\n"
     ]
    }
   ],
   "source": [
    "#What does  \"hello world\" . capitalize() return\n",
    "a= \"hello world\"\n",
    "b= \"hello world\".capitalize()\n",
    "print(b)"
   ]
  },
  {
   "cell_type": "code",
   "execution_count": 45,
   "id": "f7021032-9269-42e6-b49a-a454d96b3167",
   "metadata": {
    "execution": {
     "iopub.execute_input": "2025-06-17T09:30:55.829973Z",
     "iopub.status.busy": "2025-06-17T09:30:55.829973Z",
     "iopub.status.idle": "2025-06-17T09:30:55.839477Z",
     "shell.execute_reply": "2025-06-17T09:30:55.839477Z",
     "shell.execute_reply.started": "2025-06-17T09:30:55.829973Z"
    }
   },
   "outputs": [
    {
     "name": "stdout",
     "output_type": "stream",
     "text": [
      "Hello World From Python\n"
     ]
    }
   ],
   "source": [
    "#Convert \"hello world from python\" to title case\n",
    "a= \"hello world from python\"\n",
    "b=a.title()\n",
    "print(b)"
   ]
  },
  {
   "cell_type": "code",
   "execution_count": 46,
   "id": "191f8060-b3f2-4b60-889f-530d4b48deb2",
   "metadata": {
    "execution": {
     "iopub.execute_input": "2025-06-17T09:31:58.420678Z",
     "iopub.status.busy": "2025-06-17T09:31:58.420678Z",
     "iopub.status.idle": "2025-06-17T09:31:58.436681Z",
     "shell.execute_reply": "2025-06-17T09:31:58.436617Z",
     "shell.execute_reply.started": "2025-06-17T09:31:58.420678Z"
    }
   },
   "outputs": [
    {
     "name": "stdout",
     "output_type": "stream",
     "text": [
      "Java\n"
     ]
    }
   ],
   "source": [
    "#Will \"JAVA\".capitalize() return \"Java\" or \"JAVA\"\n",
    "a=\"JAVA\".capitalize()\n",
    "print(a)"
   ]
  },
  {
   "cell_type": "code",
   "execution_count": 51,
   "id": "f1a1034d-0e30-4008-8ad0-0a3b2d876f82",
   "metadata": {
    "execution": {
     "iopub.execute_input": "2025-06-17T09:36:14.993996Z",
     "iopub.status.busy": "2025-06-17T09:36:14.993996Z",
     "iopub.status.idle": "2025-06-17T09:36:15.005248Z",
     "shell.execute_reply": "2025-06-17T09:36:15.005248Z",
     "shell.execute_reply.started": "2025-06-17T09:36:14.993996Z"
    }
   },
   "outputs": [
    {
     "name": "stdout",
     "output_type": "stream",
     "text": [
      "Hello World\n",
      "Hello world\n"
     ]
    }
   ],
   "source": [
    "#What’s the difference between \"hello world\".title() and \"hello world\".capitalize()?\n",
    "a=\"hello world\".title()\n",
    "b=\"hello world\".capitalize()\n",
    "print(a)\n",
    "print(b)"
   ]
  },
  {
   "cell_type": "code",
   "execution_count": 53,
   "id": "309fbba9-0087-425e-a509-fbe4a465b5f9",
   "metadata": {
    "execution": {
     "iopub.execute_input": "2025-06-17T09:39:46.388541Z",
     "iopub.status.busy": "2025-06-17T09:39:46.388541Z",
     "iopub.status.idle": "2025-06-17T09:39:46.405027Z",
     "shell.execute_reply": "2025-06-17T09:39:46.403513Z",
     "shell.execute_reply.started": "2025-06-17T09:39:46.388541Z"
    }
   },
   "outputs": [
    {
     "name": "stdout",
     "output_type": "stream",
     "text": [
      "2\n"
     ]
    }
   ],
   "source": [
    "#Count how many 'o' are in \"hello, world!\".\n",
    "a=\"hello, world!\"\n",
    "b=a.count(\"o\")\n",
    "print(b)"
   ]
  },
  {
   "cell_type": "code",
   "execution_count": 55,
   "id": "a313fd27-b5d7-41e2-a716-3961cfd08414",
   "metadata": {
    "execution": {
     "iopub.execute_input": "2025-06-17T09:41:55.326713Z",
     "iopub.status.busy": "2025-06-17T09:41:55.326713Z",
     "iopub.status.idle": "2025-06-17T09:41:55.335447Z",
     "shell.execute_reply": "2025-06-17T09:41:55.335447Z",
     "shell.execute_reply.started": "2025-06-17T09:41:55.326713Z"
    }
   },
   "outputs": [
    {
     "name": "stdout",
     "output_type": "stream",
     "text": [
      "1\n"
     ]
    }
   ],
   "source": [
    "#Given quote = \"Practice makes perfect\", how many times does 'p' appear?\n",
    "a= \"Practice makes perfect\"\n",
    "b=a.count(\"p\")\n",
    "print(b)"
   ]
  },
  {
   "cell_type": "code",
   "execution_count": 56,
   "id": "82e83f43-6d0a-4eaf-a9d7-6e068fa183a9",
   "metadata": {
    "execution": {
     "iopub.execute_input": "2025-06-17T09:43:25.696763Z",
     "iopub.status.busy": "2025-06-17T09:43:25.696763Z",
     "iopub.status.idle": "2025-06-17T09:43:25.713890Z",
     "shell.execute_reply": "2025-06-17T09:43:25.711388Z",
     "shell.execute_reply.started": "2025-06-17T09:43:25.696763Z"
    }
   },
   "outputs": [
    {
     "name": "stdout",
     "output_type": "stream",
     "text": [
      "4\n"
     ]
    }
   ],
   "source": [
    "#What is \"Mississippi\".count('s')?\n",
    "a=\"Mississippi\"\n",
    "b=a.count('s')\n",
    "print(b)"
   ]
  },
  {
   "cell_type": "code",
   "execution_count": 57,
   "id": "e0f92641-cf82-4cc7-8c14-6f143a8e39ad",
   "metadata": {
    "execution": {
     "iopub.execute_input": "2025-06-17T09:44:52.153391Z",
     "iopub.status.busy": "2025-06-17T09:44:52.153391Z",
     "iopub.status.idle": "2025-06-17T09:44:52.169362Z",
     "shell.execute_reply": "2025-06-17T09:44:52.169018Z",
     "shell.execute_reply.started": "2025-06-17T09:44:52.153391Z"
    }
   },
   "outputs": [
    {
     "name": "stdout",
     "output_type": "stream",
     "text": [
      "2\n"
     ]
    }
   ],
   "source": [
    "#What does \"banana\".count(\"na\") return?\n",
    "a=\"banana\"\n",
    "b=a.count(\"na\")\n",
    "print(b)"
   ]
  },
  {
   "cell_type": "code",
   "execution_count": 58,
   "id": "1b0ba19e-3881-435b-866a-a3ba5becdc83",
   "metadata": {
    "execution": {
     "iopub.execute_input": "2025-06-17T09:46:11.723750Z",
     "iopub.status.busy": "2025-06-17T09:46:11.723750Z",
     "iopub.status.idle": "2025-06-17T09:46:11.735565Z",
     "shell.execute_reply": "2025-06-17T09:46:11.735565Z",
     "shell.execute_reply.started": "2025-06-17T09:46:11.723750Z"
    }
   },
   "outputs": [
    {
     "name": "stdout",
     "output_type": "stream",
     "text": [
      "0\n"
     ]
    }
   ],
   "source": [
    "#What is the position of 'e' in \"elephant\" using .find()\n",
    "a= \"elephant\"\n",
    "b=a.find('e')\n",
    "print(b)"
   ]
  },
  {
   "cell_type": "code",
   "execution_count": 59,
   "id": "25335295-0eec-44ff-89d0-d6880486c62a",
   "metadata": {
    "execution": {
     "iopub.execute_input": "2025-06-17T09:48:23.592393Z",
     "iopub.status.busy": "2025-06-17T09:48:23.592393Z",
     "iopub.status.idle": "2025-06-17T09:48:23.603681Z",
     "shell.execute_reply": "2025-06-17T09:48:23.603681Z",
     "shell.execute_reply.started": "2025-06-17T09:48:23.592393Z"
    }
   },
   "outputs": [
    {
     "name": "stdout",
     "output_type": "stream",
     "text": [
      "2\n"
     ]
    }
   ],
   "source": [
    "#Use .find() to locate 'z' in \"puzzle\" — what index is returned?\n",
    "print(\"puzzle\".find('z'))"
   ]
  },
  {
   "cell_type": "code",
   "execution_count": 60,
   "id": "5a868e57-6e33-4953-b16b-ba073cfe48f0",
   "metadata": {
    "execution": {
     "iopub.execute_input": "2025-06-17T09:50:21.832365Z",
     "iopub.status.busy": "2025-06-17T09:50:21.832365Z",
     "iopub.status.idle": "2025-06-17T09:50:21.848406Z",
     "shell.execute_reply": "2025-06-17T09:50:21.846887Z",
     "shell.execute_reply.started": "2025-06-17T09:50:21.832365Z"
    }
   },
   "outputs": [
    {
     "name": "stdout",
     "output_type": "stream",
     "text": [
      "-1\n"
     ]
    }
   ],
   "source": [
    "#What happens if .find() doesn’t find the character?\n",
    "print(\"manikanta\".find(\"s\"))"
   ]
  },
  {
   "cell_type": "code",
   "execution_count": 61,
   "id": "e3b94ef1-221a-4ae1-bf92-5e34b7ccb68a",
   "metadata": {
    "execution": {
     "iopub.execute_input": "2025-06-17T09:52:32.276699Z",
     "iopub.status.busy": "2025-06-17T09:52:32.276699Z",
     "iopub.status.idle": "2025-06-17T09:52:32.317103Z",
     "shell.execute_reply": "2025-06-17T09:52:32.315091Z",
     "shell.execute_reply.started": "2025-06-17T09:52:32.276699Z"
    }
   },
   "outputs": [
    {
     "ename": "TypeError",
     "evalue": "must be str, not int",
     "output_type": "error",
     "traceback": [
      "\u001b[1;31m---------------------------------------------------------------------------\u001b[0m",
      "\u001b[1;31mTypeError\u001b[0m                                 Traceback (most recent call last)",
      "Cell \u001b[1;32mIn[61], line 2\u001b[0m\n\u001b[0;32m      1\u001b[0m \u001b[38;5;66;03m#How does index() behave differently from find() when the item isn’t found?\u001b[39;00m\n\u001b[1;32m----> 2\u001b[0m \u001b[38;5;28mprint\u001b[39m(\u001b[38;5;124m\"\u001b[39m\u001b[38;5;124mmanikanta\u001b[39m\u001b[38;5;124m\"\u001b[39m\u001b[38;5;241m.\u001b[39mindex(s))\n\u001b[0;32m      3\u001b[0m \u001b[38;5;28mprint\u001b[39m(\u001b[38;5;124m\"\u001b[39m\u001b[38;5;124mmanikanta\u001b[39m\u001b[38;5;124m\"\u001b[39m\u001b[38;5;241m.\u001b[39mfind(s))\n",
      "\u001b[1;31mTypeError\u001b[0m: must be str, not int"
     ]
    }
   ],
   "source": [
    "#How does index() behave differently from find() when the item isn’t found?\n",
    "print(\"manikanta\".index(s))\n",
    "print(\"manikanta\".find(s))"
   ]
  },
  {
   "cell_type": "code",
   "execution_count": 62,
   "id": "2e2cf15b-ea45-4267-9fad-65496eb1832d",
   "metadata": {
    "execution": {
     "iopub.execute_input": "2025-06-17T09:53:18.214137Z",
     "iopub.status.busy": "2025-06-17T09:53:18.214137Z",
     "iopub.status.idle": "2025-06-17T09:53:18.224029Z",
     "shell.execute_reply": "2025-06-17T09:53:18.224029Z",
     "shell.execute_reply.started": "2025-06-17T09:53:18.214137Z"
    }
   },
   "outputs": [
    {
     "name": "stdout",
     "output_type": "stream",
     "text": [
      "1\n"
     ]
    }
   ],
   "source": [
    "#What does \"hello\".index(\"e\") return?\n",
    "print(\"hello\".index('e'))"
   ]
  },
  {
   "cell_type": "code",
   "execution_count": 65,
   "id": "9656c10d-c16d-471c-ba1e-c8f16a314451",
   "metadata": {
    "execution": {
     "iopub.execute_input": "2025-06-17T09:54:55.268011Z",
     "iopub.status.busy": "2025-06-17T09:54:55.268011Z",
     "iopub.status.idle": "2025-06-17T09:54:55.284416Z",
     "shell.execute_reply": "2025-06-17T09:54:55.281402Z",
     "shell.execute_reply.started": "2025-06-17T09:54:55.268011Z"
    }
   },
   "outputs": [
    {
     "name": "stdout",
     "output_type": "stream",
     "text": [
      "Hialice\n"
     ]
    }
   ],
   "source": [
    "#Use + to add \"Hi, \" and \"Alice\" together.\n",
    "print(\"Hi\"+\"alice\")\n"
   ]
  },
  {
   "cell_type": "code",
   "execution_count": 67,
   "id": "03e279f2-4464-4900-9dda-a040ed229774",
   "metadata": {
    "execution": {
     "iopub.execute_input": "2025-06-17T09:56:20.083500Z",
     "iopub.status.busy": "2025-06-17T09:56:20.083500Z",
     "iopub.status.idle": "2025-06-17T09:56:20.097328Z",
     "shell.execute_reply": "2025-06-17T09:56:20.097328Z",
     "shell.execute_reply.started": "2025-06-17T09:56:20.083500Z"
    }
   },
   "outputs": [
    {
     "name": "stdout",
     "output_type": "stream",
     "text": [
      "Age:  str(25)\n"
     ]
    }
   ],
   "source": [
    "#What is the result of \"Age: \" + str(25)\n",
    "print(\"Age: \" +\" str(25)\")"
   ]
  },
  {
   "cell_type": "code",
   "execution_count": 68,
   "id": "596badef-1665-455a-8abe-1eb1fb676434",
   "metadata": {
    "execution": {
     "iopub.execute_input": "2025-06-17T09:57:42.172368Z",
     "iopub.status.busy": "2025-06-17T09:57:42.172368Z",
     "iopub.status.idle": "2025-06-17T09:57:42.188829Z",
     "shell.execute_reply": "2025-06-17T09:57:42.186312Z",
     "shell.execute_reply.started": "2025-06-17T09:57:42.172368Z"
    }
   },
   "outputs": [
    {
     "name": "stdout",
     "output_type": "stream",
     "text": [
      "abc123\n"
     ]
    }
   ],
   "source": [
    "#Can you concatenate \"abc\" and \"123\" to form \"abc123\"\n",
    "print( \"abc\" +\"123\")"
   ]
  },
  {
   "cell_type": "code",
   "execution_count": 72,
   "id": "de57080a-2e48-433a-a6d1-2a5c75c4c50a",
   "metadata": {
    "execution": {
     "iopub.execute_input": "2025-06-17T10:01:52.436007Z",
     "iopub.status.busy": "2025-06-17T10:01:52.436007Z",
     "iopub.status.idle": "2025-06-17T10:01:52.446068Z",
     "shell.execute_reply": "2025-06-17T10:01:52.446068Z",
     "shell.execute_reply.started": "2025-06-17T10:01:52.436007Z"
    }
   },
   "outputs": [
    {
     "name": "stdout",
     "output_type": "stream",
     "text": [
      "The cat barks\n"
     ]
    }
   ],
   "source": [
    "#Replace \"dog\" with \"cat\" in \"The dog barks.\".\n",
    "print(\"The dog barks\".replace(\"dog\",\"cat\"))\n",
    "\n"
   ]
  },
  {
   "cell_type": "code",
   "execution_count": 75,
   "id": "1cc4da5d-793b-4ebf-bdb9-c0212081d49a",
   "metadata": {
    "execution": {
     "iopub.execute_input": "2025-06-17T10:04:09.899446Z",
     "iopub.status.busy": "2025-06-17T10:04:09.899446Z",
     "iopub.status.idle": "2025-06-17T10:04:09.915797Z",
     "shell.execute_reply": "2025-06-17T10:04:09.914779Z",
     "shell.execute_reply.started": "2025-06-17T10:04:09.899446Z"
    }
   },
   "outputs": [
    {
     "name": "stdout",
     "output_type": "stream",
     "text": [
      "sun sun go away\n"
     ]
    }
   ],
   "source": [
    "#Given msg = \"rain rain go away\", replace 'rain' with 'sun'.\n",
    "print(\"rain rain go away\".replace(\"rain\",\"sun\"))"
   ]
  },
  {
   "cell_type": "code",
   "execution_count": 76,
   "id": "da597233-b4be-4b70-92f7-57e3d65816ae",
   "metadata": {
    "execution": {
     "iopub.execute_input": "2025-06-17T10:05:19.287501Z",
     "iopub.status.busy": "2025-06-17T10:05:19.287501Z",
     "iopub.status.idle": "2025-06-17T10:05:19.304227Z",
     "shell.execute_reply": "2025-06-17T10:05:19.302356Z",
     "shell.execute_reply.started": "2025-06-17T10:05:19.287501Z"
    }
   },
   "outputs": [
    {
     "name": "stdout",
     "output_type": "stream",
     "text": [
      "b@n@n@\n"
     ]
    }
   ],
   "source": [
    "#What happens when you replace 'a' with '@' in \"banana\"?\n",
    "print(\"banana\".replace(\"a\",\"@\"))\n",
    "\n"
   ]
  },
  {
   "cell_type": "code",
   "execution_count": 80,
   "id": "09031282-b214-4392-9400-c089c4d07f75",
   "metadata": {
    "execution": {
     "iopub.execute_input": "2025-06-17T10:09:04.886535Z",
     "iopub.status.busy": "2025-06-17T10:09:04.886535Z",
     "iopub.status.idle": "2025-06-17T10:09:04.897670Z",
     "shell.execute_reply": "2025-06-17T10:09:04.897670Z",
     "shell.execute_reply.started": "2025-06-17T10:09:04.886535Z"
    }
   },
   "outputs": [
    {
     "name": "stdout",
     "output_type": "stream",
     "text": [
      "join-the-party\n"
     ]
    }
   ],
   "source": [
    "#How do you replace spaces with hyphens in \"join the party\"\n",
    "print( \"join the party\".replace(\" \",\"-\"))"
   ]
  },
  {
   "cell_type": "code",
   "execution_count": 81,
   "id": "bc9cb46c-8e4e-4205-b205-5d3b9edcea40",
   "metadata": {
    "execution": {
     "iopub.execute_input": "2025-06-17T10:10:19.756650Z",
     "iopub.status.busy": "2025-06-17T10:10:19.756650Z",
     "iopub.status.idle": "2025-06-17T10:10:19.769588Z",
     "shell.execute_reply": "2025-06-17T10:10:19.769588Z",
     "shell.execute_reply.started": "2025-06-17T10:10:19.756650Z"
    }
   },
   "outputs": [
    {
     "name": "stdout",
     "output_type": "stream",
     "text": [
      "hello\n"
     ]
    }
   ],
   "source": [
    "#What does \" hello \".strip() return?\n",
    "print(\" hello \".strip())"
   ]
  },
  {
   "cell_type": "code",
   "execution_count": 85,
   "id": "a6a26c36-afa4-4123-be00-79e581b44af0",
   "metadata": {
    "execution": {
     "iopub.execute_input": "2025-06-17T10:12:50.738190Z",
     "iopub.status.busy": "2025-06-17T10:12:50.738190Z",
     "iopub.status.idle": "2025-06-17T10:12:50.754277Z",
     "shell.execute_reply": "2025-06-17T10:12:50.753257Z",
     "shell.execute_reply.started": "2025-06-17T10:12:50.738190Z"
    }
   },
   "outputs": [
    {
     "name": "stdout",
     "output_type": "stream",
     "text": [
      "Welcome\n"
     ]
    }
   ],
   "source": [
    "#Remove # from both ends of \"###Welcome###\" using strip()\n",
    "print(\"###Welcome###\".strip(\"#\"))"
   ]
  },
  {
   "cell_type": "code",
   "execution_count": 88,
   "id": "565413b2-d978-4bc1-9c72-373b29772494",
   "metadata": {
    "execution": {
     "iopub.execute_input": "2025-06-17T10:16:28.830614Z",
     "iopub.status.busy": "2025-06-17T10:16:28.830614Z",
     "iopub.status.idle": "2025-06-17T10:16:28.841185Z",
     "shell.execute_reply": "2025-06-17T10:16:28.841185Z",
     "shell.execute_reply.started": "2025-06-17T10:16:28.830614Z"
    }
   },
   "outputs": [
    {
     "name": "stdout",
     "output_type": "stream",
     "text": [
      "manikanta is nice boy\n"
     ]
    }
   ],
   "source": [
    "#Does strip() remove characters from the middle of a string?\n",
    "print(\"manikanta is nice boy\" .strip(\"is\"))"
   ]
  },
  {
   "cell_type": "code",
   "execution_count": 89,
   "id": "df2bb007-1336-45f7-b00b-0ed290b76ca5",
   "metadata": {
    "execution": {
     "iopub.execute_input": "2025-06-17T10:18:19.842168Z",
     "iopub.status.busy": "2025-06-17T10:18:19.842168Z",
     "iopub.status.idle": "2025-06-17T10:18:19.858202Z",
     "shell.execute_reply": "2025-06-17T10:18:19.855678Z",
     "shell.execute_reply.started": "2025-06-17T10:18:19.842168Z"
    }
   },
   "outputs": [
    {
     "name": "stdout",
     "output_type": "stream",
     "text": [
      "hello\n"
     ]
    }
   ],
   "source": [
    "#How do you remove only the trailing spaces from \"Hello \" \n",
    "print(\"hello \".rstrip())"
   ]
  },
  {
   "cell_type": "code",
   "execution_count": 91,
   "id": "b2e3fede-5b25-47f1-9508-f26940c56149",
   "metadata": {
    "execution": {
     "iopub.execute_input": "2025-06-17T10:21:36.752413Z",
     "iopub.status.busy": "2025-06-17T10:21:36.751875Z",
     "iopub.status.idle": "2025-06-17T10:21:36.759894Z",
     "shell.execute_reply": "2025-06-17T10:21:36.759815Z",
     "shell.execute_reply.started": "2025-06-17T10:21:36.752413Z"
    }
   },
   "outputs": [
    {
     "name": "stdout",
     "output_type": "stream",
     "text": [
      "Hello, Alice!\n"
     ]
    }
   ],
   "source": [
    "#Use .format() to insert \"Alice\" into \"Hello, {}!\"\n",
    "print(\"Hello, {}!\".format(\"Alice\" ))"
   ]
  },
  {
   "cell_type": "code",
   "execution_count": 94,
   "id": "c510d296-17ef-4264-add1-959877cd4b0a",
   "metadata": {
    "execution": {
     "iopub.execute_input": "2025-06-17T10:25:50.922012Z",
     "iopub.status.busy": "2025-06-17T10:25:50.922012Z",
     "iopub.status.idle": "2025-06-17T10:25:50.934501Z",
     "shell.execute_reply": "2025-06-17T10:25:50.934501Z",
     "shell.execute_reply.started": "2025-06-17T10:25:50.922012Z"
    }
   },
   "outputs": [
    {
     "name": "stdout",
     "output_type": "stream",
     "text": [
      "john scored 95 marks\n"
     ]
    }
   ],
   "source": [
    "#What is \"{} scored {} marks\".format(\"John\", 95)?\n",
    "print(\"{} scored {} marks\".format(\"john\", 95))"
   ]
  },
  {
   "cell_type": "code",
   "execution_count": 96,
   "id": "b33121b9-d3dc-4dc2-aef6-c561cf78c499",
   "metadata": {
    "execution": {
     "iopub.execute_input": "2025-06-17T10:28:31.067898Z",
     "iopub.status.busy": "2025-06-17T10:28:31.059538Z",
     "iopub.status.idle": "2025-06-17T10:28:31.075338Z",
     "shell.execute_reply": "2025-06-17T10:28:31.075338Z",
     "shell.execute_reply.started": "2025-06-17T10:28:31.067898Z"
    }
   },
   "outputs": [
    {
     "name": "stdout",
     "output_type": "stream",
     "text": [
      "bob is 30 years old\n"
     ]
    }
   ],
   "source": [
    "#Fill in two blanks in \"{} is {} years old\" with \"Bob\" and 30.\n",
    "print(\"{} is {} years old\".format(\"bob\",\"30\"))\n"
   ]
  },
  {
   "cell_type": "code",
   "execution_count": 97,
   "id": "b5f5d010-06c7-4351-95ad-712cb35717c7",
   "metadata": {
    "execution": {
     "iopub.execute_input": "2025-06-17T10:29:27.605825Z",
     "iopub.status.busy": "2025-06-17T10:29:27.605825Z",
     "iopub.status.idle": "2025-06-17T10:29:27.613666Z",
     "shell.execute_reply": "2025-06-17T10:29:27.613666Z",
     "shell.execute_reply.started": "2025-06-17T10:29:27.605825Z"
    }
   },
   "outputs": [
    {
     "name": "stdout",
     "output_type": "stream",
     "text": [
      "2+3=5\n"
     ]
    }
   ],
   "source": [
    "#Can you use numbers with placeholders? Try \"{}+{}={}\".format(2, 3, 5).\n",
    "print( \"{}+{}={}\".format(2, 3, 5))\n"
   ]
  },
  {
   "cell_type": "code",
   "execution_count": 98,
   "id": "7a4d4095-4b5f-4a52-9306-450be17acfb5",
   "metadata": {
    "execution": {
     "iopub.execute_input": "2025-06-17T10:30:43.776772Z",
     "iopub.status.busy": "2025-06-17T10:30:43.776772Z",
     "iopub.status.idle": "2025-06-17T10:30:43.792743Z",
     "shell.execute_reply": "2025-06-17T10:30:43.790223Z",
     "shell.execute_reply.started": "2025-06-17T10:30:43.776772Z"
    }
   },
   "outputs": [
    {
     "name": "stdout",
     "output_type": "stream",
     "text": [
      "['apple', 'banana', 'grape']\n"
     ]
    }
   ],
   "source": [
    "#What does \"apple,banana,grape\".split(\",\") return?\n",
    "print(\"apple,banana,grape\".split(\",\"))\n"
   ]
  },
  {
   "cell_type": "code",
   "execution_count": 99,
   "id": "204385df-f989-475c-9e18-e7dcc4b50c02",
   "metadata": {
    "execution": {
     "iopub.execute_input": "2025-06-17T10:32:08.987964Z",
     "iopub.status.busy": "2025-06-17T10:32:08.979449Z",
     "iopub.status.idle": "2025-06-17T10:32:08.997082Z",
     "shell.execute_reply": "2025-06-17T10:32:08.997082Z",
     "shell.execute_reply.started": "2025-06-17T10:32:08.987964Z"
    },
    "scrolled": true
   },
   "outputs": [
    {
     "name": "stdout",
     "output_type": "stream",
     "text": [
      "['one', 'two', 'three']\n"
     ]
    }
   ],
   "source": [
    "#How many parts do you get from \"one two three\".split()?\n",
    "print( \"one two three\".split())"
   ]
  },
  {
   "cell_type": "code",
   "execution_count": 100,
   "id": "ae80ff76-21f5-40a5-a4a7-068e91e9a7ec",
   "metadata": {
    "execution": {
     "iopub.execute_input": "2025-06-17T10:33:59.643146Z",
     "iopub.status.busy": "2025-06-17T10:33:59.643146Z",
     "iopub.status.idle": "2025-06-17T10:33:59.653654Z",
     "shell.execute_reply": "2025-06-17T10:33:59.653654Z",
     "shell.execute_reply.started": "2025-06-17T10:33:59.643146Z"
    }
   },
   "outputs": [
    {
     "name": "stdout",
     "output_type": "stream",
     "text": [
      "['2025', '05', '16']\n"
     ]
    }
   ],
   "source": [
    "#Use split(\"-\") on \"2025-05-16\". What do you get?\n",
    "print(\"2025-05-16\".split(\"-\"))\n"
   ]
  },
  {
   "cell_type": "code",
   "execution_count": 105,
   "id": "acdee5d3-5b9e-45c6-b10c-1fc31be13c29",
   "metadata": {
    "execution": {
     "iopub.execute_input": "2025-06-17T10:37:51.993091Z",
     "iopub.status.busy": "2025-06-17T10:37:51.993091Z",
     "iopub.status.idle": "2025-06-17T10:37:52.003034Z",
     "shell.execute_reply": "2025-06-17T10:37:52.003034Z",
     "shell.execute_reply.started": "2025-06-17T10:37:51.993091Z"
    }
   },
   "outputs": [
    {
     "name": "stdout",
     "output_type": "stream",
     "text": [
      "['hello']\n"
     ]
    }
   ],
   "source": [
    "#Can you split \"hello\" using a space as a separator?\n",
    "print(\"hello\".split(\"-\"))"
   ]
  },
  {
   "cell_type": "code",
   "execution_count": 107,
   "id": "f5afa9b9-8e9b-49d5-a28b-9d6bd069d314",
   "metadata": {
    "execution": {
     "iopub.execute_input": "2025-06-17T10:39:38.274162Z",
     "iopub.status.busy": "2025-06-17T10:39:38.274162Z",
     "iopub.status.idle": "2025-06-17T10:39:38.282566Z",
     "shell.execute_reply": "2025-06-17T10:39:38.281557Z",
     "shell.execute_reply.started": "2025-06-17T10:39:38.274162Z"
    }
   },
   "outputs": [
    {
     "name": "stdout",
     "output_type": "stream",
     "text": [
      "PYTHON\n"
     ]
    }
   ],
   "source": [
    "#Take \" python \" and return \"PYTHON\" with whitespace removed.\n",
    "print( \" python \".strip().upper())"
   ]
  },
  {
   "cell_type": "code",
   "execution_count": 109,
   "id": "63b25dd5-626f-46f2-896f-889b15c1908c",
   "metadata": {
    "execution": {
     "iopub.execute_input": "2025-06-17T10:41:04.197382Z",
     "iopub.status.busy": "2025-06-17T10:41:04.197382Z",
     "iopub.status.idle": "2025-06-17T10:41:04.212998Z",
     "shell.execute_reply": "2025-06-17T10:41:04.210772Z",
     "shell.execute_reply.started": "2025-06-17T10:41:04.197382Z"
    }
   },
   "outputs": [
    {
     "name": "stdout",
     "output_type": "stream",
     "text": [
      "Score: 100\n"
     ]
    }
   ],
   "source": [
    "#Format and print \"Score: 100\" using .format().\n",
    "print(\"Score: {}\".format(100))\n",
    "\n"
   ]
  },
  {
   "cell_type": "code",
   "execution_count": 110,
   "id": "9d503df6-3c3e-4a9e-8cc4-f0a151298799",
   "metadata": {
    "execution": {
     "iopub.execute_input": "2025-06-17T10:41:51.127858Z",
     "iopub.status.busy": "2025-06-17T10:41:51.127858Z",
     "iopub.status.idle": "2025-06-17T10:41:51.142914Z",
     "shell.execute_reply": "2025-06-17T10:41:51.140009Z",
     "shell.execute_reply.started": "2025-06-17T10:41:51.127858Z"
    }
   },
   "outputs": [
    {
     "name": "stdout",
     "output_type": "stream",
     "text": [
      "PYTHON IS FUN\n"
     ]
    }
   ],
   "source": [
    "#Convert \"python is fun\" to \"Python Is Fun\" using any method.\n",
    "print(\"python is fun\".upper())"
   ]
  },
  {
   "cell_type": "code",
   "execution_count": 113,
   "id": "360e45f1-6c0e-41b9-bd54-75c1d4f80581",
   "metadata": {
    "execution": {
     "iopub.execute_input": "2025-06-17T10:44:01.149343Z",
     "iopub.status.busy": "2025-06-17T10:44:01.149343Z",
     "iopub.status.idle": "2025-06-17T10:44:01.160960Z",
     "shell.execute_reply": "2025-06-17T10:44:01.160960Z",
     "shell.execute_reply.started": "2025-06-17T10:44:01.149343Z"
    }
   },
   "outputs": [
    {
     "name": "stdout",
     "output_type": "stream",
     "text": [
      "he**o wor*d\n"
     ]
    }
   ],
   "source": [
    "#Replace all 'l' in \"hello world\" with'*'\n",
    "print(\"hello world\".replace('l','*'))"
   ]
  },
  {
   "cell_type": "code",
   "execution_count": 116,
   "id": "de07fa5a-a69a-40b2-b999-4a933cf757c0",
   "metadata": {
    "execution": {
     "iopub.execute_input": "2025-06-17T10:47:02.632622Z",
     "iopub.status.busy": "2025-06-17T10:47:02.632622Z",
     "iopub.status.idle": "2025-06-17T10:47:02.643064Z",
     "shell.execute_reply": "2025-06-17T10:47:02.643064Z",
     "shell.execute_reply.started": "2025-06-17T10:47:02.632622Z"
    }
   },
   "outputs": [
    {
     "name": "stdout",
     "output_type": "stream",
     "text": [
      "World\n"
     ]
    }
   ],
   "source": [
    "#How do you get just the word \"World\" from \"Hello World\"?\n",
    "p=\"Hello World\"\n",
    "print(p[6:])"
   ]
  },
  {
   "cell_type": "code",
   "execution_count": null,
   "id": "4f489f6a-98d1-42b6-99a7-817e10b5203f",
   "metadata": {},
   "outputs": [],
   "source": []
  }
 ],
 "metadata": {
  "kernelspec": {
   "display_name": "Python [conda env:base] *",
   "language": "python",
   "name": "conda-base-py"
  },
  "language_info": {
   "codemirror_mode": {
    "name": "ipython",
    "version": 3
   },
   "file_extension": ".py",
   "mimetype": "text/x-python",
   "name": "python",
   "nbconvert_exporter": "python",
   "pygments_lexer": "ipython3",
   "version": "3.12.7"
  }
 },
 "nbformat": 4,
 "nbformat_minor": 5
}
