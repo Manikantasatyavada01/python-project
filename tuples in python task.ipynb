{
 "cells": [
  {
   "cell_type": "markdown",
   "id": "8e6fc914-74b6-4493-b6df-4a508d6caea3",
   "metadata": {},
   "source": [
    "## 1. What is a tuple in Python and how is it different from a list?\n",
    "* It is a multi value datatype\n",
    "* It is an ordered collection\n",
    "* It allows duplicate elememts\n",
    "* It supports indexing\n",
    "* The default value of tuple is () - empty tuple\n",
    "* We can also create nested tuple\n",
    "### Major differences between lis and tuple are :\n",
    "* Tuple is immutable that means we cannot modify or change\n",
    "* In some cases we can modify . If element inside the tuple itself mutale then we can modify\n",
    "* Tuple is faster than list due to its immutability"
   ]
  },
  {
   "cell_type": "code",
   "execution_count": 8,
   "id": "c1fb7678-089f-4459-a30a-7a09c485cf75",
   "metadata": {
    "execution": {
     "iopub.execute_input": "2025-06-20T09:27:00.424026Z",
     "iopub.status.busy": "2025-06-20T09:27:00.422973Z",
     "iopub.status.idle": "2025-06-20T09:27:00.432537Z",
     "shell.execute_reply": "2025-06-20T09:27:00.431523Z",
     "shell.execute_reply.started": "2025-06-20T09:27:00.424026Z"
    }
   },
   "outputs": [
    {
     "name": "stdout",
     "output_type": "stream",
     "text": [
      "<class 'tuple'> (25,)\n"
     ]
    }
   ],
   "source": [
    "#2. How can you create a tuple with a single element?\n",
    "tuple=(25,)\n",
    "print(type(tuple),tuple)"
   ]
  },
  {
   "cell_type": "markdown",
   "id": "714bb8a9-b10e-4875-9eca-3923d9c6b4fb",
   "metadata": {},
   "source": [
    "#3. Is a tuple mutable or immutable? Justify your answer.\n",
    "* tuple() is immutable we cannot change or modify the data\n",
    "* If we try to assaign any new data to existed ones it throws an Type Error\n"
   ]
  },
  {
   "cell_type": "code",
   "execution_count": 27,
   "id": "2048e96d-2385-4d4f-acc1-653fee4f7446",
   "metadata": {
    "execution": {
     "iopub.execute_input": "2025-06-20T09:44:02.390078Z",
     "iopub.status.busy": "2025-06-20T09:44:02.390078Z",
     "iopub.status.idle": "2025-06-20T09:44:02.397214Z",
     "shell.execute_reply": "2025-06-20T09:44:02.395196Z",
     "shell.execute_reply.started": "2025-06-20T09:44:02.390078Z"
    }
   },
   "outputs": [],
   "source": [
    "del tuple"
   ]
  },
  {
   "cell_type": "code",
   "execution_count": 28,
   "id": "bfe7619d-6219-4cd5-974b-7fdd6f470a9c",
   "metadata": {
    "execution": {
     "iopub.execute_input": "2025-06-20T09:44:05.604481Z",
     "iopub.status.busy": "2025-06-20T09:44:05.603484Z",
     "iopub.status.idle": "2025-06-20T09:44:05.609990Z",
     "shell.execute_reply": "2025-06-20T09:44:05.609477Z",
     "shell.execute_reply.started": "2025-06-20T09:44:05.604481Z"
    }
   },
   "outputs": [
    {
     "name": "stdout",
     "output_type": "stream",
     "text": [
      "('green', 'blue', 'red', 'pink')\n"
     ]
    }
   ],
   "source": [
    "#4. Write a Python code to convert a list into a tuple.\n",
    "list=['green','blue','red','pink']\n",
    "print(tuple(list))"
   ]
  },
  {
   "cell_type": "code",
   "execution_count": 18,
   "id": "4e88dc5b-0e7c-41c3-bd34-e386e5bdeda6",
   "metadata": {
    "execution": {
     "iopub.execute_input": "2025-06-20T09:37:47.026202Z",
     "iopub.status.busy": "2025-06-20T09:37:47.026202Z",
     "iopub.status.idle": "2025-06-20T09:37:47.031414Z",
     "shell.execute_reply": "2025-06-20T09:37:47.030407Z",
     "shell.execute_reply.started": "2025-06-20T09:37:47.026202Z"
    }
   },
   "outputs": [
    {
     "name": "stdout",
     "output_type": "stream",
     "text": [
      "rat\n"
     ]
    }
   ],
   "source": [
    "#5. How do you access elements in a tuple\n",
    "tuple =('cat','dog','cow','rat')\n",
    "print(tuple[3])"
   ]
  },
  {
   "cell_type": "code",
   "execution_count": 29,
   "id": "d76f5cfe-cb83-4f3e-8ab4-a01ee76abd90",
   "metadata": {
    "execution": {
     "iopub.execute_input": "2025-06-20T09:49:30.439464Z",
     "iopub.status.busy": "2025-06-20T09:49:30.438469Z",
     "iopub.status.idle": "2025-06-20T09:49:30.456568Z",
     "shell.execute_reply": "2025-06-20T09:49:30.455559Z",
     "shell.execute_reply.started": "2025-06-20T09:49:30.439464Z"
    }
   },
   "outputs": [
    {
     "ename": "TypeError",
     "evalue": "'tuple' object does not support item assignment",
     "output_type": "error",
     "traceback": [
      "\u001b[1;31m---------------------------------------------------------------------------\u001b[0m",
      "\u001b[1;31mTypeError\u001b[0m                                 Traceback (most recent call last)",
      "Cell \u001b[1;32mIn[29], line 3\u001b[0m\n\u001b[0;32m      1\u001b[0m \u001b[38;5;66;03m#What happens if you try to change the value of a tuple element?\u001b[39;00m\n\u001b[0;32m      2\u001b[0m \u001b[38;5;28mtuple\u001b[39m \u001b[38;5;241m=\u001b[39m(\u001b[38;5;124m'\u001b[39m\u001b[38;5;124mcat\u001b[39m\u001b[38;5;124m'\u001b[39m,\u001b[38;5;124m'\u001b[39m\u001b[38;5;124mdog\u001b[39m\u001b[38;5;124m'\u001b[39m,\u001b[38;5;124m'\u001b[39m\u001b[38;5;124mcow\u001b[39m\u001b[38;5;124m'\u001b[39m,\u001b[38;5;124m'\u001b[39m\u001b[38;5;124mrat\u001b[39m\u001b[38;5;124m'\u001b[39m)\n\u001b[1;32m----> 3\u001b[0m \u001b[38;5;28mtuple\u001b[39m[\u001b[38;5;241m1\u001b[39m]\u001b[38;5;241m=\u001b[39m\u001b[38;5;124m'\u001b[39m\u001b[38;5;124mgoat\u001b[39m\u001b[38;5;124m'\u001b[39m\n\u001b[0;32m      4\u001b[0m \u001b[38;5;28mprint\u001b[39m(\u001b[38;5;28mtuple\u001b[39m[\u001b[38;5;241m1\u001b[39m])\n",
      "\u001b[1;31mTypeError\u001b[0m: 'tuple' object does not support item assignment"
     ]
    }
   ],
   "source": [
    "#What happens if you try to change the value of a tuple element?\n",
    "tuple =('cat','dog','cow','rat')\n",
    "tuple[1]='goat'\n",
    "print(tuple[1])"
   ]
  },
  {
   "cell_type": "code",
   "execution_count": 35,
   "id": "d4415252-6f5d-4b7e-97a6-78b52325a9c7",
   "metadata": {
    "execution": {
     "iopub.execute_input": "2025-06-20T09:59:34.266970Z",
     "iopub.status.busy": "2025-06-20T09:59:34.266970Z",
     "iopub.status.idle": "2025-06-20T09:59:34.273302Z",
     "shell.execute_reply": "2025-06-20T09:59:34.272284Z",
     "shell.execute_reply.started": "2025-06-20T09:59:34.266970Z"
    }
   },
   "outputs": [
    {
     "name": "stdout",
     "output_type": "stream",
     "text": [
      "<class 'int'>\n"
     ]
    }
   ],
   "source": [
    "#7. Can a tuple contain elements of different data types? Explain with example.\n",
    "tuple1=('name',25,25.6)\n",
    "print(type(tuple1[1]))"
   ]
  },
  {
   "cell_type": "code",
   "execution_count": 38,
   "id": "1a6b6aec-467b-4800-9458-460345487932",
   "metadata": {
    "execution": {
     "iopub.execute_input": "2025-06-20T10:09:09.889533Z",
     "iopub.status.busy": "2025-06-20T10:09:09.888200Z",
     "iopub.status.idle": "2025-06-20T10:09:09.893733Z",
     "shell.execute_reply": "2025-06-20T10:09:09.893733Z",
     "shell.execute_reply.started": "2025-06-20T10:09:09.889330Z"
    }
   },
   "outputs": [
    {
     "name": "stdout",
     "output_type": "stream",
     "text": [
      "True\n"
     ]
    }
   ],
   "source": [
    "#8. How do you check if an item exists in a tuple?\n",
    "a =('cat','dog','cow','rat')\n",
    "print(\"cow\" in a)"
   ]
  },
  {
   "cell_type": "code",
   "execution_count": 39,
   "id": "e2da6d9d-f5bd-442b-a5a3-4c722cdd7ae7",
   "metadata": {
    "execution": {
     "iopub.execute_input": "2025-06-20T10:11:52.134203Z",
     "iopub.status.busy": "2025-06-20T10:11:52.133258Z",
     "iopub.status.idle": "2025-06-20T10:11:52.139565Z",
     "shell.execute_reply": "2025-06-20T10:11:52.138545Z",
     "shell.execute_reply.started": "2025-06-20T10:11:52.134203Z"
    }
   },
   "outputs": [
    {
     "name": "stdout",
     "output_type": "stream",
     "text": [
      "1\n"
     ]
    }
   ],
   "source": [
    "#9. Write a program to count the number of occurrences of an element in a tuple.\n",
    "a =('cat','dog','cow','rat')\n",
    "print(a.count(\"rat\"))"
   ]
  },
  {
   "cell_type": "code",
   "execution_count": 40,
   "id": "82e152ed-7506-4ba4-b37f-66a4b4386ef1",
   "metadata": {
    "execution": {
     "iopub.execute_input": "2025-06-20T10:13:35.453438Z",
     "iopub.status.busy": "2025-06-20T10:13:35.453438Z",
     "iopub.status.idle": "2025-06-20T10:13:35.460623Z",
     "shell.execute_reply": "2025-06-20T10:13:35.459613Z",
     "shell.execute_reply.started": "2025-06-20T10:13:35.453438Z"
    }
   },
   "outputs": [
    {
     "name": "stdout",
     "output_type": "stream",
     "text": [
      "0\n"
     ]
    }
   ],
   "source": [
    "#10. How do you find the index of an element in a tuple?\n",
    "a =('cat','dog','cow','rat')\n",
    "print(a.index('cat'))"
   ]
  },
  {
   "cell_type": "code",
   "execution_count": 43,
   "id": "dd82f894-6c8f-478b-8054-27ece8f1c92e",
   "metadata": {
    "execution": {
     "iopub.execute_input": "2025-06-20T10:16:29.769800Z",
     "iopub.status.busy": "2025-06-20T10:16:29.769800Z",
     "iopub.status.idle": "2025-06-20T10:16:29.775658Z",
     "shell.execute_reply": "2025-06-20T10:16:29.774644Z",
     "shell.execute_reply.started": "2025-06-20T10:16:29.769800Z"
    }
   },
   "outputs": [
    {
     "name": "stdout",
     "output_type": "stream",
     "text": [
      "('dog', 'cow', 'rat')\n",
      "('dog', 'cow')\n"
     ]
    }
   ],
   "source": [
    "#11. Explain slicing in tuples with an example.\n",
    "a =('cat','dog','cow','rat')\n",
    "print(a[1:4])\n",
    "print(a[1:3])"
   ]
  },
  {
   "cell_type": "code",
   "execution_count": 45,
   "id": "16c5409b-c5fa-4b25-9f55-061892d386db",
   "metadata": {
    "execution": {
     "iopub.execute_input": "2025-06-20T10:19:56.529179Z",
     "iopub.status.busy": "2025-06-20T10:19:56.529179Z",
     "iopub.status.idle": "2025-06-20T10:19:56.535064Z",
     "shell.execute_reply": "2025-06-20T10:19:56.534056Z",
     "shell.execute_reply.started": "2025-06-20T10:19:56.529179Z"
    }
   },
   "outputs": [
    {
     "name": "stdout",
     "output_type": "stream",
     "text": [
      "('cat', 'dog', 'cow', 'rat', (1, 35, 20, 'mani'))\n"
     ]
    }
   ],
   "source": [
    "#12. Can a tuple contain another tuple? Give an example.\n",
    "# yes.the tuple contain the another tuple is known as nested tuple\n",
    "a ='cat','dog','cow','rat',(1,35,20,'mani')\n",
    "print(a)"
   ]
  },
  {
   "cell_type": "code",
   "execution_count": 46,
   "id": "56b224e5-9825-4e7f-a061-de4a9fda5a75",
   "metadata": {
    "execution": {
     "iopub.execute_input": "2025-06-20T10:20:17.375178Z",
     "iopub.status.busy": "2025-06-20T10:20:17.374182Z",
     "iopub.status.idle": "2025-06-20T10:20:17.380276Z",
     "shell.execute_reply": "2025-06-20T10:20:17.379261Z",
     "shell.execute_reply.started": "2025-06-20T10:20:17.375178Z"
    }
   },
   "outputs": [],
   "source": [
    "#13. Write a code to iterate over a tuple using a for loop."
   ]
  },
  {
   "cell_type": "code",
   "execution_count": 1,
   "id": "a84ad0d2-06f2-4cf1-808e-0b46482650ce",
   "metadata": {
    "execution": {
     "iopub.execute_input": "2025-06-20T10:27:28.109633Z",
     "iopub.status.busy": "2025-06-20T10:27:28.109633Z",
     "iopub.status.idle": "2025-06-20T10:27:28.118113Z",
     "shell.execute_reply": "2025-06-20T10:27:28.116098Z",
     "shell.execute_reply.started": "2025-06-20T10:27:28.109633Z"
    }
   },
   "outputs": [
    {
     "name": "stdout",
     "output_type": "stream",
     "text": [
      "['__add__', '__class__', '__class_getitem__', '__contains__', '__delattr__', '__dir__', '__doc__', '__eq__', '__format__', '__ge__', '__getattribute__', '__getitem__', '__getnewargs__', '__getstate__', '__gt__', '__hash__', '__init__', '__init_subclass__', '__iter__', '__le__', '__len__', '__lt__', '__mul__', '__ne__', '__new__', '__reduce__', '__reduce_ex__', '__repr__', '__rmul__', '__setattr__', '__sizeof__', '__str__', '__subclasshook__', 'count', 'index']\n"
     ]
    }
   ],
   "source": [
    "#14. What are the built-in methods available for tuples?\n",
    "print(dir(tuple))"
   ]
  },
  {
   "cell_type": "code",
   "execution_count": 9,
   "id": "66bfbc84-a68d-4ab0-91ab-bb4b236963df",
   "metadata": {
    "execution": {
     "iopub.execute_input": "2025-06-20T10:33:35.691760Z",
     "iopub.status.busy": "2025-06-20T10:33:35.691760Z",
     "iopub.status.idle": "2025-06-20T10:33:35.698128Z",
     "shell.execute_reply": "2025-06-20T10:33:35.697115Z",
     "shell.execute_reply.started": "2025-06-20T10:33:35.691760Z"
    }
   },
   "outputs": [
    {
     "name": "stdout",
     "output_type": "stream",
     "text": [
      "2\n"
     ]
    }
   ],
   "source": [
    "#15. Demonstrate the use of the `count()` method with tuples\n",
    "a =('cat','dog','cow','rat', \"dog\",(1,35,20,'mani'))\n",
    "print(a.count('dog'))"
   ]
  },
  {
   "cell_type": "code",
   "execution_count": 12,
   "id": "b3a8683c-e81c-48c5-8f39-ce1650bc30fd",
   "metadata": {
    "execution": {
     "iopub.execute_input": "2025-06-20T10:34:55.406979Z",
     "iopub.status.busy": "2025-06-20T10:34:55.406979Z",
     "iopub.status.idle": "2025-06-20T10:34:55.415702Z",
     "shell.execute_reply": "2025-06-20T10:34:55.414693Z",
     "shell.execute_reply.started": "2025-06-20T10:34:55.406979Z"
    }
   },
   "outputs": [
    {
     "name": "stdout",
     "output_type": "stream",
     "text": [
      "1\n"
     ]
    }
   ],
   "source": [
    "#16. Demonstrate the use of the `index()` method with tuples.\n",
    "a =('cat','dog','cow','rat', \"dog\",(1,35,20,'mani'))\n",
    "print(a.index('dog'))"
   ]
  },
  {
   "cell_type": "code",
   "execution_count": 13,
   "id": "b05209d5-329e-4e65-b127-ae83762db764",
   "metadata": {
    "execution": {
     "iopub.execute_input": "2025-06-20T10:35:27.886344Z",
     "iopub.status.busy": "2025-06-20T10:35:27.886344Z",
     "iopub.status.idle": "2025-06-20T10:35:27.892305Z",
     "shell.execute_reply": "2025-06-20T10:35:27.891296Z",
     "shell.execute_reply.started": "2025-06-20T10:35:27.886344Z"
    }
   },
   "outputs": [],
   "source": [
    "#17. Can a tuple be used as a dictionary key? Why or why not?"
   ]
  },
  {
   "cell_type": "code",
   "execution_count": 16,
   "id": "4b7ad5a4-0e4e-4879-b9d4-557254dbaecd",
   "metadata": {
    "execution": {
     "iopub.execute_input": "2025-06-20T10:44:20.641837Z",
     "iopub.status.busy": "2025-06-20T10:44:20.641837Z",
     "iopub.status.idle": "2025-06-20T10:44:20.652232Z",
     "shell.execute_reply": "2025-06-20T10:44:20.650222Z",
     "shell.execute_reply.started": "2025-06-20T10:44:20.641837Z"
    }
   },
   "outputs": [
    {
     "name": "stdout",
     "output_type": "stream",
     "text": [
      "cat\n",
      "dog\n",
      "cow\n",
      "rat\n",
      "dog\n",
      "(1, 35, 20, 'mani')\n"
     ]
    }
   ],
   "source": [
    "#18. How do you unpack values from a tuple into variables?\n",
    "tuple2 =('cat','dog','cow','rat', \"dog\",(1,35,20,'mani'))\n",
    "a,b,c,d,e,f=tuple2\n",
    "print(a,b,c,d,e,f,sep='\\n')"
   ]
  },
  {
   "cell_type": "code",
   "execution_count": 30,
   "id": "71873167-44fd-4ca6-9afb-bde7f923d369",
   "metadata": {
    "execution": {
     "iopub.execute_input": "2025-06-20T11:00:49.724560Z",
     "iopub.status.busy": "2025-06-20T11:00:49.724560Z",
     "iopub.status.idle": "2025-06-20T11:00:49.732313Z",
     "shell.execute_reply": "2025-06-20T11:00:49.732313Z",
     "shell.execute_reply.started": "2025-06-20T11:00:49.724560Z"
    }
   },
   "outputs": [],
   "source": [
    "#19. What is tuple packing and unpacking?\n",
    "# Tuple packing: Means grouping multiple values into a single tuple()\n",
    "# We can assign multiple elements/values consisting of different data types, python will consider as a tuple by simply giving in tuple syntax form.\n",
    "\n",
    "# Tuple Unpacking: Extracting the values form a tuple into seperate variables.\n",
    "# The number of variables must be equal to values inside the tuple."
   ]
  },
  {
   "cell_type": "code",
   "execution_count": 34,
   "id": "4f9c3132-aaea-4272-880c-84effb63109a",
   "metadata": {
    "execution": {
     "iopub.execute_input": "2025-06-20T11:03:51.875797Z",
     "iopub.status.busy": "2025-06-20T11:03:51.875797Z",
     "iopub.status.idle": "2025-06-20T11:03:51.921431Z",
     "shell.execute_reply": "2025-06-20T11:03:51.921431Z",
     "shell.execute_reply.started": "2025-06-20T11:03:51.875797Z"
    }
   },
   "outputs": [
    {
     "name": "stdout",
     "output_type": "stream",
     "text": [
      "['MY', 'name', 'is', 'mani']\n"
     ]
    },
    {
     "ename": "TypeError",
     "evalue": "'tuple' object does not support item assignment",
     "output_type": "error",
     "traceback": [
      "\u001b[1;31m---------------------------------------------------------------------------\u001b[0m",
      "\u001b[1;31mTypeError\u001b[0m                                 Traceback (most recent call last)",
      "Cell \u001b[1;32mIn[34], line 7\u001b[0m\n\u001b[0;32m      4\u001b[0m \u001b[38;5;28mprint\u001b[39m(tup2)\n\u001b[0;32m      6\u001b[0m tup2\u001b[38;5;241m=\u001b[39m \u001b[38;5;124m'\u001b[39m\u001b[38;5;124mmy\u001b[39m\u001b[38;5;124m'\u001b[39m, \u001b[38;5;124m'\u001b[39m\u001b[38;5;124mname\u001b[39m\u001b[38;5;124m'\u001b[39m, \u001b[38;5;124m'\u001b[39m\u001b[38;5;124mis\u001b[39m\u001b[38;5;124m'\u001b[39m, \u001b[38;5;124m'\u001b[39m\u001b[38;5;124mmani\u001b[39m\u001b[38;5;124m'\u001b[39m\n\u001b[1;32m----> 7\u001b[0m tup2[\u001b[38;5;241m0\u001b[39m] \u001b[38;5;241m=\u001b[39m \u001b[38;5;124m'\u001b[39m\u001b[38;5;124mMY\u001b[39m\u001b[38;5;124m'\u001b[39m\n",
      "\u001b[1;31mTypeError\u001b[0m: 'tuple' object does not support item assignment"
     ]
    }
   ],
   "source": [
    "#20. Compare tuples and lists in terms of performance.\n",
    "tup2=['my', 'name', 'is', 'mani']\n",
    "tup2[0] = 'MY'\n",
    "print(tup2)\n",
    "\n",
    "tup2= 'my', 'name', 'is', 'mani'\n",
    "tup2[0] = 'MY'\n",
    "# As we see the above example the list is able to change the value or modify it but tuple is giving error.\n",
    "# Performance wise both are as same as they are except mutablility."
   ]
  },
  {
   "cell_type": "code",
   "execution_count": 23,
   "id": "a6ba5c72-0967-45ea-b7f9-985f035deb76",
   "metadata": {
    "execution": {
     "iopub.execute_input": "2025-06-20T10:52:40.433988Z",
     "iopub.status.busy": "2025-06-20T10:52:40.433988Z",
     "iopub.status.idle": "2025-06-20T10:52:40.443427Z",
     "shell.execute_reply": "2025-06-20T10:52:40.442418Z",
     "shell.execute_reply.started": "2025-06-20T10:52:40.433988Z"
    }
   },
   "outputs": [
    {
     "name": "stdout",
     "output_type": "stream",
     "text": [
      "cow\n",
      "('dog', 'cow', 'rat')\n",
      "20\n"
     ]
    }
   ],
   "source": [
    "#21. Create a nested tuple and access its elements.\n",
    "tuple2 =('cat','dog','cow','rat', \"dog\",(1,35,20,'mani'))\n",
    "print(tuple2[2])\n",
    "print(tuple2[1:4])\n",
    "print(tuple2[5][2])"
   ]
  },
  {
   "cell_type": "code",
   "execution_count": 24,
   "id": "31d7887f-dc02-4d12-8495-fec0b7efea56",
   "metadata": {
    "execution": {
     "iopub.execute_input": "2025-06-20T10:53:23.876917Z",
     "iopub.status.busy": "2025-06-20T10:53:23.876917Z",
     "iopub.status.idle": "2025-06-20T10:53:23.883567Z",
     "shell.execute_reply": "2025-06-20T10:53:23.882556Z",
     "shell.execute_reply.started": "2025-06-20T10:53:23.876917Z"
    }
   },
   "outputs": [
    {
     "name": "stdout",
     "output_type": "stream",
     "text": [
      "6\n"
     ]
    }
   ],
   "source": [
    "#22. How can you find the length of a tuple?\n",
    "tuple2 =('cat','dog','cow','rat', \"dog\",(1,35,20,'mani'))\n",
    "print(len(tuple2))"
   ]
  },
  {
   "cell_type": "code",
   "execution_count": 28,
   "id": "cd822434-11f5-469d-adb7-90cd6730c3b4",
   "metadata": {
    "execution": {
     "iopub.execute_input": "2025-06-20T10:56:10.595666Z",
     "iopub.status.busy": "2025-06-20T10:56:10.595666Z",
     "iopub.status.idle": "2025-06-20T10:56:10.603281Z",
     "shell.execute_reply": "2025-06-20T10:56:10.602265Z",
     "shell.execute_reply.started": "2025-06-20T10:56:10.595666Z"
    }
   },
   "outputs": [
    {
     "name": "stdout",
     "output_type": "stream",
     "text": [
      "True\n"
     ]
    }
   ],
   "source": [
    "#23. What is the use of the `in` operator with tuples?\n",
    "tuple2 =('cat','dog','cow','rat', \"dog\",(1,35,20,'mani'))\n",
    "print('rat' in tuple2)"
   ]
  },
  {
   "cell_type": "code",
   "execution_count": 29,
   "id": "1c5c45df-01e0-43c4-870f-843b597e417d",
   "metadata": {
    "execution": {
     "iopub.execute_input": "2025-06-20T10:57:18.661726Z",
     "iopub.status.busy": "2025-06-20T10:57:18.661726Z",
     "iopub.status.idle": "2025-06-20T10:57:18.667722Z",
     "shell.execute_reply": "2025-06-20T10:57:18.667722Z",
     "shell.execute_reply.started": "2025-06-20T10:57:18.661726Z"
    }
   },
   "outputs": [
    {
     "name": "stdout",
     "output_type": "stream",
     "text": [
      "('cat', 'dog', 'cow', 'rat', 'dog', (1, 35, 20, 'mani'), 'cat', 'dog', 'cow', 'rat')\n"
     ]
    }
   ],
   "source": [
    "#24. How do you concatenate two tuples?\n",
    "tuple2 =('cat','dog','cow','rat', \"dog\",(1,35,20,'mani'))\n",
    "a =('cat','dog','cow','rat')\n",
    "print(tuple2+a)"
   ]
  },
  {
   "cell_type": "code",
   "execution_count": 37,
   "id": "6d834657-8b5a-4a5d-bc15-c30412294c14",
   "metadata": {
    "execution": {
     "iopub.execute_input": "2025-06-20T11:10:56.397543Z",
     "iopub.status.busy": "2025-06-20T11:10:56.397543Z",
     "iopub.status.idle": "2025-06-20T11:10:56.419211Z",
     "shell.execute_reply": "2025-06-20T11:10:56.418606Z",
     "shell.execute_reply.started": "2025-06-20T11:10:56.397543Z"
    }
   },
   "outputs": [
    {
     "ename": "TypeError",
     "evalue": "'tuple' object does not support item assignment",
     "output_type": "error",
     "traceback": [
      "\u001b[1;31m---------------------------------------------------------------------------\u001b[0m",
      "\u001b[1;31mTypeError\u001b[0m                                 Traceback (most recent call last)",
      "Cell \u001b[1;32mIn[37], line 3\u001b[0m\n\u001b[0;32m      1\u001b[0m \u001b[38;5;66;03m#25. Explain tuple immutability with an example.\u001b[39;00m\n\u001b[0;32m      2\u001b[0m tup2\u001b[38;5;241m=\u001b[39m(\u001b[38;5;124m'\u001b[39m\u001b[38;5;124mmy\u001b[39m\u001b[38;5;124m'\u001b[39m, \u001b[38;5;124m'\u001b[39m\u001b[38;5;124mname\u001b[39m\u001b[38;5;124m'\u001b[39m, \u001b[38;5;124m'\u001b[39m\u001b[38;5;124mis\u001b[39m\u001b[38;5;124m'\u001b[39m, \u001b[38;5;124m'\u001b[39m\u001b[38;5;124mmani\u001b[39m\u001b[38;5;124m'\u001b[39m)\n\u001b[1;32m----> 3\u001b[0m tup2[\u001b[38;5;241m0\u001b[39m] \u001b[38;5;241m=\u001b[39m \u001b[38;5;124m'\u001b[39m\u001b[38;5;124mMY\u001b[39m\u001b[38;5;124m'\u001b[39m\n\u001b[0;32m      4\u001b[0m tup2\n",
      "\u001b[1;31mTypeError\u001b[0m: 'tuple' object does not support item assignment"
     ]
    }
   ],
   "source": [
    "#25. Explain tuple immutability with an example.\n",
    "tup2=('my', 'name', 'is', 'mani')\n",
    "tup2[0] = 'MY'\n",
    "tup2"
   ]
  },
  {
   "cell_type": "code",
   "execution_count": 71,
   "id": "e24b2760-bbfc-4d30-87e8-ca5925cba741",
   "metadata": {
    "execution": {
     "iopub.execute_input": "2025-06-20T11:43:42.179480Z",
     "iopub.status.busy": "2025-06-20T11:43:42.179480Z",
     "iopub.status.idle": "2025-06-20T11:43:42.188461Z",
     "shell.execute_reply": "2025-06-20T11:43:42.188461Z",
     "shell.execute_reply.started": "2025-06-20T11:43:42.179480Z"
    }
   },
   "outputs": [],
   "source": [
    "animals= {\"cat\",\"dog\",\"rat\",\"cow\"}"
   ]
  },
  {
   "cell_type": "code",
   "execution_count": 80,
   "id": "19d96a3e-0e36-440e-b3b6-da03fdaa42c7",
   "metadata": {
    "execution": {
     "iopub.execute_input": "2025-06-20T12:00:40.832126Z",
     "iopub.status.busy": "2025-06-20T12:00:40.832126Z",
     "iopub.status.idle": "2025-06-20T12:00:40.846391Z",
     "shell.execute_reply": "2025-06-20T12:00:40.843468Z",
     "shell.execute_reply.started": "2025-06-20T12:00:40.832126Z"
    }
   },
   "outputs": [],
   "source": [
    "#26. What is a set in Python and how is it different from a list and a tuple?\n",
    "#set is an unordered, mutable collection of unique elements. It is defined using curly braces {}\n",
    "#ex:{1,2,3}\n",
    "# list is an ordered, mutable collection of items. Lists can hold duplicate elements and different data types.it defines the square braces[]\n",
    "#ex:[1,2,4,6]\n",
    "#tuple is an ordered,mutable,allows the duplicate elements.indexed elements\n",
    "#ex:(1,2,3,4,)"
   ]
  },
  {
   "cell_type": "code",
   "execution_count": 39,
   "id": "58fb0912-de52-4cd9-bbb8-022cd1a6271f",
   "metadata": {
    "execution": {
     "iopub.execute_input": "2025-06-20T11:15:31.803441Z",
     "iopub.status.busy": "2025-06-20T11:15:31.803441Z",
     "iopub.status.idle": "2025-06-20T11:15:31.824388Z",
     "shell.execute_reply": "2025-06-20T11:15:31.823026Z",
     "shell.execute_reply.started": "2025-06-20T11:15:31.803441Z"
    }
   },
   "outputs": [
    {
     "name": "stdout",
     "output_type": "stream",
     "text": [
      "{'cat', 'rat', 'dog', 'cow'}\n"
     ]
    }
   ],
   "source": [
    "#27. How do you create a set?\n",
    "animals={\"cat\",\"dog\",\"rat\",\"cow\"}\n",
    "print(animals)"
   ]
  },
  {
   "cell_type": "code",
   "execution_count": 41,
   "id": "d0330473-7ec5-4abd-9432-0057487510ce",
   "metadata": {
    "execution": {
     "iopub.execute_input": "2025-06-20T11:17:26.131873Z",
     "iopub.status.busy": "2025-06-20T11:17:26.127238Z",
     "iopub.status.idle": "2025-06-20T11:17:26.138144Z",
     "shell.execute_reply": "2025-06-20T11:17:26.137602Z",
     "shell.execute_reply.started": "2025-06-20T11:17:26.131873Z"
    }
   },
   "outputs": [
    {
     "name": "stdout",
     "output_type": "stream",
     "text": [
      "{'cat', 'rat', 'dog', 'cow'}\n"
     ]
    }
   ],
   "source": [
    "#28. Can a set have duplicate values? Explain.\n",
    "animals={\"cat\",\"dog\",\"rat\",\"cow\",\"cat\"}\n",
    "print(animals)"
   ]
  },
  {
   "cell_type": "code",
   "execution_count": 43,
   "id": "35557930-a28a-468c-8244-e038bb9b545a",
   "metadata": {
    "execution": {
     "iopub.execute_input": "2025-06-20T11:20:18.990318Z",
     "iopub.status.busy": "2025-06-20T11:20:18.990318Z",
     "iopub.status.idle": "2025-06-20T11:20:19.004000Z",
     "shell.execute_reply": "2025-06-20T11:20:19.004000Z",
     "shell.execute_reply.started": "2025-06-20T11:20:18.990318Z"
    }
   },
   "outputs": [
    {
     "name": "stdout",
     "output_type": "stream",
     "text": [
      "{'cat', 'cow', 'dog', 'goat', 'rat'}\n"
     ]
    }
   ],
   "source": [
    "#29. How do you add an element to a set?\n",
    "animals={\"cat\",\"dog\",\"rat\",\"cow\",\"cat\"}\n",
    "animals.add(\"goat\")\n",
    "print(animals)"
   ]
  },
  {
   "cell_type": "code",
   "execution_count": 44,
   "id": "079b14a5-33be-4d40-bbf8-2b849d4f38cc",
   "metadata": {
    "execution": {
     "iopub.execute_input": "2025-06-20T11:21:25.945351Z",
     "iopub.status.busy": "2025-06-20T11:21:25.945351Z",
     "iopub.status.idle": "2025-06-20T11:21:25.953832Z",
     "shell.execute_reply": "2025-06-20T11:21:25.953832Z",
     "shell.execute_reply.started": "2025-06-20T11:21:25.945351Z"
    }
   },
   "outputs": [
    {
     "data": {
      "text/plain": [
       "{'cat', 'cow', 'rat'}"
      ]
     },
     "execution_count": 44,
     "metadata": {},
     "output_type": "execute_result"
    }
   ],
   "source": [
    "#30. How do you remove an element from a set?\n",
    "animals={\"cat\",\"dog\",\"rat\",\"cow\",\"cat\"}\n",
    "animals.remove(\"dog\")\n",
    "animals"
   ]
  },
  {
   "cell_type": "code",
   "execution_count": 59,
   "id": "ea800f47-64ad-4a84-b2c6-c0d8aab3d725",
   "metadata": {
    "execution": {
     "iopub.execute_input": "2025-06-20T11:30:10.181386Z",
     "iopub.status.busy": "2025-06-20T11:30:10.181095Z",
     "iopub.status.idle": "2025-06-20T11:30:10.229693Z",
     "shell.execute_reply": "2025-06-20T11:30:10.228027Z",
     "shell.execute_reply.started": "2025-06-20T11:30:10.181386Z"
    }
   },
   "outputs": [
    {
     "name": "stdout",
     "output_type": "stream",
     "text": [
      "None\n"
     ]
    },
    {
     "ename": "KeyError",
     "evalue": "'lion'",
     "output_type": "error",
     "traceback": [
      "\u001b[1;31m---------------------------------------------------------------------------\u001b[0m",
      "\u001b[1;31mKeyError\u001b[0m                                  Traceback (most recent call last)",
      "Cell \u001b[1;32mIn[59], line 7\u001b[0m\n\u001b[0;32m      3\u001b[0m \u001b[38;5;28mprint\u001b[39m(animals\u001b[38;5;241m.\u001b[39mdiscard(\u001b[38;5;124m\"\u001b[39m\u001b[38;5;124mlion\u001b[39m\u001b[38;5;124m\"\u001b[39m))\n\u001b[0;32m      6\u001b[0m animals\u001b[38;5;241m=\u001b[39m{\u001b[38;5;124m\"\u001b[39m\u001b[38;5;124mcat\u001b[39m\u001b[38;5;124m\"\u001b[39m,\u001b[38;5;124m\"\u001b[39m\u001b[38;5;124mdog\u001b[39m\u001b[38;5;124m\"\u001b[39m,\u001b[38;5;124m\"\u001b[39m\u001b[38;5;124mrat\u001b[39m\u001b[38;5;124m\"\u001b[39m,\u001b[38;5;124m\"\u001b[39m\u001b[38;5;124mcow\u001b[39m\u001b[38;5;124m\"\u001b[39m,\u001b[38;5;124m\"\u001b[39m\u001b[38;5;124mcat\u001b[39m\u001b[38;5;124m\"\u001b[39m}\n\u001b[1;32m----> 7\u001b[0m \u001b[38;5;28mprint\u001b[39m(animals\u001b[38;5;241m.\u001b[39mremove(\u001b[38;5;124m\"\u001b[39m\u001b[38;5;124mlion\u001b[39m\u001b[38;5;124m\"\u001b[39m))\n",
      "\u001b[1;31mKeyError\u001b[0m: 'lion'"
     ]
    }
   ],
   "source": [
    "#31. What is the difference between `remove()` and `discard()` in sets?\n",
    "animals={\"cat\",\"dog\",\"rat\",\"cow\",\"cat\"}\n",
    "print(animals.discard(\"lion\"))\n",
    "\n",
    "\n",
    "animals={\"cat\",\"dog\",\"rat\",\"cow\",\"cat\"}\n",
    "print(animals.remove(\"lion\"))\n",
    "\n",
    "\n",
    "# As you can see that when you try to eleminate a non exsisting element from the set using .remove(), it will give error.\n",
    "# Where as when you try that using .discard(), it will give a output as \"None\" if this was the case or else"
   ]
  },
  {
   "cell_type": "code",
   "execution_count": 62,
   "id": "8d5f7563-cb71-4946-a35f-2137e3460042",
   "metadata": {
    "execution": {
     "iopub.execute_input": "2025-06-20T11:33:38.435479Z",
     "iopub.status.busy": "2025-06-20T11:33:38.435479Z",
     "iopub.status.idle": "2025-06-20T11:33:38.444473Z",
     "shell.execute_reply": "2025-06-20T11:33:38.444473Z",
     "shell.execute_reply.started": "2025-06-20T11:33:38.435479Z"
    }
   },
   "outputs": [
    {
     "name": "stdout",
     "output_type": "stream",
     "text": [
      "{'rat', 'dog', 'cow'}\n"
     ]
    }
   ],
   "source": [
    "#32. What is the use of `pop()` in sets?\n",
    "animals={\"cat\",\"dog\",\"rat\",\"cow\",\"cat\"}\n",
    "animals.pop()\n",
    "print(animals)\n",
    "#in these pop() in set it is randomly delete on element in the set"
   ]
  },
  {
   "cell_type": "code",
   "execution_count": 74,
   "id": "00d9dec3-3fba-45bc-ac2c-6b144cf5431c",
   "metadata": {
    "execution": {
     "iopub.execute_input": "2025-06-20T11:44:36.441605Z",
     "iopub.status.busy": "2025-06-20T11:44:36.441605Z",
     "iopub.status.idle": "2025-06-20T11:44:36.450238Z",
     "shell.execute_reply": "2025-06-20T11:44:36.449104Z",
     "shell.execute_reply.started": "2025-06-20T11:44:36.441605Z"
    }
   },
   "outputs": [],
   "source": [
    "animals={\"cat\",\"dog\",\"rat\",\"cow\",\"cat\"}"
   ]
  },
  {
   "cell_type": "code",
   "execution_count": 78,
   "id": "c259750a-ed33-495e-89c9-cfbe1f592773",
   "metadata": {
    "execution": {
     "iopub.execute_input": "2025-06-20T11:45:26.186877Z",
     "iopub.status.busy": "2025-06-20T11:45:26.186877Z",
     "iopub.status.idle": "2025-06-20T11:45:26.196596Z",
     "shell.execute_reply": "2025-06-20T11:45:26.196596Z",
     "shell.execute_reply.started": "2025-06-20T11:45:26.186877Z"
    }
   },
   "outputs": [
    {
     "name": "stdout",
     "output_type": "stream",
     "text": [
      "set()\n"
     ]
    }
   ],
   "source": [
    "#How do you clear all elements from a set?\n",
    "animals={\"cat\",\"dog\",\"rat\",\"cow\",\"cat\"}\n",
    "animals.clear()\n",
    "print(animals)"
   ]
  },
  {
   "cell_type": "code",
   "execution_count": 91,
   "id": "bc5d3911-6397-4e8d-b490-58c8fc102747",
   "metadata": {
    "execution": {
     "iopub.execute_input": "2025-06-20T12:20:55.883151Z",
     "iopub.status.busy": "2025-06-20T12:20:55.883151Z",
     "iopub.status.idle": "2025-06-20T12:20:55.899339Z",
     "shell.execute_reply": "2025-06-20T12:20:55.897196Z",
     "shell.execute_reply.started": "2025-06-20T12:20:55.883151Z"
    }
   },
   "outputs": [
    {
     "name": "stdout",
     "output_type": "stream",
     "text": [
      "{1, 2, 3, 4, 5, 6}\n",
      "{3, 4}\n",
      "{1, 2}\n"
     ]
    }
   ],
   "source": [
    "#34. What are set operations in Python?\n",
    "#the set operations are\n",
    "#union:combines the elements convert into set. two or more sets convert into one set\n",
    "#ex:set1.union(set2)\n",
    "set1={1,2,3,4}\n",
    "set2={3,4,5,6}\n",
    "my_set=set1.union(set2)\n",
    "print(my_set)\n",
    "#intersection:returns elements common to all sets involved\n",
    "set1={1,2,3,4}\n",
    "set2={3,4,5,6}\n",
    "my_set=set1.intersection(set2)\n",
    "print(my_set)\n",
    "#difference returns elements present in first set but not in second \n",
    "set1={1,2,3,4}\n",
    "set2={3,4,5,6}\n",
    "my_set=set1.difference(set2)\n",
    "print(my_set)\n"
   ]
  },
  {
   "cell_type": "code",
   "execution_count": 93,
   "id": "2319097c-d753-45d1-930c-11e1c86cdefb",
   "metadata": {
    "execution": {
     "iopub.execute_input": "2025-06-20T12:23:15.649715Z",
     "iopub.status.busy": "2025-06-20T12:23:15.647713Z",
     "iopub.status.idle": "2025-06-20T12:23:15.662497Z",
     "shell.execute_reply": "2025-06-20T12:23:15.660479Z",
     "shell.execute_reply.started": "2025-06-20T12:23:15.648713Z"
    }
   },
   "outputs": [
    {
     "name": "stdout",
     "output_type": "stream",
     "text": [
      "{1, 2, 3, 4, 5, 6}\n",
      "{3, 4}\n"
     ]
    }
   ],
   "source": [
    "#35. Explain union and intersection of sets with examples.\n",
    "#union:combines the elements convert into set. two or more sets convert into one set\n",
    "#ex:set1.union(set2)\n",
    "\n",
    "set1={1,2,3,4}\n",
    "set2={3,4,5,6}\n",
    "my_set=set1.union(set2)\n",
    "print(my_set)\n",
    "#intersection:returns elements common to all sets involved\n",
    "set1={1,2,3,4}\n",
    "set2={3,4,5,6}\n",
    "my_set=set1.intersection(set2)\n",
    "print(my_set)"
   ]
  },
  {
   "cell_type": "code",
   "execution_count": 94,
   "id": "8861a87b-0a7c-41b3-b53a-09a4ba73391b",
   "metadata": {
    "execution": {
     "iopub.execute_input": "2025-06-20T12:24:32.459269Z",
     "iopub.status.busy": "2025-06-20T12:24:32.459269Z",
     "iopub.status.idle": "2025-06-20T12:24:32.469478Z",
     "shell.execute_reply": "2025-06-20T12:24:32.469478Z",
     "shell.execute_reply.started": "2025-06-20T12:24:32.459269Z"
    }
   },
   "outputs": [
    {
     "name": "stdout",
     "output_type": "stream",
     "text": [
      "{1, 2}\n"
     ]
    }
   ],
   "source": [
    "#36. Hows do you find the difference between two sets?\n",
    "set1={1,2,3,4}\n",
    "set2={3,4,5,6}\n",
    "my_set=set1.difference(set2)\n",
    "print(my_set)"
   ]
  },
  {
   "cell_type": "code",
   "execution_count": 3,
   "id": "1d605e03-cbe0-49ac-8a77-7ef12fbeb1cc",
   "metadata": {
    "execution": {
     "iopub.execute_input": "2025-06-21T07:06:15.053375Z",
     "iopub.status.busy": "2025-06-21T07:06:15.053375Z",
     "iopub.status.idle": "2025-06-21T07:06:15.072387Z",
     "shell.execute_reply": "2025-06-21T07:06:15.072387Z",
     "shell.execute_reply.started": "2025-06-21T07:06:15.053375Z"
    }
   },
   "outputs": [
    {
     "name": "stdout",
     "output_type": "stream",
     "text": [
      "{1, 2, 5, 6}\n"
     ]
    }
   ],
   "source": [
    "#37. How do you find the symmetric difference between sets?\n",
    "set1={1,2,3,4}\n",
    "set2={3,4,5,6}\n",
    "my_set=set1.symmetric_difference(set2) \n",
    "print(my_set)"
   ]
  },
  {
   "cell_type": "code",
   "execution_count": 6,
   "id": "83cd1a18-8f9f-4260-89d9-29e4762b25b8",
   "metadata": {
    "execution": {
     "iopub.execute_input": "2025-06-21T07:11:25.194678Z",
     "iopub.status.busy": "2025-06-21T07:11:25.188650Z",
     "iopub.status.idle": "2025-06-21T07:11:25.203428Z",
     "shell.execute_reply": "2025-06-21T07:11:25.203428Z",
     "shell.execute_reply.started": "2025-06-21T07:11:25.194678Z"
    }
   },
   "outputs": [
    {
     "name": "stdout",
     "output_type": "stream",
     "text": [
      "True\n",
      "True\n"
     ]
    }
   ],
   "source": [
    "#38. Explain subset and superset with code examples.\n",
    "a={1,2,3,5,6,7,8,9,}\n",
    "b={1,2,3}\n",
    "my_set=b.issubset(a)\n",
    "set3=a.issuperset(b)\n",
    "print(my_set,set3,sep='\\n')"
   ]
  },
  {
   "cell_type": "code",
   "execution_count": 7,
   "id": "efd093bf-d289-4819-ae94-ef758543c0db",
   "metadata": {
    "execution": {
     "iopub.execute_input": "2025-06-21T07:13:48.057512Z",
     "iopub.status.busy": "2025-06-21T07:13:48.057512Z",
     "iopub.status.idle": "2025-06-21T07:13:48.071417Z",
     "shell.execute_reply": "2025-06-21T07:13:48.071417Z",
     "shell.execute_reply.started": "2025-06-21T07:13:48.057512Z"
    }
   },
   "outputs": [
    {
     "data": {
      "text/plain": [
       "False"
      ]
     },
     "execution_count": 7,
     "metadata": {},
     "output_type": "execute_result"
    }
   ],
   "source": [
    "#39. How do you check if two sets are disjoint?\n",
    "a={1,2,3,5,6,7,8,9,}\n",
    "b={1,2,3,5}\n",
    "my_set=a.isdisjoint(b)\n",
    "my_set"
   ]
  },
  {
   "cell_type": "markdown",
   "id": "32934803-33c4-47a5-b3ae-f2722be0e360",
   "metadata": {},
   "source": [
    "### 40. Can you add a list to a set? Why or why not?\n",
    "No, you cannot add a list to a set.Lists are mutable,sets require all elements to be hashable and immutable.\n"
   ]
  },
  {
   "cell_type": "code",
   "execution_count": 8,
   "id": "6bbb0f7c-47f8-44db-8ddd-14ba8a0c5c99",
   "metadata": {
    "execution": {
     "iopub.execute_input": "2025-06-21T07:24:35.175594Z",
     "iopub.status.busy": "2025-06-21T07:24:35.175594Z",
     "iopub.status.idle": "2025-06-21T07:24:35.187567Z",
     "shell.execute_reply": "2025-06-21T07:24:35.187567Z",
     "shell.execute_reply.started": "2025-06-21T07:24:35.175594Z"
    }
   },
   "outputs": [
    {
     "name": "stdout",
     "output_type": "stream",
     "text": [
      "{1, 2, 3, 4, 5, 6, 7, 8}\n"
     ]
    }
   ],
   "source": [
    "#41. How do you convert a list to a set?\n",
    "list=[1,2,3,4,5,6,7,8,1,2,3,4,5,6,7]\n",
    "print(set(list))"
   ]
  },
  {
   "cell_type": "code",
   "execution_count": 9,
   "id": "ed44ebad-7837-4773-bc1e-627b78ef6548",
   "metadata": {
    "execution": {
     "iopub.execute_input": "2025-06-21T07:25:52.338487Z",
     "iopub.status.busy": "2025-06-21T07:25:52.338487Z",
     "iopub.status.idle": "2025-06-21T07:25:52.355181Z",
     "shell.execute_reply": "2025-06-21T07:25:52.352636Z",
     "shell.execute_reply.started": "2025-06-21T07:25:52.338487Z"
    }
   },
   "outputs": [
    {
     "name": "stdout",
     "output_type": "stream",
     "text": [
      "20\n"
     ]
    }
   ],
   "source": [
    "#42. How do you find the length of a set?\n",
    "set={1,2,3,4,5,6,7,8,9,10,11,23,44,55,67,89,123,43,56,900}\n",
    "print(len(set))"
   ]
  },
  {
   "cell_type": "code",
   "execution_count": 10,
   "id": "c51bdf4f-a5a4-4511-9aae-efa11b44327f",
   "metadata": {
    "execution": {
     "iopub.execute_input": "2025-06-21T07:30:32.213503Z",
     "iopub.status.busy": "2025-06-21T07:30:32.213503Z",
     "iopub.status.idle": "2025-06-21T07:30:32.225173Z",
     "shell.execute_reply": "2025-06-21T07:30:32.222621Z",
     "shell.execute_reply.started": "2025-06-21T07:30:32.213503Z"
    }
   },
   "outputs": [
    {
     "name": "stdout",
     "output_type": "stream",
     "text": [
      "<class 'set'>\n"
     ]
    }
   ],
   "source": [
    "#43. Can a set contain mixed data types? Give example.\n",
    "set={12,34,56,89,'mani',20.5}\n",
    "print(type(set))"
   ]
  },
  {
   "cell_type": "code",
   "execution_count": 14,
   "id": "686e2c08-688a-415f-a7cd-a4a676ca3503",
   "metadata": {
    "execution": {
     "iopub.execute_input": "2025-06-21T10:42:10.438725Z",
     "iopub.status.busy": "2025-06-21T10:42:10.438725Z",
     "iopub.status.idle": "2025-06-21T10:42:10.480463Z",
     "shell.execute_reply": "2025-06-21T10:42:10.479844Z",
     "shell.execute_reply.started": "2025-06-21T10:42:10.438725Z"
    }
   },
   "outputs": [
    {
     "ename": "TypeError",
     "evalue": "'set' object is not subscriptable",
     "output_type": "error",
     "traceback": [
      "\u001b[1;31m---------------------------------------------------------------------------\u001b[0m",
      "\u001b[1;31mTypeError\u001b[0m                                 Traceback (most recent call last)",
      "Cell \u001b[1;32mIn[14], line 3\u001b[0m\n\u001b[0;32m      1\u001b[0m \u001b[38;5;66;03m#45. What will happen if you try to access set elements using index?\u001b[39;00m\n\u001b[0;32m      2\u001b[0m \u001b[38;5;28mset\u001b[39m\u001b[38;5;241m=\u001b[39m{\u001b[38;5;241m1\u001b[39m,\u001b[38;5;241m2\u001b[39m,\u001b[38;5;241m3\u001b[39m,\u001b[38;5;241m4\u001b[39m}\n\u001b[1;32m----> 3\u001b[0m \u001b[38;5;28mprint\u001b[39m(\u001b[38;5;28mset\u001b[39m[\u001b[38;5;241m3\u001b[39m])\n",
      "\u001b[1;31mTypeError\u001b[0m: 'set' object is not subscriptable"
     ]
    }
   ],
   "source": [
    "#45. What will happen if you try to access set elements using index?\n",
    "set={1,2,3,4}\n",
    "print(set[3])"
   ]
  },
  {
   "cell_type": "code",
   "execution_count": 15,
   "id": "0ff4e148-0e5a-44ed-9656-79c808804006",
   "metadata": {
    "execution": {
     "iopub.execute_input": "2025-06-21T10:42:53.071704Z",
     "iopub.status.busy": "2025-06-21T10:42:53.071704Z",
     "iopub.status.idle": "2025-06-21T10:42:53.081930Z",
     "shell.execute_reply": "2025-06-21T10:42:53.081930Z",
     "shell.execute_reply.started": "2025-06-21T10:42:53.071704Z"
    }
   },
   "outputs": [],
   "source": [
    "#46. Demonstrate a scenario where sets can improve performance.\n",
    "#Using sets can significantly improve performance over lists when checking if an element exists, because:\n",
    "\n",
    "#in operation in a list is O(n)\n",
    "\n",
    "#in operation in a set is O(1) on average"
   ]
  },
  {
   "cell_type": "code",
   "execution_count": 16,
   "id": "c7893a42-f55b-4a3a-8d91-fbe7e32e1fbf",
   "metadata": {
    "execution": {
     "iopub.execute_input": "2025-06-21T10:47:13.880961Z",
     "iopub.status.busy": "2025-06-21T10:47:13.880961Z",
     "iopub.status.idle": "2025-06-21T10:47:13.896726Z",
     "shell.execute_reply": "2025-06-21T10:47:13.896726Z",
     "shell.execute_reply.started": "2025-06-21T10:47:13.880961Z"
    }
   },
   "outputs": [],
   "source": [
    "#47. What are frozen sets and how are they different from regular sets?\n",
    "#frozenset is an immutable version of a regular set. \n",
    "#As keys in dictionaries\n",
    "\n",
    "#As elements in other sets\n",
    "\n",
    "#When you need a constant (read-only) set"
   ]
  },
  {
   "cell_type": "code",
   "execution_count": 17,
   "id": "13d8f7de-7bb3-4937-92f8-3886f4932635",
   "metadata": {
    "execution": {
     "iopub.execute_input": "2025-06-21T10:48:15.535417Z",
     "iopub.status.busy": "2025-06-21T10:48:15.535417Z",
     "iopub.status.idle": "2025-06-21T10:48:15.545357Z",
     "shell.execute_reply": "2025-06-21T10:48:15.545357Z",
     "shell.execute_reply.started": "2025-06-21T10:48:15.535417Z"
    }
   },
   "outputs": [],
   "source": [
    "#48. How do you create a frozen set?\n",
    "#create a frozen set in Python using the built-in frozenset() constructor function. Unlike regular sets, frozensets are immutable\n",
    "\n",
    "#syntax:my_frozen_set = frozenset(iterable)"
   ]
  },
  {
   "cell_type": "code",
   "execution_count": 18,
   "id": "41907592-119d-4296-a15d-8926a1a5e596",
   "metadata": {
    "execution": {
     "iopub.execute_input": "2025-06-21T10:49:16.856902Z",
     "iopub.status.busy": "2025-06-21T10:49:16.856902Z",
     "iopub.status.idle": "2025-06-21T10:49:16.867672Z",
     "shell.execute_reply": "2025-06-21T10:49:16.867672Z",
     "shell.execute_reply.started": "2025-06-21T10:49:16.856902Z"
    }
   },
   "outputs": [],
   "source": [
    "#49. Can a set be nested? Explain.\n",
    "#No, a set cannot directly contain another set as an element.\n",
    "#This is because sets can only contain hashable elements, and sets themselves are not hashable because they are mutable.\n"
   ]
  },
  {
   "cell_type": "code",
   "execution_count": 19,
   "id": "e41090c6-a760-4a51-b366-fca893b57730",
   "metadata": {
    "execution": {
     "iopub.execute_input": "2025-06-21T10:50:05.904032Z",
     "iopub.status.busy": "2025-06-21T10:50:05.904032Z",
     "iopub.status.idle": "2025-06-21T10:50:05.914818Z",
     "shell.execute_reply": "2025-06-21T10:50:05.912294Z",
     "shell.execute_reply.started": "2025-06-21T10:50:05.904032Z"
    }
   },
   "outputs": [],
   "source": [
    "#50. What are some real-world use cases for sets in Python?\n",
    "#Removing duplicates from collections of data (e.g., removing duplicate customer records)\n",
    "#Natural language processing tasks like finding unique words in a text\n",
    "#Database operations that require unique constraints or comparisons between data sets\n",
    "#Finding unique values in large datasets (e.g., unique visitors to a website)"
   ]
  },
  {
   "cell_type": "markdown",
   "id": "65444bc9-4aba-4a76-9ad6-7707821a46c3",
   "metadata": {},
   "source": [
    "### Coding Questions on Tuple and Set"
   ]
  },
  {
   "cell_type": "code",
   "execution_count": 1,
   "id": "18382593-bdc7-45ba-b3e6-edcccd65469d",
   "metadata": {
    "execution": {
     "iopub.execute_input": "2025-06-21T11:33:15.580242Z",
     "iopub.status.busy": "2025-06-21T11:33:15.580242Z",
     "iopub.status.idle": "2025-06-21T11:33:15.598695Z",
     "shell.execute_reply": "2025-06-21T11:33:15.598695Z",
     "shell.execute_reply.started": "2025-06-21T11:33:15.580242Z"
    }
   },
   "outputs": [
    {
     "name": "stdout",
     "output_type": "stream",
     "text": [
      "True\n"
     ]
    }
   ],
   "source": [
    "#5. Given two sets, write a program to check if one set is a subset of another.\n",
    "a={1,2,3,4,5,6,7}\n",
    "b={1,2,3,4}\n",
    "print(b.issubset(a))"
   ]
  },
  {
   "cell_type": "code",
   "execution_count": 2,
   "id": "213568d1-1de4-48ec-b0f6-48e434492338",
   "metadata": {
    "execution": {
     "iopub.execute_input": "2025-06-21T11:36:01.326002Z",
     "iopub.status.busy": "2025-06-21T11:36:01.326002Z",
     "iopub.status.idle": "2025-06-21T11:36:01.337995Z",
     "shell.execute_reply": "2025-06-21T11:36:01.337995Z",
     "shell.execute_reply.started": "2025-06-21T11:36:01.326002Z"
    }
   },
   "outputs": [
    {
     "name": "stdout",
     "output_type": "stream",
     "text": [
      "{1, 2, 3, 4}\n"
     ]
    }
   ],
   "source": [
    "#7. Write a program to find all common elements between two sets.\n",
    "a={1,2,3,4,5,6,7}\n",
    "b={1,2,3,4,9,8,10}\n",
    "print(a&b)"
   ]
  },
  {
   "cell_type": "code",
   "execution_count": 3,
   "id": "5c94279a-5f10-4f52-994a-4dc8a8f7c3e1",
   "metadata": {
    "execution": {
     "iopub.execute_input": "2025-06-21T12:57:16.448386Z",
     "iopub.status.busy": "2025-06-21T12:57:16.448386Z",
     "iopub.status.idle": "2025-06-21T12:57:16.460735Z",
     "shell.execute_reply": "2025-06-21T12:57:16.460735Z",
     "shell.execute_reply.started": "2025-06-21T12:57:16.448386Z"
    }
   },
   "outputs": [
    {
     "name": "stdout",
     "output_type": "stream",
     "text": [
      "60\n"
     ]
    }
   ],
   "source": [
    "# Given a tuple of numbers, write a program to find the second largest element\n",
    "tup1={25,56,34,98,60}\n",
    "tup1=sorted(tup1)\n",
    "print(tup1[3])"
   ]
  },
  {
   "cell_type": "code",
   "execution_count": 4,
   "id": "5f552ed4-eccc-4e57-bc59-6922973a9af2",
   "metadata": {
    "execution": {
     "iopub.execute_input": "2025-06-21T13:00:19.461860Z",
     "iopub.status.busy": "2025-06-21T13:00:19.460341Z",
     "iopub.status.idle": "2025-06-21T13:00:19.468624Z",
     "shell.execute_reply": "2025-06-21T13:00:19.468624Z",
     "shell.execute_reply.started": "2025-06-21T13:00:19.461860Z"
    }
   },
   "outputs": [
    {
     "name": "stdout",
     "output_type": "stream",
     "text": [
      "mani\n"
     ]
    }
   ],
   "source": [
    "# Write a program to convert a tuple of strings into a single string\n",
    "tup=('m','a','n','i')\n",
    "a=\"\".join(tup)\n",
    "print(a)"
   ]
  },
  {
   "cell_type": "code",
   "execution_count": 7,
   "id": "69eeaab7-825f-4047-8c17-e3bc973fa73c",
   "metadata": {
    "execution": {
     "iopub.execute_input": "2025-06-21T13:05:47.679817Z",
     "iopub.status.busy": "2025-06-21T13:05:47.679817Z",
     "iopub.status.idle": "2025-06-21T13:05:47.690962Z",
     "shell.execute_reply": "2025-06-21T13:05:47.690962Z",
     "shell.execute_reply.started": "2025-06-21T13:05:47.679817Z"
    }
   },
   "outputs": [
    {
     "name": "stdout",
     "output_type": "stream",
     "text": [
      "{90, 78, 80, 21, 24, 25, 26, 27, 28}\n",
      "15\n"
     ]
    }
   ],
   "source": [
    "# Write a program to remove duplicate elements from a list using a set.\n",
    "a=[25,27,26,25,78,26,28,80,26,21,24,27,25,90,78,]\n",
    "b=set(a)\n",
    "print(b)\n",
    "print(len(a))"
   ]
  },
  {
   "cell_type": "code",
   "execution_count": 8,
   "id": "f8b68843-fde7-4612-8967-352d339d692a",
   "metadata": {
    "execution": {
     "iopub.execute_input": "2025-06-21T13:07:05.078164Z",
     "iopub.status.busy": "2025-06-21T13:07:05.078164Z",
     "iopub.status.idle": "2025-06-21T13:07:05.086229Z",
     "shell.execute_reply": "2025-06-21T13:07:05.086229Z",
     "shell.execute_reply.started": "2025-06-21T13:07:05.078164Z"
    }
   },
   "outputs": [],
   "source": [
    "# Write a Python function that takes a tuple of numbers and returns a new tuple with only even numbers"
   ]
  },
  {
   "cell_type": "code",
   "execution_count": 9,
   "id": "26030c68-bd8c-4d2b-b39c-71f90c5fab32",
   "metadata": {
    "execution": {
     "iopub.execute_input": "2025-06-21T13:07:18.749960Z",
     "iopub.status.busy": "2025-06-21T13:07:18.749960Z",
     "iopub.status.idle": "2025-06-21T13:07:18.758909Z",
     "shell.execute_reply": "2025-06-21T13:07:18.758909Z",
     "shell.execute_reply.started": "2025-06-21T13:07:18.749960Z"
    }
   },
   "outputs": [],
   "source": [
    "# Write a program to count the frequency of each item in a tuple."
   ]
  },
  {
   "cell_type": "code",
   "execution_count": 10,
   "id": "8c54accd-b161-4ea1-a5e7-89c0f6d0cec0",
   "metadata": {
    "execution": {
     "iopub.execute_input": "2025-06-21T13:07:42.766427Z",
     "iopub.status.busy": "2025-06-21T13:07:42.766427Z",
     "iopub.status.idle": "2025-06-21T13:07:42.774008Z",
     "shell.execute_reply": "2025-06-21T13:07:42.774008Z",
     "shell.execute_reply.started": "2025-06-21T13:07:42.766427Z"
    }
   },
   "outputs": [],
   "source": [
    "# Write a Python program to find the repeated items of a tuple."
   ]
  },
  {
   "cell_type": "code",
   "execution_count": 11,
   "id": "38345f5d-1b7e-424a-bc2c-821e248fa827",
   "metadata": {
    "execution": {
     "iopub.execute_input": "2025-06-21T13:10:35.859335Z",
     "iopub.status.busy": "2025-06-21T13:10:35.859335Z",
     "iopub.status.idle": "2025-06-21T13:10:35.867142Z",
     "shell.execute_reply": "2025-06-21T13:10:35.866133Z",
     "shell.execute_reply.started": "2025-06-21T13:10:35.859335Z"
    }
   },
   "outputs": [
    {
     "name": "stdout",
     "output_type": "stream",
     "text": [
      "{1, 2, 3, 4, 5, 6}\n",
      "{3, 4}\n",
      "{1, 2}\n"
     ]
    }
   ],
   "source": [
    "# Write a Python program to create a union, intersection, and difference of two sets entered by the user\n",
    "set1={1,2,3,4}\n",
    "set2={3,4,5,6}\n",
    "my_set=set1.union(set2)\n",
    "print(my_set)\n",
    "set1={1,2,3,4}\n",
    "set2={3,4,5,6}\n",
    "my_set=set1.intersection(set2)\n",
    "print(my_set)\n",
    "set1={1,2,3,4}\n",
    "set2={3,4,5,6}\n",
    "my_set=set1.difference(set2)\n",
    "print(my_set)\n"
   ]
  },
  {
   "cell_type": "code",
   "execution_count": 14,
   "id": "201966f2-c01a-4a4d-85d9-616f1aba62c1",
   "metadata": {
    "execution": {
     "iopub.execute_input": "2025-06-21T13:21:28.523883Z",
     "iopub.status.busy": "2025-06-21T13:21:28.523883Z",
     "iopub.status.idle": "2025-06-21T13:21:28.530909Z",
     "shell.execute_reply": "2025-06-21T13:21:28.529847Z",
     "shell.execute_reply.started": "2025-06-21T13:21:28.523883Z"
    }
   },
   "outputs": [
    {
     "name": "stdout",
     "output_type": "stream",
     "text": [
      "32.5,34,67,shiva,12,82,mani,56.7\n"
     ]
    }
   ],
   "source": [
    "# Given a tuple of mixed data types, write a program to extract all string values\n",
    "tuple1={12,34,56.7,67,82,\"mani\",32.5,\"shiva\"}\n",
    "a,b,c,d,e,f,g,h=tuple1\n",
    "print(a,b,c,d,e,f,g,h,sep=',')"
   ]
  },
  {
   "cell_type": "code",
   "execution_count": null,
   "id": "b070c3da-e6fd-4c5f-834f-5f5aed3aae04",
   "metadata": {},
   "outputs": [],
   "source": []
  }
 ],
 "metadata": {
  "kernelspec": {
   "display_name": "Python [conda env:base] *",
   "language": "python",
   "name": "conda-base-py"
  },
  "language_info": {
   "codemirror_mode": {
    "name": "ipython",
    "version": 3
   },
   "file_extension": ".py",
   "mimetype": "text/x-python",
   "name": "python",
   "nbconvert_exporter": "python",
   "pygments_lexer": "ipython3",
   "version": "3.12.7"
  }
 },
 "nbformat": 4,
 "nbformat_minor": 5
}
