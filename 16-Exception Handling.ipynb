{
 "cells": [
  {
   "cell_type": "markdown",
   "id": "1eada16a-294b-4a27-81a7-1cb4bd057587",
   "metadata": {},
   "source": [
    "# Recursive Functions – 10 Questions\n"
   ]
  },
  {
   "cell_type": "code",
   "execution_count": 4,
   "id": "dce1374f-b9b9-4a64-866d-7f9ffe887152",
   "metadata": {
    "execution": {
     "iopub.execute_input": "2025-07-15T15:07:04.118419Z",
     "iopub.status.busy": "2025-07-15T15:07:04.118419Z",
     "iopub.status.idle": "2025-07-15T15:07:04.121592Z",
     "shell.execute_reply": "2025-07-15T15:07:04.121592Z",
     "shell.execute_reply.started": "2025-07-15T15:07:04.118419Z"
    }
   },
   "outputs": [],
   "source": [
    "#Factorial using recursion - Write a function to calculate the factorial of a number using recursion.\n",
    "def factorial(n):\n",
    "    if n == 0:\n",
    "        return 1   \n",
    "    else :\n",
    "        return n * factorial(n-1)"
   ]
  },
  {
   "cell_type": "code",
   "execution_count": 3,
   "id": "7942b1a7-2f2d-4eb9-a181-0d84e0f9f0c9",
   "metadata": {
    "execution": {
     "iopub.execute_input": "2025-07-15T15:04:44.255232Z",
     "iopub.status.busy": "2025-07-15T15:04:44.255232Z",
     "iopub.status.idle": "2025-07-15T15:04:47.098632Z",
     "shell.execute_reply": "2025-07-15T15:04:47.097561Z",
     "shell.execute_reply.started": "2025-07-15T15:04:44.255232Z"
    }
   },
   "outputs": [
    {
     "name": "stdin",
     "output_type": "stream",
     "text": [
      "enter a number: 5\n"
     ]
    },
    {
     "name": "stdout",
     "output_type": "stream",
     "text": [
      "factorial of 5 is 120\n"
     ]
    }
   ],
   "source": [
    "number = int(input(\"enter a number:\"))\n",
    "print(\"factorial of\",number , \"is\", factorial(number))"
   ]
  },
  {
   "cell_type": "code",
   "execution_count": 7,
   "id": "c3e90683-93a8-4fc7-b445-d55badf34daf",
   "metadata": {
    "execution": {
     "iopub.execute_input": "2025-07-15T16:19:19.743955Z",
     "iopub.status.busy": "2025-07-15T16:19:19.743955Z",
     "iopub.status.idle": "2025-07-15T16:19:19.756676Z",
     "shell.execute_reply": "2025-07-15T16:19:19.756676Z",
     "shell.execute_reply.started": "2025-07-15T16:19:19.743955Z"
    }
   },
   "outputs": [],
   "source": [
    "#Fibonacci series using recursion - Write a recursive function to return the nth Fibonacci number.\n",
    "def fibonacci(n):\n",
    "    if n == 0:\n",
    "        return 0\n",
    "    elif n == 1:\n",
    "        return 1\n",
    "    else:\n",
    "        return fibonacci(n - 1) + fibonacci(n - 2)\n"
   ]
  },
  {
   "cell_type": "code",
   "execution_count": 11,
   "id": "c10453eb-b908-4c75-8099-ca686bf83039",
   "metadata": {
    "execution": {
     "iopub.execute_input": "2025-07-15T16:20:17.115074Z",
     "iopub.status.busy": "2025-07-15T16:20:17.115074Z",
     "iopub.status.idle": "2025-07-15T16:20:22.403081Z",
     "shell.execute_reply": "2025-07-15T16:20:22.403081Z",
     "shell.execute_reply.started": "2025-07-15T16:20:17.115074Z"
    }
   },
   "outputs": [
    {
     "name": "stdin",
     "output_type": "stream",
     "text": [
      "Enter the position (n) to get the nth Fibonacci number:  6\n"
     ]
    },
    {
     "name": "stdout",
     "output_type": "stream",
     "text": [
      "The 6th Fibonacci number is 8\n"
     ]
    }
   ],
   "source": [
    "\n",
    "num = int(input(\"Enter the position (n) to get the nth Fibonacci number: \"))\n",
    "if num < 0:\n",
    "    print(\"Fibonacci number is not defined for negative integers.\")\n",
    "else:\n",
    "    print(f\"The {num}th Fibonacci number is {fibonacci(num)}\")\n"
   ]
  },
  {
   "cell_type": "code",
   "execution_count": 13,
   "id": "1a59f0f0-e546-4881-a36c-4973f42b4d1f",
   "metadata": {
    "execution": {
     "iopub.execute_input": "2025-07-15T16:42:48.495033Z",
     "iopub.status.busy": "2025-07-15T16:42:48.495033Z",
     "iopub.status.idle": "2025-07-15T16:42:51.746858Z",
     "shell.execute_reply": "2025-07-15T16:42:51.746858Z",
     "shell.execute_reply.started": "2025-07-15T16:42:48.495033Z"
    }
   },
   "outputs": [
    {
     "name": "stdin",
     "output_type": "stream",
     "text": [
      "Enter a number:  34\n"
     ]
    },
    {
     "name": "stdout",
     "output_type": "stream",
     "text": [
      "Sum of digits: 7\n"
     ]
    }
   ],
   "source": [
    "#Sum of digits - Use recursion to find the sum of digits of a number. e.g., 123 → 1+2+3 = 6\n",
    "def sum_of_digits(n):\n",
    "    # Base case: if n is 0, return 0\n",
    "    if n == 0:\n",
    "        return 0\n",
    "    else:\n",
    "        # Recursive case: last digit + sum of remaining digits\n",
    "        return n % 10 + sum_of_digits(n // 10)\n",
    "\n",
    "# Example usage:\n",
    "num = int(input(\"Enter a number: \"))\n",
    "if num < 0:\n",
    "    num = -num  # Handle negative numbers by converting to positive\n",
    "print(\"Sum of digits:\", sum_of_digits(num))\n"
   ]
  },
  {
   "cell_type": "code",
   "execution_count": 14,
   "id": "5c8ea8a5-b9f3-408f-b998-5cb30f5f4d98",
   "metadata": {
    "execution": {
     "iopub.execute_input": "2025-07-15T16:43:20.821753Z",
     "iopub.status.busy": "2025-07-15T16:43:20.821250Z",
     "iopub.status.idle": "2025-07-15T16:43:25.269865Z",
     "shell.execute_reply": "2025-07-15T16:43:25.269865Z",
     "shell.execute_reply.started": "2025-07-15T16:43:20.821753Z"
    }
   },
   "outputs": [
    {
     "name": "stdin",
     "output_type": "stream",
     "text": [
      "Enter a string:  vamsi\n"
     ]
    },
    {
     "name": "stdout",
     "output_type": "stream",
     "text": [
      "Reversed string: ismav\n"
     ]
    }
   ],
   "source": [
    "#Reverse a string recursively - Write a function to reverse a string using recursion.\n",
    "def reverse_string(s):\n",
    "    if len(s) <= 1:\n",
    "        return s\n",
    "    else:\n",
    "        return s[-1] + reverse_string(s[:-1])\n",
    "\n",
    "text = input(\"Enter a string: \")\n",
    "print(\"Reversed string:\", reverse_string(text))\n"
   ]
  },
  {
   "cell_type": "code",
   "execution_count": 15,
   "id": "42196e69-d440-4b94-a9f1-2cef8a2afc60",
   "metadata": {
    "execution": {
     "iopub.execute_input": "2025-07-15T16:45:56.404144Z",
     "iopub.status.busy": "2025-07-15T16:45:56.404144Z",
     "iopub.status.idle": "2025-07-15T16:46:23.629908Z",
     "shell.execute_reply": "2025-07-15T16:46:23.628840Z",
     "shell.execute_reply.started": "2025-07-15T16:45:56.404144Z"
    }
   },
   "outputs": [
    {
     "name": "stdin",
     "output_type": "stream",
     "text": [
      "Enter the base (x):  2\n",
      "Enter the exponent (n):  5\n"
     ]
    },
    {
     "name": "stdout",
     "output_type": "stream",
     "text": [
      "2.0^5 = 32.0\n"
     ]
    }
   ],
   "source": [
    "#Power function (x^n) - Implement a recursive function to compute x^n.\n",
    "def power(x, n):\n",
    "    if n == 0:\n",
    "        return 1\n",
    "    elif n < 0:\n",
    "        return 1 / power(x, -n)\n",
    "    else:\n",
    "        return x * power(x, n - 1)\n",
    "\n",
    "base = float(input(\"Enter the base (x): \"))\n",
    "exponent = int(input(\"Enter the exponent (n): \"))\n",
    "print(f\"{base}^{exponent} =\", power(base, exponent))\n"
   ]
  },
  {
   "cell_type": "code",
   "execution_count": 16,
   "id": "28c3badf-41b8-4976-84c0-c335394bdf53",
   "metadata": {
    "execution": {
     "iopub.execute_input": "2025-07-15T16:46:57.111144Z",
     "iopub.status.busy": "2025-07-15T16:46:57.111144Z",
     "iopub.status.idle": "2025-07-15T16:47:03.602603Z",
     "shell.execute_reply": "2025-07-15T16:47:03.602603Z",
     "shell.execute_reply.started": "2025-07-15T16:46:57.111144Z"
    }
   },
   "outputs": [
    {
     "name": "stdin",
     "output_type": "stream",
     "text": [
      "Enter a number:  424\n"
     ]
    },
    {
     "name": "stdout",
     "output_type": "stream",
     "text": [
      "424 is a palindrome.\n"
     ]
    }
   ],
   "source": [
    "#Check if a number is a palindrome using recursion - Convert number to string and check recursively.\n",
    "def is_palindrome(s):\n",
    "    if len(s) <= 1:\n",
    "        return True\n",
    "    if s[0] != s[-1]:\n",
    "        return False\n",
    "    return is_palindrome(s[1:-1])\n",
    "\n",
    "num = input(\"Enter a number: \")\n",
    "if is_palindrome(num):\n",
    "    print(num, \"is a palindrome.\")\n",
    "else:\n",
    "    print(num, \"is not a palindrome.\")\n"
   ]
  },
  {
   "cell_type": "code",
   "execution_count": 17,
   "id": "b47c30cf-7880-4555-902d-893d9cc426c8",
   "metadata": {
    "execution": {
     "iopub.execute_input": "2025-07-15T16:48:30.225835Z",
     "iopub.status.busy": "2025-07-15T16:48:30.225835Z",
     "iopub.status.idle": "2025-07-15T16:48:35.149808Z",
     "shell.execute_reply": "2025-07-15T16:48:35.148066Z",
     "shell.execute_reply.started": "2025-07-15T16:48:30.225835Z"
    }
   },
   "outputs": [
    {
     "name": "stdin",
     "output_type": "stream",
     "text": [
      "Enter first number:  2\n",
      "Enter second number:  3\n"
     ]
    },
    {
     "name": "stdout",
     "output_type": "stream",
     "text": [
      "GCD of 2 and 3 is 1\n"
     ]
    }
   ],
   "source": [
    "#GCD (Greatest Common Divisor) using recursion - Use Euclidean algorithm with recursion.\n",
    "def gcd(a, b):\n",
    "    if b == 0:\n",
    "        return a\n",
    "    else:\n",
    "        return gcd(b, a % b)\n",
    "\n",
    "x = int(input(\"Enter first number: \"))\n",
    "y = int(input(\"Enter second number: \"))\n",
    "print(f\"GCD of {x} and {y} is {gcd(x, y)}\")\n"
   ]
  },
  {
   "cell_type": "code",
   "execution_count": 18,
   "id": "0d4fe243-8d5b-42d3-b739-6bbc27015da9",
   "metadata": {
    "execution": {
     "iopub.execute_input": "2025-07-15T16:49:10.338197Z",
     "iopub.status.busy": "2025-07-15T16:49:10.338197Z",
     "iopub.status.idle": "2025-07-15T16:49:14.755885Z",
     "shell.execute_reply": "2025-07-15T16:49:14.755885Z",
     "shell.execute_reply.started": "2025-07-15T16:49:10.338197Z"
    }
   },
   "outputs": [
    {
     "name": "stdin",
     "output_type": "stream",
     "text": [
      "Enter a number:  45\n"
     ]
    },
    {
     "name": "stdout",
     "output_type": "stream",
     "text": [
      "Sum of first 45 natural numbers is 1035\n"
     ]
    }
   ],
   "source": [
    "#Find sum of first N natural numbers using recursion - Example: sum(5) = 1+2+3+4+5 = 15\n",
    "def sum_natural(n):\n",
    "    if n == 0:\n",
    "        return 0\n",
    "    else:\n",
    "        return n + sum_natural(n - 1)\n",
    "\n",
    "num = int(input(\"Enter a number: \"))\n",
    "if num < 0:\n",
    "    print(\"Please enter a non-negative number.\")\n",
    "else:\n",
    "    print(f\"Sum of first {num} natural numbers is {sum_natural(num)}\")\n"
   ]
  },
  {
   "cell_type": "code",
   "execution_count": 19,
   "id": "2d54a987-47c0-43a4-845e-f9eeb8c36073",
   "metadata": {
    "execution": {
     "iopub.execute_input": "2025-07-15T16:49:49.667845Z",
     "iopub.status.busy": "2025-07-15T16:49:49.667845Z",
     "iopub.status.idle": "2025-07-15T16:49:54.810576Z",
     "shell.execute_reply": "2025-07-15T16:49:54.810576Z",
     "shell.execute_reply.started": "2025-07-15T16:49:49.667845Z"
    }
   },
   "outputs": [
    {
     "name": "stdin",
     "output_type": "stream",
     "text": [
      "Enter a string:  vamsi\n"
     ]
    },
    {
     "name": "stdout",
     "output_type": "stream",
     "text": [
      "Number of vowels: 2\n"
     ]
    }
   ],
   "source": [
    "#Count total number of vowels in a string recursively - Input a string and count vowels using recursion.\n",
    "def count_vowels(s):\n",
    "    vowels = 'aeiouAEIOU'\n",
    "    if s == '':\n",
    "        return 0\n",
    "    if s[0] in vowels:\n",
    "        return 1 + count_vowels(s[1:])\n",
    "    else:\n",
    "        return count_vowels(s[1:])\n",
    "\n",
    "text = input(\"Enter a string: \")\n",
    "print(\"Number of vowels:\", count_vowels(text))\n"
   ]
  },
  {
   "cell_type": "code",
   "execution_count": 20,
   "id": "537efb89-41bb-40ce-85bc-36e96e650119",
   "metadata": {
    "execution": {
     "iopub.execute_input": "2025-07-15T16:51:31.985001Z",
     "iopub.status.busy": "2025-07-15T16:51:31.985001Z",
     "iopub.status.idle": "2025-07-15T16:51:37.379320Z",
     "shell.execute_reply": "2025-07-15T16:51:37.379320Z",
     "shell.execute_reply.started": "2025-07-15T16:51:31.985001Z"
    }
   },
   "outputs": [
    {
     "name": "stdin",
     "output_type": "stream",
     "text": [
      "Enter a string:  vamsi\n"
     ]
    },
    {
     "name": "stdout",
     "output_type": "stream",
     "text": [
      "Length of the string: 5\n"
     ]
    }
   ],
   "source": [
    "#Find the length of a string recursively - Without using len(), find the length using recursion.\n",
    "def string_length(s):\n",
    "    if s == '':\n",
    "        return 0\n",
    "    else:\n",
    "        return 1 + string_length(s[1:])\n",
    "\n",
    "text = input(\"Enter a string: \")\n",
    "print(\"Length of the string:\", string_length(text))\n"
   ]
  },
  {
   "cell_type": "markdown",
   "id": "37262fe0-d6e5-472c-b210-2e4fcf3dffac",
   "metadata": {},
   "source": [
    "# Exception Handling – 10 Questions"
   ]
  },
  {
   "cell_type": "code",
   "execution_count": 21,
   "id": "132c0adb-991c-4ad1-a7a1-ada1a74b3a0c",
   "metadata": {
    "execution": {
     "iopub.execute_input": "2025-07-15T16:53:00.027524Z",
     "iopub.status.busy": "2025-07-15T16:53:00.026491Z",
     "iopub.status.idle": "2025-07-15T16:53:10.767023Z",
     "shell.execute_reply": "2025-07-15T16:53:10.767023Z",
     "shell.execute_reply.started": "2025-07-15T16:53:00.027524Z"
    }
   },
   "outputs": [
    {
     "name": "stdin",
     "output_type": "stream",
     "text": [
      "Enter numerator:  23\n",
      "Enter denominator:  23\n"
     ]
    },
    {
     "name": "stdout",
     "output_type": "stream",
     "text": [
      "Result: 1.0\n"
     ]
    }
   ],
   "source": [
    "#Divide two numbers with exception handling - Handle ZeroDivisionError if denominator is 0.\n",
    "def divide(a, b):\n",
    "    try:\n",
    "        result = a / b\n",
    "        return result\n",
    "    except ZeroDivisionError:\n",
    "        return \"Error: Division by zero is not allowed.\"\n",
    "try:\n",
    "    numerator = float(input(\"Enter numerator: \"))\n",
    "    denominator = float(input(\"Enter denominator: \"))\n",
    "    print(\"Result:\", divide(numerator, denominator))\n",
    "except ValueError:\n",
    "    print(\"Error: Please enter valid numbers.\")\n"
   ]
  },
  {
   "cell_type": "code",
   "execution_count": 23,
   "id": "8d28f189-f7ce-4c50-96bc-b40e2ee4d3c0",
   "metadata": {
    "execution": {
     "iopub.execute_input": "2025-07-15T16:55:15.727556Z",
     "iopub.status.busy": "2025-07-15T16:55:15.727556Z",
     "iopub.status.idle": "2025-07-15T16:55:22.083053Z",
     "shell.execute_reply": "2025-07-15T16:55:22.083053Z",
     "shell.execute_reply.started": "2025-07-15T16:55:15.727556Z"
    }
   },
   "outputs": [
    {
     "name": "stdin",
     "output_type": "stream",
     "text": [
      "Enter numerator:  24\n",
      "Enter denominator:  24\n"
     ]
    },
    {
     "name": "stdout",
     "output_type": "stream",
     "text": [
      "Result: 1.0\n"
     ]
    }
   ],
   "source": [
    "#Handle multiple exceptions - Write a program that can raise ValueError, TypeError, or ZeroDivisionError and handle them appropriately.\n",
    "def safe_divide(a, b):\n",
    "    try:\n",
    "        if not isinstance(a, (int, float)) or not isinstance(b, (int, float)):\n",
    "            raise TypeError(\"Inputs must be numbers.\")\n",
    "        if b == 0:\n",
    "            raise ZeroDivisionError(\"Cannot divide by zero.\")\n",
    "        \n",
    "        return a / b\n",
    "\n",
    "    except TypeError as te:\n",
    "        print(\"TypeError:\", te)\n",
    "    except ZeroDivisionError as ze:\n",
    "        print(\"ZeroDivisionError:\", ze)\n",
    "    except ValueError as ve:\n",
    "        print(\"ValueError:\", ve)\n",
    "    except Exception as e:\n",
    "        print(\"An unexpected error occurred:\", e)\n",
    "try:\n",
    "    x = input(\"Enter numerator: \")\n",
    "    y = input(\"Enter denominator: \")\n",
    "    x = float(x)\n",
    "    y = float(y)\n",
    "    \n",
    "    result = safe_divide(x, y)\n",
    "    if result is not None:\n",
    "        print(\"Result:\", result)\n",
    "\n",
    "except ValueError:\n",
    "    print(\"ValueError: Please enter valid numeric input.\")\n",
    "\n",
    "\n",
    "    \n"
   ]
  },
  {
   "cell_type": "code",
   "execution_count": 25,
   "id": "6c374701-5cd5-41cd-9fde-023af484e5a8",
   "metadata": {
    "execution": {
     "iopub.execute_input": "2025-07-15T16:59:32.791605Z",
     "iopub.status.busy": "2025-07-15T16:59:32.791605Z",
     "iopub.status.idle": "2025-07-15T16:59:35.021453Z",
     "shell.execute_reply": "2025-07-15T16:59:35.021453Z",
     "shell.execute_reply.started": "2025-07-15T16:59:32.791605Z"
    }
   },
   "outputs": [
    {
     "name": "stdin",
     "output_type": "stream",
     "text": [
      "Enter a number:  3\n"
     ]
    },
    {
     "name": "stdout",
     "output_type": "stream",
     "text": [
      "Square root is: 1.7320508075688772\n"
     ]
    }
   ],
   "source": [
    "#Custom exception: NegativeNumberError - Create a custom exception when a negative number is input for square root.\n",
    "import math\n",
    "\n",
    "# Define custom exception\n",
    "class NegativeNumberError(Exception):\n",
    "    pass\n",
    "\n",
    "def find_square_root(n):\n",
    "    if n < 0:\n",
    "        raise NegativeNumberError(\"Square root of negative number is not allowed.\")\n",
    "    return math.sqrt(n)\n",
    "\n",
    "# Example usage:\n",
    "try:\n",
    "    num = float(input(\"Enter a number: \"))\n",
    "    result = find_square_root(num)\n",
    "    print(\"Square root is:\", result)\n",
    "\n",
    "except NegativeNumberError as e:\n",
    "    print(\"Custom Error:\", e)\n",
    "\n",
    "except ValueError:\n",
    "    print(\"Error: Invalid input. Please enter a numeric value.\")\n"
   ]
  },
  {
   "cell_type": "code",
   "execution_count": 26,
   "id": "60b604bc-4a7b-457d-8c53-33045df6c790",
   "metadata": {
    "execution": {
     "iopub.execute_input": "2025-07-15T16:59:37.957698Z",
     "iopub.status.busy": "2025-07-15T16:59:37.957698Z",
     "iopub.status.idle": "2025-07-15T16:59:40.824178Z",
     "shell.execute_reply": "2025-07-15T16:59:40.824178Z",
     "shell.execute_reply.started": "2025-07-15T16:59:37.957698Z"
    }
   },
   "outputs": [
    {
     "name": "stdout",
     "output_type": "stream",
     "text": [
      "Inside try block.\n"
     ]
    },
    {
     "name": "stdin",
     "output_type": "stream",
     "text": [
      "Enter a number:  4\n"
     ]
    },
    {
     "name": "stdout",
     "output_type": "stream",
     "text": [
      "Result: 2.5\n",
      "Inside finally block: This always runs.\n"
     ]
    }
   ],
   "source": [
    "#Try-except-finally demo - Show the flow of execution in try, except, and finally blocks with print statements.\n",
    "def demo_try_except_finally():\n",
    "    try:\n",
    "        print(\"Inside try block.\")\n",
    "        num = int(input(\"Enter a number: \"))\n",
    "        result = 10 / num\n",
    "        print(\"Result:\", result)\n",
    "    \n",
    "    except ZeroDivisionError:\n",
    "        print(\"Inside except block: Cannot divide by zero.\")\n",
    "    \n",
    "    except ValueError:\n",
    "        print(\"Inside except block: Invalid input.\")\n",
    "    \n",
    "    finally:\n",
    "        print(\"Inside finally block: This always runs.\")\n",
    "\n",
    "# Run the function\n",
    "demo_try_except_finally()\n"
   ]
  },
  {
   "cell_type": "code",
   "execution_count": 27,
   "id": "ff9e75b4-79f9-4ed6-b838-c2a0673d9f6f",
   "metadata": {
    "execution": {
     "iopub.execute_input": "2025-07-15T16:59:43.875259Z",
     "iopub.status.busy": "2025-07-15T16:59:43.873253Z",
     "iopub.status.idle": "2025-07-15T16:59:47.820725Z",
     "shell.execute_reply": "2025-07-15T16:59:47.820725Z",
     "shell.execute_reply.started": "2025-07-15T16:59:43.875259Z"
    }
   },
   "outputs": [
    {
     "name": "stdin",
     "output_type": "stream",
     "text": [
      "Enter an integer:  67\n"
     ]
    },
    {
     "name": "stdout",
     "output_type": "stream",
     "text": [
      "You entered: 67\n"
     ]
    }
   ],
   "source": [
    "#Input validation using exception - Ensure user enters an integer using try-except. Keep asking until valid.\n",
    "def get_valid_integer():\n",
    "    while True:\n",
    "        try:\n",
    "            num = int(input(\"Enter an integer: \"))\n",
    "            print(\"You entered:\", num)\n",
    "            break  # Exit loop if input is valid\n",
    "        except ValueError:\n",
    "            print(\"Invalid input. Please enter a valid integer.\")\n",
    "\n",
    "# Run the function\n",
    "get_valid_integer()\n"
   ]
  },
  {
   "cell_type": "code",
   "execution_count": 29,
   "id": "cc297b16-049b-4de5-85bc-0b18eb5a9ff0",
   "metadata": {
    "execution": {
     "iopub.execute_input": "2025-07-15T17:00:00.376515Z",
     "iopub.status.busy": "2025-07-15T17:00:00.376515Z",
     "iopub.status.idle": "2025-07-15T17:00:04.359907Z",
     "shell.execute_reply": "2025-07-15T17:00:04.359907Z",
     "shell.execute_reply.started": "2025-07-15T17:00:00.376515Z"
    }
   },
   "outputs": [
    {
     "name": "stdin",
     "output_type": "stream",
     "text": [
      "Enter the filename to open:  vamsi\n"
     ]
    },
    {
     "name": "stdout",
     "output_type": "stream",
     "text": [
      "Error: The file 'vamsi' was not found.\n"
     ]
    }
   ],
   "source": [
    "#Open a file and handle FileNotFoundError - Attempt to open a non-existent file and handle the exception.\n",
    "def open_file(filename):\n",
    "    try:\n",
    "        with open(filename, 'r') as file:\n",
    "            content = file.read()\n",
    "            print(\"File content:\\n\", content)\n",
    "    except FileNotFoundError:\n",
    "        print(f\"Error: The file '{filename}' was not found.\")\n",
    "\n",
    "# Example usage:\n",
    "filename = input(\"Enter the filename to open: \")\n",
    "open_file(filename)\n"
   ]
  },
  {
   "cell_type": "code",
   "execution_count": 30,
   "id": "99d8557a-0534-4793-add2-758eef4338d5",
   "metadata": {
    "execution": {
     "iopub.execute_input": "2025-07-15T17:00:07.665500Z",
     "iopub.status.busy": "2025-07-15T17:00:07.665500Z",
     "iopub.status.idle": "2025-07-15T17:00:09.595259Z",
     "shell.execute_reply": "2025-07-15T17:00:09.595259Z",
     "shell.execute_reply.started": "2025-07-15T17:00:07.665500Z"
    }
   },
   "outputs": [
    {
     "name": "stdin",
     "output_type": "stream",
     "text": [
      "Enter a number:  3\n"
     ]
    },
    {
     "name": "stdout",
     "output_type": "stream",
     "text": [
      "Factorial of 3 is 6\n"
     ]
    }
   ],
   "source": [
    "#Catch exception in a recursive function - Modify the factorial function to raise an exception if a negative number is passed.\n",
    "def factorial(n):\n",
    "    if n < 0:\n",
    "        raise ValueError(\"Factorial is not defined for negative numbers.\")\n",
    "    elif n == 0 or n == 1:\n",
    "        return 1\n",
    "    else:\n",
    "        return n * factorial(n - 1)\n",
    "\n",
    "# Example usage:\n",
    "try:\n",
    "    num = int(input(\"Enter a number: \"))\n",
    "    result = factorial(num)\n",
    "    print(\"Factorial of\", num, \"is\", result)\n",
    "except ValueError as ve:\n",
    "    print(\"Error:\", ve)\n"
   ]
  },
  {
   "cell_type": "code",
   "execution_count": null,
   "id": "7b8323b4-7827-4320-96ed-25e84251a5af",
   "metadata": {
    "execution": {
     "iopub.execute_input": "2025-07-15T17:00:11.853612Z",
     "iopub.status.busy": "2025-07-15T17:00:11.853612Z"
    }
   },
   "outputs": [],
   "source": [
    "#Using else with try-except - Write a code snippet showing try-except-else and explain when else runs.\n",
    "def divide_numbers():\n",
    "    try:\n",
    "        a = int(input(\"Enter numerator: \"))\n",
    "        b = int(input(\"Enter denominator: \"))\n",
    "        result = a / b\n",
    "    except ValueError:\n",
    "        print(\"Error: Please enter valid integers.\")\n",
    "    except ZeroDivisionError:\n",
    "        print(\"Error: Cannot divide by zero.\")\n",
    "    else:\n",
    "        # Runs only if no exception occurred in try block\n",
    "        print(\"Division successful. Result:\", result)\n",
    "\n",
    "# Run the function\n",
    "divide_numbers()\n"
   ]
  },
  {
   "cell_type": "code",
   "execution_count": null,
   "id": "0e41fcff-52b6-4b6a-a2de-d4f4aa4ac518",
   "metadata": {},
   "outputs": [],
   "source": [
    "#IndexError handling - Write a program to access a list element and handle if index is out of range.\n",
    "def access_list_element():\n",
    "    items = [10, 20, 30, 40, 50]\n",
    "    try:\n",
    "        index = int(input(\"Enter the index to access (0 to 4): \"))\n",
    "        print(\"Element at index\", index, \"is\", items[index])\n",
    "    except IndexError:\n",
    "        print(\"Error: Index out of range. Please enter a valid index between 0 and\", len(items)-1)\n",
    "    except ValueError:\n",
    "        print(\"Error: Please enter a valid integer.\")\n",
    "\n",
    "# Run the function\n",
    "access_list_element()\n"
   ]
  },
  {
   "cell_type": "code",
   "execution_count": 24,
   "id": "31a53a68-f2f2-48c8-9887-3572e5c86c14",
   "metadata": {
    "execution": {
     "iopub.execute_input": "2025-07-15T16:59:17.093058Z",
     "iopub.status.busy": "2025-07-15T16:59:17.093058Z",
     "iopub.status.idle": "2025-07-15T16:59:21.214451Z",
     "shell.execute_reply": "2025-07-15T16:59:21.214451Z",
     "shell.execute_reply.started": "2025-07-15T16:59:17.093058Z"
    }
   },
   "outputs": [
    {
     "name": "stdin",
     "output_type": "stream",
     "text": [
      "Enter amount to withdraw:  3000\n"
     ]
    },
    {
     "name": "stdout",
     "output_type": "stream",
     "text": [
      "Error: Not enough balance.\n"
     ]
    }
   ],
   "source": [
    "#Raise and handle a custom exception in a class - Create a BankAccount class and raise an exception if withdrawal amount > balance.\n",
    "class InsufficientFundsError(Exception):\n",
    "    pass\n",
    "class BankAccount:\n",
    "    def __init__(self, balance):\n",
    "        self.balance = balance\n",
    "\n",
    "    def withdraw(self, amount):\n",
    "        if amount > self.balance:\n",
    "            raise InsufficientFundsError(\"Not enough balance.\")\n",
    "        self.balance -= amount\n",
    "        print(\"Withdrawal successful. New balance:\", self.balance)\n",
    "\n",
    "try:\n",
    "    account = BankAccount(1000)\n",
    "    amount = float(input(\"Enter amount to withdraw: \"))\n",
    "    account.withdraw(amount)\n",
    "\n",
    "except InsufficientFundsError as e:\n",
    "    print(\"Error:\", e)\n",
    "\n",
    "except ValueError:\n",
    "    print(\"Please enter a valid number.\")\n"
   ]
  },
  {
   "cell_type": "code",
   "execution_count": null,
   "id": "5bb1a430-330b-4b8c-bd79-f436e6376918",
   "metadata": {},
   "outputs": [],
   "source": []
  },
  {
   "cell_type": "code",
   "execution_count": null,
   "id": "2e58f7b4-7389-4d71-93c2-aecb39947287",
   "metadata": {},
   "outputs": [],
   "source": []
  },
  {
   "cell_type": "code",
   "execution_count": null,
   "id": "99505cf3-3485-445d-b60d-8c7f3f8333ac",
   "metadata": {},
   "outputs": [],
   "source": []
  },
  {
   "cell_type": "code",
   "execution_count": null,
   "id": "39eed017-23f1-4748-8a6f-24293931a660",
   "metadata": {},
   "outputs": [],
   "source": []
  },
  {
   "cell_type": "code",
   "execution_count": null,
   "id": "f8e21652-c6a9-4fdd-9c81-ebf4bb84c3c9",
   "metadata": {},
   "outputs": [],
   "source": []
  }
 ],
 "metadata": {
  "kernelspec": {
   "display_name": "Python [conda env:base] *",
   "language": "python",
   "name": "conda-base-py"
  },
  "language_info": {
   "codemirror_mode": {
    "name": "ipython",
    "version": 3
   },
   "file_extension": ".py",
   "mimetype": "text/x-python",
   "name": "python",
   "nbconvert_exporter": "python",
   "pygments_lexer": "ipython3",
   "version": "3.12.7"
  }
 },
 "nbformat": 4,
 "nbformat_minor": 5
}
